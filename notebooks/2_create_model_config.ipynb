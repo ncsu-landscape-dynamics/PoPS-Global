{
 "cells": [
  {
   "cell_type": "markdown",
   "metadata": {},
   "source": [
    "# Generate a Configuration File to Run the Pandemic Model\n",
    "\n",
    "This notebook creates a configuration file to run a particular model scenario. Some parameters will be fixed across your case study. Others (calibrated parameters: alpha, lamda, beta, start_year) can be set as a range to be calibrated and later sampled to run the complete forecasts."
   ]
  },
  {
   "cell_type": "markdown",
   "metadata": {},
   "source": [
    "## Imports"
   ]
  },
  {
   "cell_type": "code",
   "execution_count": null,
   "metadata": {},
   "outputs": [],
   "source": [
    "import os\n",
    "import json\n",
    "import dotenv"
   ]
  },
  {
   "cell_type": "markdown",
   "metadata": {},
   "source": [
    "## Load Environment Variables and Set Paths"
   ]
  },
  {
   "cell_type": "code",
   "execution_count": null,
   "metadata": {},
   "outputs": [],
   "source": [
    "# Navigate one level up to the main repository\n",
    "os.chdir('..')"
   ]
  },
  {
   "cell_type": "code",
   "execution_count": null,
   "metadata": {},
   "outputs": [],
   "source": [
    "# Read environmental variables\n",
    "env_file = os.path.join('.env') \n",
    "dotenv.load_dotenv(env_file)\n",
    "\n",
    "input_dir = os.getenv('INPUT_PATH')\n",
    "out_dir = os.getenv('OUTPUT_PATH')"
   ]
  },
  {
   "cell_type": "markdown",
   "metadata": {},
   "source": [
    "## Set Model Parameters\n",
    "Depending on how you will be running the model, arguments will be provided in different ways.\n",
    "\n",
    "- **To run the model once** (e.g. to conduct a test run): Set the single sample test-run values (below), and run the model in notebook 3a (interactive). We recommend running the model interactively first to test that your input data and model configuration is correct and working.\n",
    "- **To calibrate the model over a range of possible parameter values** (i.e. to fit key model parameters to the data): Set range of calibrated parameters (below), and run the model in notebook 3b.  \n",
    "- **To provide a sample of parameter sets**: After conducting the grid search and evaluating the results (3b), use (3c) to generate sampled parameter sets and run a forecast of the model. "
   ]
  },
  {
   "cell_type": "markdown",
   "metadata": {},
   "source": [
    "## Define Argument Values"
   ]
  },
  {
   "cell_type": "code",
   "execution_count": null,
   "metadata": {},
   "outputs": [],
   "source": [
    "args = {}"
   ]
  },
  {
   "cell_type": "markdown",
   "metadata": {},
   "source": [
    "### Name your configuration scenario"
   ]
  },
  {
   "cell_type": "code",
   "execution_count": null,
   "metadata": {},
   "outputs": [],
   "source": [
    "# What should this model scenario be called\n",
    "short_name = 'slf'\n",
    "\n",
    "# What additional description defines this scenario\n",
    "# e.g., specific parameter/value of interest + commodity range\n",
    "add_descript = 'ensemble_rerun'\n",
    "\n",
    "args[\"sim_name\"] = f\"{short_name}_{add_descript}\""
   ]
  },
  {
   "cell_type": "markdown",
   "metadata": {},
   "source": [
    "### Commodity Data"
   ]
  },
  {
   "cell_type": "code",
   "execution_count": null,
   "metadata": {},
   "outputs": [],
   "source": [
    "# Which temporal resolution, commodities or aggregation should be used\n",
    "# for historical trade data:\n",
    "\n",
    "args[\"timestep\"] = \"monthly\" # \"monthly\" or \"annual\"\n",
    "args[\"trade_type\"] = \"adjusted\" # \"adjusted\" (for individual commodities) or \"agg\"\n",
    "\n",
    "args[\"commodity_list\"] = [\"6802-6803\"]\n"
   ]
  },
  {
   "cell_type": "code",
   "execution_count": null,
   "metadata": {},
   "outputs": [],
   "source": [
    "# Which temporal resolution, commodities or aggregation should be used\n",
    "# for historical trade data:\n",
    "commodity_data_path = os.path.join(input_dir, f\"comtrade/{timestep}_{trade_type}/\")\n",
    "\n",
    "# Which matching temporal resoultion, commodities, and aggregation should\n",
    "# be used for forecated trade data. If no forecast is desired, set argument\n",
    "# to None.\n",
    "commodity_forecast_path = os.path.join(input_dir + f\"comtrade/trade_forecast/{timestep}_{trade_type}/\")\n",
    "\n",
    "args[\"commodity_path\"] = commodity_data_path\n",
    "args[\"commodity_forecast_path\"] = commodity_forecast_path"
   ]
  },
  {
   "cell_type": "code",
   "execution_count": null,
   "metadata": {},
   "outputs": [],
   "source": [
    "# Option to include the path to a lamda weights .csv\n",
    "\n",
    "args[\"lamda_weights_path\"] = None"
   ]
  },
  {
   "cell_type": "markdown",
   "metadata": {},
   "source": [
    "### Pest Native to Which Countries?"
   ]
  },
  {
   "cell_type": "code",
   "execution_count": null,
   "metadata": {},
   "outputs": [],
   "source": [
    "# Countries where the pest is native or present at first time step of the model run\n",
    "args[\"native_countries_list\"] = [\"China\", \"Viet Nam\"]"
   ]
  },
  {
   "cell_type": "markdown",
   "metadata": {},
   "source": [
    "### During which months can the pest be present in the shipment?"
   ]
  },
  {
   "cell_type": "code",
   "execution_count": null,
   "metadata": {},
   "outputs": [],
   "source": [
    "# List of months when pest can be transported\n",
    "args[\"season_dict\"] = {\n",
    "    \"NH_season\": [\"09\", \"10\", \"11\", \"12\", \"01\", \"02\", \"03\", \"04\"],\n",
    "    \"SH_season\": [\"04\", \"05\", \"06\", \"07\", \"08\", \"09\", \"10\"],\n",
    "}"
   ]
  },
  {
   "cell_type": "markdown",
   "metadata": {},
   "source": [
    "### Model Parameter Values"
   ]
  },
  {
   "cell_type": "code",
   "execution_count": null,
   "metadata": {},
   "outputs": [],
   "source": [
    "# Define test-run parameter values (single sample)\n",
    "\n",
    "args[\"alpha\"] = 0.7\n",
    "args[\"beta\"] = 0.5\n",
    "args[\"lamda_c_list\"] = [0.8]  # list length matches number of commodities\n",
    "args[\"start_year\"] = 2005\n"
   ]
  },
  {
   "cell_type": "code",
   "execution_count": null,
   "metadata": {},
   "outputs": [],
   "source": [
    "# Define grid-search range of calibrated parameter values\n",
    "\n",
    "args[\"alphas\"] = [0.7]\n",
    "args[\"betas\"] = [0.5]\n",
    "args[\"lamdas\"] = [0.8]  # list length matches number of commodities\n",
    "# grid-search is currently configured to only handle a single lambda value/single commodity\n",
    "# I'm not sure how we should handle the calibration stats if there are multiple parameters - concat the introductions if all\n",
    "# params (except... lambda? not sure how we will ID the pairs with how it is currently formulated - need to change\n",
    "# the write-out to include both sets) + run number.... hmmmmmmm I guess that would work, and is actually a best\n",
    "# case scenario because calibration is only 2x instead of len(lambda)\n",
    "\n",
    "args[\"start_years\"] = [2005]\n",
    "\n",
    "args[\"run_count\"] = 80 # How many runs to complete for each parameter set\n",
    "args[\"start_run\"] = 0 \n",
    "args[\"end_run\"] = 79 \n"
   ]
  },
  {
   "cell_type": "code",
   "execution_count": null,
   "metadata": {},
   "outputs": [],
   "source": [
    "# Define static parameter values \n",
    "# (Note to self - add definitions in comments)\n",
    "\n",
    "args[\"mu\"] = 0.0\n",
    "args[\"phi\"] = 1\n",
    "args[\"w_phi\"] = 1\n",
    "args[\"sigma_epsilon\"] = 0.5\n",
    "args[\"sigma_phi\"] = 1\n",
    "args[\"start_year\"] = 2005\n",
    "args[\"stop_year\"] = 2019\n",
    "args[\"transmission_lag_unit\"] = \"year\"\n",
    "args[\"transmission_lag_type\"] = \"stochastic\"  # can be static, stochastic or none\n",
    "args[\"time_to_infectivity\"] = None\n",
    "args[\"transmission_lag_shape\"] = 4  # only for lag type stochastic\n",
    "args[\"transmission_lag_scale\"] = 1  # only for lag type stochastic\n",
    "args[\"random_seed\"] = None"
   ]
  },
  {
   "cell_type": "code",
   "execution_count": null,
   "metadata": {},
   "outputs": [],
   "source": [
    "# Define transmission lag values\n",
    "\n",
    "args[\"transmission_lag_type\"] = \"stochastic\"\n",
    "args[\"gamma_shape\"] = 4\n",
    "args[\"gamma_scale\"] = 1\n",
    "\n",
    "\n",
    "# Include parameters from data acquisition \n",
    "# (note, maybe we can define configs first, and then use them for\n",
    "# the deta acquisition process too....)\n",
    "\n",
    "args[\"threshold_val\"] = \"\"\n",
    "args[\"scaled_min\"] = 0.3\n",
    "args[\"scaled_max\"] = 0.8\n",
    "\n"
   ]
  },
  {
   "cell_type": "code",
   "execution_count": null,
   "metadata": {},
   "outputs": [],
   "source": [
    "# Save n x n matrices for each time step where n is the number of countries, \n",
    "# and values represent the origin-destination probability of entry or \n",
    "# probability of establishment \n",
    "args[\"save_entry\"] = False\n",
    "args[\"save_estab\"] = False\n",
    "args[\"save_intro\"] = False\n",
    "args[\"save_country_intros\"] = False"
   ]
  },
  {
   "cell_type": "markdown",
   "metadata": {},
   "source": [
    "### Define scenarios (optional)"
   ]
  },
  {
   "cell_type": "code",
   "execution_count": null,
   "metadata": {},
   "outputs": [],
   "source": [
    "# scenario_list = []\n",
    "\n",
    "# for i in range(2010, 2030):\n",
    "#     start_scenario = [2010, 'CHN', 'USA', 'decrease', 1]\n",
    "#     new_scenario = start_scenario\n",
    "#     new_scenario[0] = i\n",
    "#     scenario_list .append(new_scenario)\n",
    "    \n",
    "# for i in range(2014, 2030):\n",
    "#     start_scenario = [2014, 'JPN', 'USA', 'decrease', 0.8]\n",
    "#     new_scenario = start_scenario\n",
    "#     new_scenario[0] = i\n",
    "#     scenario_list .append(new_scenario)\n",
    "    \n",
    "# for i in range(2014, 2030):\n",
    "#     start_scenario = [2014, 'KOR', 'USA', 'decrease', 0.8]\n",
    "#     new_scenario = start_scenario\n",
    "#     new_scenario[0] = i\n",
    "#     scenario_list .append(new_scenario)\n",
    "    \n",
    "# for i in range(2020, 2030):\n",
    "#     start_scenario = [2020, 'ITA', 'USA', 'decrease', 0.8]\n",
    "#     new_scenario = start_scenario\n",
    "#     new_scenario[0] = i\n",
    "#     scenario_list .append(new_scenario)\n",
    "    \n",
    "# for i in range(2020, 2030):\n",
    "#     start_scenario = [2020, 'TUR', 'USA', 'decrease', 0.8]\n",
    "#     new_scenario = start_scenario\n",
    "#     new_scenario[0] = i\n",
    "#     scenario_list .append(new_scenario)"
   ]
  },
  {
   "cell_type": "markdown",
   "metadata": {},
   "source": [
    "## Configure summary statistics"
   ]
  },
  {
   "cell_type": "code",
   "execution_count": null,
   "metadata": {},
   "outputs": [],
   "source": [
    "# What is your primary country of interest? (format = ISO3 code)\n",
    "args[\"coi\"] = \"USA\"\n",
    "\n",
    "# Calculate cumulative probability of intro to COI for the following years:\n",
    "\n",
    "args[\"sim_years\"] = [2014, 2020]"
   ]
  },
  {
   "cell_type": "markdown",
   "metadata": {},
   "source": [
    "# Cores to use for parallel processing"
   ]
  },
  {
   "cell_type": "code",
   "execution_count": null,
   "metadata": {},
   "outputs": [],
   "source": [
    "args[\"cores\"] = 4"
   ]
  },
  {
   "cell_type": "markdown",
   "metadata": {},
   "source": [
    "## Write and save configuration file"
   ]
  },
  {
   "cell_type": "code",
   "execution_count": null,
   "metadata": {},
   "outputs": [],
   "source": [
    "# config_json_path = f\"{out_dir}/config_files/{short_name}_{add_descript}/config.json\"\n",
    "config_json_path = \"config.json\"\n",
    "\n",
    "# if not os.path.exists(os.path.split(config_json_path)[0]):\n",
    "#     os.makedirs(os.path.split(config_json_path)[0])\n",
    "\n",
    "with open(config_json_path, \"w\") as file:\n",
    "    json.dump(args, file, indent=4)\n",
    "\n",
    "print(\"\\tSaved \", config_json_path)"
   ]
  },
  {
   "cell_type": "code",
   "execution_count": null,
   "metadata": {},
   "outputs": [],
   "source": [
    "# Save global variables to .env file \n",
    "\n",
    "# print(dotenv.set_key(\".env\", \"CONFIG_PATH\", config_json_path))\n",
    "\n"
   ]
  }
 ],
 "metadata": {
  "kernelspec": {
   "display_name": "Python 3",
   "language": "python",
   "name": "python3"
  },
  "language_info": {
   "codemirror_mode": {
    "name": "ipython",
    "version": 3
   },
   "file_extension": ".py",
   "mimetype": "text/x-python",
   "name": "python",
   "nbconvert_exporter": "python",
   "pygments_lexer": "ipython3",
   "version": "3.8.11"
  }
 },
 "nbformat": 4,
 "nbformat_minor": 4
}
