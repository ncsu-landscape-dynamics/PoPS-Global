{
 "cells": [
  {
   "cell_type": "markdown",
   "metadata": {},
   "source": [
    "# Generate a Configuration File to Run the Pandemic Model\n",
    "\n",
    "This notebook creates a configuration file to run a particular model scenario. Some parameters will be fixed across\n",
    "your case study. Others (calibrated parameters: alpha, lamda, beta, start_year) can be set as a range to be calibrated\n",
    "and later sampled to run the complete forecasts."
   ]
  },
  {
   "cell_type": "markdown",
   "metadata": {},
   "source": [
    "## Imports"
   ]
  },
  {
   "cell_type": "code",
   "execution_count": null,
   "metadata": {},
   "outputs": [],
   "source": [
    "import os\n",
    "import json\n",
    "import dotenv"
   ]
  },
  {
   "cell_type": "markdown",
   "metadata": {},
   "source": [
    "## Load Environment Variables and Set Paths"
   ]
  },
  {
   "cell_type": "code",
   "execution_count": null,
   "metadata": {},
   "outputs": [],
   "source": [
    "# Navigate one level up to the main repository\n",
    "os.chdir('..')"
   ]
  },
  {
   "cell_type": "code",
   "execution_count": null,
   "metadata": {},
   "outputs": [],
   "source": [
    "# Read environmental variables\n",
    "env_file = os.path.join('.env') \n",
    "dotenv.load_dotenv(env_file)\n",
    "\n",
    "input_dir = os.getenv('INPUT_PATH')\n",
    "out_dir = os.getenv('OUTPUT_PATH')"
   ]
  },
  {
   "cell_type": "code",
   "execution_count": null,
   "metadata": {},
   "outputs": [],
   "source": [
    "config_json_path = \"config.json\"\n",
    "\n",
    "if os.path.isfile(config_json_path):\n",
    "    with open(config_json_path) as file:\n",
    "        prev_config = json.load(file)"
   ]
  },
  {
   "cell_type": "markdown",
   "metadata": {},
   "source": [
    "## Set Model Parameters\n",
    "Depending on how you will be running the model, arguments will be provided in different ways.\n",
    "\n",
    "- **To run the model once** (e.g. to conduct a test run): Set the single sample test-run values (below), and run the\n",
    "model in notebook 3a (interactive). We recommend running the model interactively first to test that your input data and\n",
    "model configuration is correct and working.\n",
    "- **To calibrate the model over a range of possible parameter values** (i.e. to fit key model parameters to the data):\n",
    "Set range of calibrated parameters (below), and run the model in notebook 3b.  \n",
    "- **To provide a sample of parameter sets**: After conducting the grid search and evaluating the results (3b), use (3c)\n",
    "to generate sampled parameter sets and run a forecast of the model. \n",
    "\n",
    "You can include the parameters for all three types of runs in this configuration notebook, and the config.json file \n",
    "only needs to be created once. However, if you need to modify the parameter values (e.g. to test out a different value, \n",
    "make a correction, or expand your grid search parameter range), you should re-run this notebook to upate the config.\n",
    "json file. "
   ]
  },
  {
   "cell_type": "markdown",
   "metadata": {},
   "source": [
    "### Define empty dictionary \n",
    "All parameter values will be added to the dictionary, and saved as a JSON file. "
   ]
  },
  {
   "cell_type": "code",
   "execution_count": null,
   "metadata": {},
   "outputs": [],
   "source": [
    "args = {}"
   ]
  },
  {
   "cell_type": "markdown",
   "metadata": {},
   "source": [
    "### Name your configuration scenario"
   ]
  },
  {
   "cell_type": "code",
   "execution_count": null,
   "metadata": {},
   "outputs": [],
   "source": [
    "# What should this model scenario be called\n",
    "short_name = 'slf'\n",
    "\n",
    "# What additional description defines this scenario\n",
    "# e.g., specific parameter/value of interest + commodity range\n",
    "add_descript = 'ensemble_rerun'\n",
    "\n",
    "args[\"sim_name\"] = f\"{short_name}_{add_descript}\""
   ]
  },
  {
   "cell_type": "markdown",
   "metadata": {},
   "source": [
    "### Commodity Data\n",
    "\n",
    "This information is already included from notebook 1 Data Acquisition. However, you can optionally update the values\n",
    "here, e.g. to toggle between different trade options that you have already acquired data for. "
   ]
  },
  {
   "cell_type": "code",
   "execution_count": null,
   "metadata": {},
   "outputs": [],
   "source": [
    "# Which temporal resolution, commodities or aggregation should be used\n",
    "# for historical trade data:\n",
    "\n",
    "if prev_config:\n",
    "    timestep = prev_config[\"timestep\"]\n",
    "    trade_type = prev_config[\"trade_type\"]\n",
    "    commodity_list = prev_config[\"commodity_list\"]\n",
    "\n",
    "    print(f\"Timestep: {timestep}, Trade Type: {trade_type}, Commodity list: {commodity_list}\")\n",
    "\n",
    "# Pulled from Data Aquisition. Option to modify below (e.g. to toggle between sets of already-acquired trade data)\n",
    "\n",
    "# timestep = \"monthly\" # \"monthly\" or \"annual\"\n",
    "# trade_type = \"adjusted\" # \"adjusted\" (for individual commodities) or \"agg\"\n",
    "# commodity_list = [\"6802-6803\"]"
   ]
  },
  {
   "cell_type": "code",
   "execution_count": null,
   "metadata": {},
   "outputs": [],
   "source": [
    "# Create paths\n",
    "commodity_data_path = os.path.join(input_dir, f\"comtrade/{timestep}_{trade_type}/\")\n",
    "\n",
    "# If no forecast is desired, set argument to None.\n",
    "commodity_forecast_path = os.path.join(input_dir + f\"comtrade/trade_forecast/{timestep}_{trade_type}/\")\n",
    "\n",
    "# Write to args \n",
    "args[\"timestep\"] = timestep # \"monthly\" or \"annual\"\n",
    "args[\"trade_type\"] = trade_type # \"adjusted\" (for individual commodities) or \"agg\"\n",
    "args[\"commodity_list\"] = commodity_list\n",
    "\n",
    "args[\"commodity_path\"] = commodity_data_path\n",
    "args[\"commodity_forecast_path\"] = commodity_forecast_path"
   ]
  },
  {
   "cell_type": "code",
   "execution_count": null,
   "metadata": {},
   "outputs": [],
   "source": [
    "# Option to include the path to a lamda weights .csv\n",
    "\n",
    "args[\"lamda_weights_path\"] = None"
   ]
  },
  {
   "cell_type": "markdown",
   "metadata": {},
   "source": [
    "### Pest Native to Which Countries?\n",
    "\n",
    "This information is already included from notebook 1 Data Acquisition."
   ]
  },
  {
   "cell_type": "code",
   "execution_count": null,
   "metadata": {},
   "outputs": [],
   "source": [
    "# Countries where the pest is native or present at first time step of the model run\n",
    "\n",
    "if prev_config:\n",
    "    args[\"native_countries_list\"] = prev_config[\"native_countries_list\"]\n",
    "    print(f'Native countries list: {args[\"native_countries_list\"]}')\n",
    "\n",
    "# Pulled from Data Aquisition. Option to modify below (NOT recommended)\n",
    "\n",
    "# args[\"native_countries_list\"] = [\"China\", \"Viet Nam\"]"
   ]
  },
  {
   "cell_type": "markdown",
   "metadata": {},
   "source": [
    "### During which months can the pest be present in the shipment?"
   ]
  },
  {
   "cell_type": "code",
   "execution_count": null,
   "metadata": {},
   "outputs": [],
   "source": [
    "# List of months when pest can be transported\n",
    "args[\"season_dict\"] = {\n",
    "    \"NH_season\": [\"09\", \"10\", \"11\", \"12\", \"01\", \"02\", \"03\", \"04\"],\n",
    "    \"SH_season\": [\"04\", \"05\", \"06\", \"07\", \"08\", \"09\", \"10\"],\n",
    "}"
   ]
  },
  {
   "cell_type": "markdown",
   "metadata": {},
   "source": [
    "### Model Equation Parameter Values - Single Run \n",
    "\n",
    "Define the parameter values for the model equation, to be used in a single test run. "
   ]
  },
  {
   "cell_type": "code",
   "execution_count": null,
   "metadata": {},
   "outputs": [],
   "source": [
    "# Define test-run parameter values (single sample)\n",
    "\n",
    "args[\"alpha\"] = 0.7\n",
    "args[\"beta\"] = 0.5\n",
    "args[\"lamda_c_list\"] = [0.8] \n",
    "args[\"start_year\"] = 2005\n",
    "\n",
    "\n",
    "# Confirm that the length of lambda_c_list matches that of the commodity_list\n",
    "\n",
    "print(\"Commodity match check:\")\n",
    "\n",
    "if len(args[\"lamda_c_list\"])==len(args[\"commodity_list\"]):\n",
    "    print(\"The length of the commodity list and the commodity parameter (lamda) match!\")\n",
    "else: \n",
    "    print(\n",
    "        \"OOPS! The length of the commodity list and commodity parameter (lamda) do not match.\\n\"\n",
    "        \"Please correct either to ensure that the model will be able to run.\")"
   ]
  },
  {
   "cell_type": "markdown",
   "metadata": {},
   "source": [
    "### Model Equation Parameter Values - Calibration Runs\n",
    "\n",
    "Define the parameter values for the model equation, to be used in a calibration grid-search. "
   ]
  },
  {
   "cell_type": "code",
   "execution_count": null,
   "metadata": {},
   "outputs": [],
   "source": [
    "# Define grid-search range of calibrated parameter values\n",
    "\n",
    "args[\"alphas\"] = [0.7]\n",
    "args[\"betas\"] = [0.5]\n",
    "args[\"lamdas\"] = [0.8, 0.9]\n",
    "\n",
    "args[\"start_years\"] = [2005]\n",
    "\n",
    "args[\"run_count\"] = 80 # How many runs to complete for each parameter set\n",
    "args[\"start_run\"] = 0 \n",
    "args[\"end_run\"] = 79 \n"
   ]
  },
  {
   "cell_type": "markdown",
   "metadata": {},
   "source": [
    "### Model Equation Parameter Values - Not Calibrated \n",
    "\n",
    "Define the parameter values for the model equation that will be static across test runs, calibration, and forecasts. "
   ]
  },
  {
   "cell_type": "code",
   "execution_count": null,
   "metadata": {},
   "outputs": [],
   "source": [
    "# Define static parameter values \n",
    "# (Note to self - add definitions in comments)\n",
    "\n",
    "args[\"mu\"] = 0.0\n",
    "args[\"phi\"] = 1\n",
    "args[\"w_phi\"] = 1\n",
    "args[\"sigma_epsilon\"] = 0.5\n",
    "args[\"sigma_phi\"] = 1\n",
    "args[\"stop_year\"] = 2019\n",
    "\n",
    "# Set random seed (optional)\n",
    "\n",
    "args[\"random_seed\"] = None"
   ]
  },
  {
   "cell_type": "markdown",
   "metadata": {},
   "source": [
    "Define how transmission lags occur."
   ]
  },
  {
   "cell_type": "code",
   "execution_count": null,
   "metadata": {},
   "outputs": [],
   "source": [
    "# Define transmission lag values\n",
    "\n",
    "args[\"transmission_lag_unit\"] = \"year\"\n",
    "args[\"time_to_infectivity\"] = None\n",
    "\n",
    "args[\"transmission_lag_type\"] = \"stochastic\"\n",
    "args[\"gamma_shape\"] = 4\n",
    "args[\"gamma_scale\"] = 1\n"
   ]
  },
  {
   "cell_type": "markdown",
   "metadata": {},
   "source": [
    "Define what outputs will be written to file. By default, a .csv of origin-destination pairs for all introductions, \n",
    "as well as the aggregated probability of introduction to each country at each time step are output. \n",
    "\n",
    "You can optionally export additional granularity by setting the below options to `True`, however it will increase \n",
    "time to write run outputs (and the number of files generated)."
   ]
  },
  {
   "cell_type": "code",
   "execution_count": null,
   "metadata": {},
   "outputs": [],
   "source": [
    "# Save n x n matrices for each time step where n is the number of countries, \n",
    "# and values represent the origin-destination probability of entry or \n",
    "# probability of establishment \n",
    "\n",
    "args[\"save_entry\"] = False\n",
    "args[\"save_estab\"] = False\n",
    "args[\"save_intro\"] = False\n",
    "args[\"save_country_intros\"] = False"
   ]
  },
  {
   "cell_type": "markdown",
   "metadata": {},
   "source": [
    "### Define scenarios (optional)\n",
    "\n",
    "Scenarios describe how changes are made to trade, to reflect potential management actions. "
   ]
  },
  {
   "cell_type": "code",
   "execution_count": null,
   "metadata": {},
   "outputs": [],
   "source": [
    "# scenario_list = []\n",
    "\n",
    "# for i in range(2010, 2030):\n",
    "#     start_scenario = [2010, 'CHN', 'USA', 'decrease', 1]\n",
    "#     new_scenario = start_scenario\n",
    "#     new_scenario[0] = i\n",
    "#     scenario_list .append(new_scenario)\n",
    "    \n",
    "# for i in range(2014, 2030):\n",
    "#     start_scenario = [2014, 'JPN', 'USA', 'decrease', 0.8]\n",
    "#     new_scenario = start_scenario\n",
    "#     new_scenario[0] = i\n",
    "#     scenario_list .append(new_scenario)\n",
    "    \n",
    "# for i in range(2014, 2030):\n",
    "#     start_scenario = [2014, 'KOR', 'USA', 'decrease', 0.8]\n",
    "#     new_scenario = start_scenario\n",
    "#     new_scenario[0] = i\n",
    "#     scenario_list .append(new_scenario)\n",
    "    \n",
    "# for i in range(2020, 2030):\n",
    "#     start_scenario = [2020, 'ITA', 'USA', 'decrease', 0.8]\n",
    "#     new_scenario = start_scenario\n",
    "#     new_scenario[0] = i\n",
    "#     scenario_list .append(new_scenario)\n",
    "    \n",
    "# for i in range(2020, 2030):\n",
    "#     start_scenario = [2020, 'TUR', 'USA', 'decrease', 0.8]\n",
    "#     new_scenario = start_scenario\n",
    "#     new_scenario[0] = i\n",
    "#     scenario_list .append(new_scenario)"
   ]
  },
  {
   "cell_type": "markdown",
   "metadata": {},
   "source": [
    "### Configure summary statistics\n",
    "\n",
    "Summary statistics are calculated on the combined output across multiple runs. You can define several\n",
    "parameters (described below) that will adjust how certain statistics are calculated."
   ]
  },
  {
   "cell_type": "code",
   "execution_count": null,
   "metadata": {},
   "outputs": [],
   "source": [
    "# What is your primary country of interest? (format = ISO3 code)\n",
    "args[\"coi\"] = \"USA\"\n",
    "\n",
    "# Calculate cumulative probability of intro to COI for the following years:\n",
    "\n",
    "args[\"sim_years\"] = [2014, 2020]\n",
    "\n",
    "# End-valid year: At what year do you want to stop evaluating the summary statistics? \n",
    "# E.g. often, present year or year near the last known introduction\n",
    "\n",
    "args[\"end_valid_year\"] = 2019\n",
    "\n",
    "# How many years BEFORE and AFTER the first record do you consider a presence to be accurate? \n",
    "\n",
    "# BEFORE: e.g. Model predicts 2013 introduction, but first documented record was 2015. This may still be \n",
    "# considered accurate if you (1) consider that first documented records may have a detection lag \n",
    "# from the true first introduction date and (2) if you prefer to favor risk-conservative forecasts \n",
    "# (avoid penalizing reasonably early predictions that are useful for preventative measures)\n",
    "\n",
    "args[\"years_before_firstRecord\"] = 4\n",
    "\n",
    "# AFTER: e.g. Model predicts 2016 introduction, but first documented record was 2015. This may be considered\n",
    "# accurate if you are less concerned with capturing the exact temporal window, but could be considered\n",
    "# not accurate if you are mainly concerned with preventative measures (set to 0).\n",
    "\n",
    "args[\"years_after_firstRecord\"] = 0"
   ]
  },
  {
   "cell_type": "markdown",
   "metadata": {},
   "source": [
    "### Cores to use for parallel processing\n",
    "\n",
    "The model calibration and forecast can be run in parallel, on multiple cores. You can control how many cores the \n",
    "model will use with the below parameter to either speed up the runs or prevent the model from running too many\n",
    "processes on your computer (e.g. to limit usage, set to 1, to increase speed, set as high as you have cores \n",
    "available)."
   ]
  },
  {
   "cell_type": "code",
   "execution_count": null,
   "metadata": {},
   "outputs": [],
   "source": [
    "args[\"cores_to_use\"] = 4"
   ]
  },
  {
   "cell_type": "markdown",
   "metadata": {},
   "source": [
    "## Write and save configuration file"
   ]
  },
  {
   "cell_type": "code",
   "execution_count": null,
   "metadata": {},
   "outputs": [],
   "source": [
    "if os.path.isfile(config_json_path):\n",
    "    with open(config_json_path) as file:\n",
    "        prev_config = json.load(file)\n",
    "\n",
    "    prev_config.update(args)\n",
    "\n",
    "    with open(config_json_path, mode='w') as f:\n",
    "        f.write(json.dumps(prev_config, indent=4))\n",
    "\n",
    "else: \n",
    "    with open(config_json_path, \"w\") as file:\n",
    "        json.dump(args, file, indent=4)\n",
    "\n",
    "print(\"\\tSaved \", config_json_path)"
   ]
  },
  {
   "cell_type": "markdown",
   "metadata": {},
   "source": [
    "## Next: Run model (interactive)\n",
    "\n",
    "Run the model first interactively to test that your data is complete, parameters are sensible, and the model \n",
    "is configured to run (Notebook 3A). Then, go on to calibrate (3B) and forecast (3C) with the model. "
   ]
  }
 ],
 "metadata": {
  "kernelspec": {
   "display_name": "Python 3",
   "language": "python",
   "name": "python3"
  },
  "language_info": {
   "codemirror_mode": {
    "name": "ipython",
    "version": 3
   },
   "file_extension": ".py",
   "mimetype": "text/x-python",
   "name": "python",
   "nbconvert_exporter": "python",
   "pygments_lexer": "ipython3",
   "version": "3.8.11"
  }
 },
 "nbformat": 4,
 "nbformat_minor": 4
}
