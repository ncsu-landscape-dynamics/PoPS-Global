{
 "cells": [
  {
   "cell_type": "markdown",
   "metadata": {},
   "source": [
    "# Data Acquisition and Formatting\n",
    "\n",
    "This notebook provides the workflow for aquiring and formatting the data needed to run the Pandemic Network Model. To run this notebook, the following are assumed:\n",
    "- Data are saved in a project folder (e.g., Google Drive root H:/Project Folder/)\n",
    "- Cloned the Pandemic GitHub repository (git clone https://github.com/ncsu-landscape-dynamics/Pandemic_Model.git)\n",
    "- Notebook was launched from the notebook folder of the cloned repo\n",
    "- Already have the following data available or downloaded:\n",
    "    - Koppen-Geiger Climate Classification raster (e.g., Beck_KG_V1_present_0p083.tif from http://koeppen-geiger.vu-wien.ac.at/data)\n",
    "    - Phytosanitary capacity (data frame with country name and ISO3 code, estimate/index of phytosanitary capacity)\n",
    "    - Binary host map raster\n",
    "    - File with the following environmental variables:\n",
    "        - DATA_PATH (file path to data folder that will contain original data, formatted model input data, and model output data)\n",
    "        - COMTRADE_AUTH_KEY (API key to query and download data from the UN Comtrade Database)"
   ]
  },
  {
   "cell_type": "markdown",
   "metadata": {},
   "source": [
    "## Imports"
   ]
  },
  {
   "cell_type": "code",
   "execution_count": 1,
   "metadata": {},
   "outputs": [],
   "source": [
    "import sys\n",
    "import os\n",
    "import subprocess\n",
    "import math\n",
    "import glob\n",
    "import json\n",
    "import requests\n",
    "import numpy as np\n",
    "import pandas as pd\n",
    "import geopandas as gpd\n",
    "import rasterio\n",
    "from rasterio.enums import Resampling\n",
    "from rasterstats import zonal_stats\n",
    "import dotenv \n",
    "from scipy.spatial import distance\n",
    "from functools import reduce"
   ]
  },
  {
   "cell_type": "code",
   "execution_count": 2,
   "metadata": {},
   "outputs": [
    {
     "name": "stdout",
     "output_type": "stream",
     "text": [
      "C:\\Users\\cwald\\Documents\\NCSU\\GitHub\\Pandemic_Model\n"
     ]
    }
   ],
   "source": [
    "# If notebook was launched from notebook folder of the clone GitHub\n",
    "# repository, then set working directory to level above \n",
    "# (e.g., /Pandemic_Model)\n",
    "os.chdir('../')\n",
    "google_root = 'H:'\n",
    "print(os.getcwd())"
   ]
  },
  {
   "cell_type": "code",
   "execution_count": 3,
   "metadata": {},
   "outputs": [],
   "source": [
    "from Data.Comtrade.get_comtrade import query_comtrade\n",
    "from pandemic.generate_trade_forecasts import simple_trade_forecast\n",
    "from pandemic.helpers import distance_between\n",
    "from pandemic.ecological_calculations import create_climate_similarities_matrix"
   ]
  },
  {
   "cell_type": "markdown",
   "metadata": {},
   "source": [
    "## Set Environmental Variables and Paths"
   ]
  },
  {
   "cell_type": "code",
   "execution_count": 4,
   "metadata": {},
   "outputs": [
    {
     "name": "stdout",
     "output_type": "stream",
     "text": [
      "C:\\Users\\cwald\\Documents\\NCSU\\GitHub\\Pandemic_Model\n"
     ]
    }
   ],
   "source": [
    "repo_path = os.getcwd() # should be one folder above launch directory\n",
    "print(repo_path)"
   ]
  },
  {
   "cell_type": "code",
   "execution_count": 5,
   "metadata": {},
   "outputs": [
    {
     "name": "stdin",
     "output_type": "stream",
     "text": [
      " 'H:\\\\My Drive\\\\Projects\\\\Pandemic'\n"
     ]
    }
   ],
   "source": [
    "# Provide file paths to where .env file is saved and load file\n",
    "project_path = str(input())"
   ]
  },
  {
   "cell_type": "code",
   "execution_count": 6,
   "metadata": {},
   "outputs": [
    {
     "data": {
      "text/plain": [
       "True"
      ]
     },
     "execution_count": 6,
     "metadata": {},
     "output_type": "execute_result"
    }
   ],
   "source": [
    "env_file = os.path.join(project_path, '.env') \n",
    "dotenv.load_dotenv(env_file)"
   ]
  },
  {
   "cell_type": "code",
   "execution_count": 7,
   "metadata": {},
   "outputs": [],
   "source": [
    "# Root project data folder\n",
    "data_path = f'{google_root}/Shared drives/Pandemic Data/ToBRFV_model/'\n",
    "\n",
    "# Path to formatted model inputs\n",
    "input_dir = data_path + \"inputs/\"\n",
    "\n",
    "# Path to save outputs\n",
    "out_dir = data_path + \"outputs/\""
   ]
  },
  {
   "cell_type": "code",
   "execution_count": 8,
   "metadata": {},
   "outputs": [
    {
     "name": "stdout",
     "output_type": "stream",
     "text": [
      "Confirmed:\tH:/Shared drives/Pandemic Data/ToBRFV_model/\n",
      "Confirmed:\tH:/Shared drives/Pandemic Data/ToBRFV_model/inputs/\n",
      "Confirmed:\tH:/Shared drives/Pandemic Data/ToBRFV_model/outputs/\n"
     ]
    }
   ],
   "source": [
    "# Confirm all directories exist:\n",
    "dir_list = [data_path, input_dir, out_dir]\n",
    "for d in dir_list:\n",
    "    if not os.path.exists(d):\n",
    "        print(f\"ERROR:\\t{d} does not exist, creating directory...\")\n",
    "        os.makedirs(d)\n",
    "    else:\n",
    "        print(f\"Confirmed:\\t{d}\")"
   ]
  },
  {
   "cell_type": "markdown",
   "metadata": {},
   "source": [
    "## Country Data"
   ]
  },
  {
   "cell_type": "code",
   "execution_count": 10,
   "metadata": {},
   "outputs": [],
   "source": [
    "add_TWN = False\n",
    "if add_TWN:\n",
    "    suffix = \"_wTWN\"\n",
    "else:\n",
    "    suffix = \"\""
   ]
  },
  {
   "cell_type": "code",
   "execution_count": 11,
   "metadata": {},
   "outputs": [],
   "source": [
    "countries_geo_path = \"H:/Shared drives/APHIS  Projects/Pandemic/Data/Country_list_shapefile/TM_WORLD_BORDERS-0.3/TM_WORLD_BORDERS-0.3.shp\""
   ]
  },
  {
   "cell_type": "code",
   "execution_count": 12,
   "metadata": {},
   "outputs": [],
   "source": [
    "countries_gdf = gpd.read_file(countries_geo_path)\n",
    "countries_gdf.iloc[136,4] = 'Macao'\n",
    "countries_gdf.iloc[169,4] = 'Réunion'\n",
    "countries_gdf.iloc[17,4] = 'Myanmar'\n",
    "countries_gdf.iloc[245, 4] = 'Saint Barthelemy'"
   ]
  },
  {
   "cell_type": "markdown",
   "metadata": {},
   "source": [
    "## Koppen-Geiger Climate Classification by Country\n",
    "This step only needs to be run once. \n",
    "\n",
    "It creates a data frame consisting of countries as rows, climate\n",
    "classification codes as columns, and percent area in each country\n",
    "as values. "
   ]
  },
  {
   "cell_type": "code",
   "execution_count": 13,
   "metadata": {},
   "outputs": [
    {
     "data": {
      "text/plain": [
       "(2160, 4320)"
      ]
     },
     "execution_count": 13,
     "metadata": {},
     "output_type": "execute_result"
    }
   ],
   "source": [
    "# Read Koppen raster\n",
    "koppen_rast = rasterio.open(\"H:/Shared drives/Data/Raster/Global/Beck_KoppenClimate/Beck_KG_V1_present_0p083.tif\")\n",
    "koppen_arr = koppen_rast.read(1)\n",
    "koppen_arr.shape"
   ]
  },
  {
   "cell_type": "code",
   "execution_count": 14,
   "metadata": {},
   "outputs": [],
   "source": [
    "# Read cropland binary\n",
    "\n",
    "cl = rasterio.open(f'{input_dir}/hostmaps/earth-engine/cropland_binary.tif')\n",
    "cl_arr = cl.read(1)\n",
    "cl_arr.shape\n",
    "\n",
    "# Set values\n",
    "\n",
    "mask = 'cl'\n",
    "threshold_val = ''"
   ]
  },
  {
   "cell_type": "code",
   "execution_count": 15,
   "metadata": {},
   "outputs": [],
   "source": [
    "# Mask selected areas\n",
    "koppen_masked = cl_arr[:2160,:4320] * koppen_arr"
   ]
  },
  {
   "cell_type": "code",
   "execution_count": 16,
   "metadata": {},
   "outputs": [
    {
     "data": {
      "text/plain": [
       "(2160, 4320)"
      ]
     },
     "execution_count": 16,
     "metadata": {},
     "output_type": "execute_result"
    }
   ],
   "source": [
    "# Read Human Influence Index layer (already resampled to match Koppen raster)\n",
    "hii = rasterio.open(\"H:/Shared drives/APHIS  Projects/Pandemic/Data/land_use/human_influence_index/hii_v2_resamp.tif\")\n",
    "hii_arr = hii.read(1)\n",
    "hii_arr = hii_arr.astype('float64')\n",
    "hii_arr.shape"
   ]
  },
  {
   "cell_type": "code",
   "execution_count": 17,
   "metadata": {},
   "outputs": [],
   "source": [
    "# Create mask to exclude areas with values below the threshold \n",
    "# from the % area calculations of climate similaritiy and \n",
    "# host availability \n",
    "threshold_val = 16\n",
    "\n",
    "# Mask values less than threshold (water is already 255)\n",
    "hii_arr[hii_arr < threshold_val] = 0\n",
    "hii_arr[hii_arr == 255] = 0\n",
    "\n",
    "# Keep areas greater than threshold\n",
    "hii_arr[hii_arr >= threshold_val] = 1\n",
    "hii_arr[hii_arr == 0] = np.nan"
   ]
  },
  {
   "cell_type": "code",
   "execution_count": 18,
   "metadata": {},
   "outputs": [],
   "source": [
    "# Mask selected areas\n",
    "koppen_masked = hii_arr * koppen_arr"
   ]
  },
  {
   "cell_type": "code",
   "execution_count": 19,
   "metadata": {},
   "outputs": [
    {
     "name": "stderr",
     "output_type": "stream",
     "text": [
      "C:\\Users\\cwald\\anaconda3\\envs\\py37_geo\\lib\\site-packages\\rasterstats\\io.py:301: UserWarning: Setting nodata to -999; specify nodata explicitly\n",
      "  warnings.warn(\"Setting nodata to -999; specify nodata explicitly\")\n"
     ]
    }
   ],
   "source": [
    "# Calculate zonal statistics\n",
    "affine = koppen_rast.transform\n",
    "stats = zonal_stats(countries_gdf, koppen_masked, categorical=True, affine = affine)"
   ]
  },
  {
   "cell_type": "code",
   "execution_count": 20,
   "metadata": {},
   "outputs": [
    {
     "name": "stderr",
     "output_type": "stream",
     "text": [
      "C:\\Users\\cwald\\anaconda3\\envs\\py37_geo\\lib\\site-packages\\ipykernel_launcher.py:5: FutureWarning: Dropping of nuisance columns in DataFrame reductions (with 'numeric_only=None') is deprecated; in a future version this will raise TypeError.  Select only valid columns before calling the reduction.\n",
      "  \"\"\"\n"
     ]
    }
   ],
   "source": [
    "# Add % of each climate classification to countries geodataframe\n",
    "koppen_df = countries_gdf.loc[:, ['ISO3', 'NAME']]\n",
    "koppen_df['koppen_stats'] = stats\n",
    "koppen_df = pd.concat([koppen_df, koppen_df['koppen_stats'].apply(pd.Series)], axis=1).fillna(0)\n",
    "pix_ct = pd.DataFrame(koppen_df.sum(axis=1))\n",
    "cat_pct = koppen_df.iloc[:,3:].div(pix_ct[0], axis=0, fill_value=None)\n",
    "\n",
    "kg_codes = pd.read_csv(\"H:/Shared drives/Data/Raster/Global/Beck_KoppenClimate/KGcodes.csv\")\n",
    "cat_pct = cat_pct.iloc[:,1:]\n",
    "cat_pct.columns = list(kg_codes[\"let\"])\n",
    "koppen_df = pd.concat([koppen_df.iloc[:,0:2], cat_pct], axis=1)\n",
    "\n",
    "koppen_df = koppen_df.fillna(0)\n",
    "koppen_df.drop([\"NAME\"], axis=1, inplace=True)\n",
    "koppen_df = koppen_df.set_index(\"ISO3\")"
   ]
  },
  {
   "cell_type": "code",
   "execution_count": 21,
   "metadata": {},
   "outputs": [],
   "source": [
    "mask = 'hii' #\"cl\" # \"cl\" or \"hii\""
   ]
  },
  {
   "cell_type": "code",
   "execution_count": 22,
   "metadata": {},
   "outputs": [],
   "source": [
    "koppen_df.to_csv(f\"{input_dir}/koppen_{mask}Mask{str(threshold_val)}{suffix}.csv\", sep = ',')"
   ]
  },
  {
   "cell_type": "code",
   "execution_count": null,
   "metadata": {},
   "outputs": [],
   "source": [
    "# If loading from file:\n",
    "#koppen_df = pd.read_csv(f\"{input_dir}/koppen_hiiMask{str(threshold_val)}{suffix}.csv\", index_col=0)"
   ]
  },
  {
   "cell_type": "code",
   "execution_count": 23,
   "metadata": {},
   "outputs": [
    {
     "data": {
      "text/html": [
       "<div>\n",
       "<style scoped>\n",
       "    .dataframe tbody tr th:only-of-type {\n",
       "        vertical-align: middle;\n",
       "    }\n",
       "\n",
       "    .dataframe tbody tr th {\n",
       "        vertical-align: top;\n",
       "    }\n",
       "\n",
       "    .dataframe thead th {\n",
       "        text-align: right;\n",
       "    }\n",
       "</style>\n",
       "<table border=\"1\" class=\"dataframe\">\n",
       "  <thead>\n",
       "    <tr style=\"text-align: right;\">\n",
       "      <th></th>\n",
       "      <th>Af</th>\n",
       "      <th>Am</th>\n",
       "      <th>Aw</th>\n",
       "      <th>BWh</th>\n",
       "      <th>BWk</th>\n",
       "      <th>BSh</th>\n",
       "      <th>BSk</th>\n",
       "      <th>Csa</th>\n",
       "      <th>Csb</th>\n",
       "      <th>Csc</th>\n",
       "      <th>...</th>\n",
       "      <th>Dwa</th>\n",
       "      <th>Dwb</th>\n",
       "      <th>Dwc</th>\n",
       "      <th>Dwd</th>\n",
       "      <th>Dfa</th>\n",
       "      <th>Dfb</th>\n",
       "      <th>Dfc</th>\n",
       "      <th>Dfd</th>\n",
       "      <th>ET</th>\n",
       "      <th>EF</th>\n",
       "    </tr>\n",
       "    <tr>\n",
       "      <th>ISO3</th>\n",
       "      <th></th>\n",
       "      <th></th>\n",
       "      <th></th>\n",
       "      <th></th>\n",
       "      <th></th>\n",
       "      <th></th>\n",
       "      <th></th>\n",
       "      <th></th>\n",
       "      <th></th>\n",
       "      <th></th>\n",
       "      <th></th>\n",
       "      <th></th>\n",
       "      <th></th>\n",
       "      <th></th>\n",
       "      <th></th>\n",
       "      <th></th>\n",
       "      <th></th>\n",
       "      <th></th>\n",
       "      <th></th>\n",
       "      <th></th>\n",
       "      <th></th>\n",
       "    </tr>\n",
       "  </thead>\n",
       "  <tbody>\n",
       "    <tr>\n",
       "      <th>ATG</th>\n",
       "      <td>0.0</td>\n",
       "      <td>0.0</td>\n",
       "      <td>1.0</td>\n",
       "      <td>0.000000</td>\n",
       "      <td>0.000000</td>\n",
       "      <td>0.000000</td>\n",
       "      <td>0.000000</td>\n",
       "      <td>0.000000</td>\n",
       "      <td>0.000000</td>\n",
       "      <td>0.0</td>\n",
       "      <td>...</td>\n",
       "      <td>0.0</td>\n",
       "      <td>0.0</td>\n",
       "      <td>0.0</td>\n",
       "      <td>0.0</td>\n",
       "      <td>0.000000</td>\n",
       "      <td>0.000000</td>\n",
       "      <td>0.000000</td>\n",
       "      <td>0.0</td>\n",
       "      <td>0.000000</td>\n",
       "      <td>0.0</td>\n",
       "    </tr>\n",
       "    <tr>\n",
       "      <th>DZA</th>\n",
       "      <td>0.0</td>\n",
       "      <td>0.0</td>\n",
       "      <td>0.0</td>\n",
       "      <td>0.153118</td>\n",
       "      <td>0.094098</td>\n",
       "      <td>0.012806</td>\n",
       "      <td>0.287862</td>\n",
       "      <td>0.451002</td>\n",
       "      <td>0.001114</td>\n",
       "      <td>0.0</td>\n",
       "      <td>...</td>\n",
       "      <td>0.0</td>\n",
       "      <td>0.0</td>\n",
       "      <td>0.0</td>\n",
       "      <td>0.0</td>\n",
       "      <td>0.000000</td>\n",
       "      <td>0.000000</td>\n",
       "      <td>0.000000</td>\n",
       "      <td>0.0</td>\n",
       "      <td>0.000000</td>\n",
       "      <td>0.0</td>\n",
       "    </tr>\n",
       "    <tr>\n",
       "      <th>AZE</th>\n",
       "      <td>0.0</td>\n",
       "      <td>0.0</td>\n",
       "      <td>0.0</td>\n",
       "      <td>0.000000</td>\n",
       "      <td>0.079137</td>\n",
       "      <td>0.000000</td>\n",
       "      <td>0.586845</td>\n",
       "      <td>0.043165</td>\n",
       "      <td>0.000000</td>\n",
       "      <td>0.0</td>\n",
       "      <td>...</td>\n",
       "      <td>0.0</td>\n",
       "      <td>0.0</td>\n",
       "      <td>0.0</td>\n",
       "      <td>0.0</td>\n",
       "      <td>0.045221</td>\n",
       "      <td>0.151079</td>\n",
       "      <td>0.035971</td>\n",
       "      <td>0.0</td>\n",
       "      <td>0.002055</td>\n",
       "      <td>0.0</td>\n",
       "    </tr>\n",
       "    <tr>\n",
       "      <th>ALB</th>\n",
       "      <td>0.0</td>\n",
       "      <td>0.0</td>\n",
       "      <td>0.0</td>\n",
       "      <td>0.000000</td>\n",
       "      <td>0.000000</td>\n",
       "      <td>0.000000</td>\n",
       "      <td>0.000000</td>\n",
       "      <td>0.418033</td>\n",
       "      <td>0.112022</td>\n",
       "      <td>0.0</td>\n",
       "      <td>...</td>\n",
       "      <td>0.0</td>\n",
       "      <td>0.0</td>\n",
       "      <td>0.0</td>\n",
       "      <td>0.0</td>\n",
       "      <td>0.000000</td>\n",
       "      <td>0.215847</td>\n",
       "      <td>0.013661</td>\n",
       "      <td>0.0</td>\n",
       "      <td>0.000000</td>\n",
       "      <td>0.0</td>\n",
       "    </tr>\n",
       "    <tr>\n",
       "      <th>ARM</th>\n",
       "      <td>0.0</td>\n",
       "      <td>0.0</td>\n",
       "      <td>0.0</td>\n",
       "      <td>0.000000</td>\n",
       "      <td>0.006098</td>\n",
       "      <td>0.000000</td>\n",
       "      <td>0.265244</td>\n",
       "      <td>0.000000</td>\n",
       "      <td>0.000000</td>\n",
       "      <td>0.0</td>\n",
       "      <td>...</td>\n",
       "      <td>0.0</td>\n",
       "      <td>0.0</td>\n",
       "      <td>0.0</td>\n",
       "      <td>0.0</td>\n",
       "      <td>0.000000</td>\n",
       "      <td>0.557927</td>\n",
       "      <td>0.152439</td>\n",
       "      <td>0.0</td>\n",
       "      <td>0.003049</td>\n",
       "      <td>0.0</td>\n",
       "    </tr>\n",
       "  </tbody>\n",
       "</table>\n",
       "<p>5 rows × 30 columns</p>\n",
       "</div>"
      ],
      "text/plain": [
       "       Af   Am   Aw       BWh       BWk       BSh       BSk       Csa  \\\n",
       "ISO3                                                                    \n",
       "ATG   0.0  0.0  1.0  0.000000  0.000000  0.000000  0.000000  0.000000   \n",
       "DZA   0.0  0.0  0.0  0.153118  0.094098  0.012806  0.287862  0.451002   \n",
       "AZE   0.0  0.0  0.0  0.000000  0.079137  0.000000  0.586845  0.043165   \n",
       "ALB   0.0  0.0  0.0  0.000000  0.000000  0.000000  0.000000  0.418033   \n",
       "ARM   0.0  0.0  0.0  0.000000  0.006098  0.000000  0.265244  0.000000   \n",
       "\n",
       "           Csb  Csc  ...  Dwa  Dwb  Dwc  Dwd       Dfa       Dfb       Dfc  \\\n",
       "ISO3                 ...                                                     \n",
       "ATG   0.000000  0.0  ...  0.0  0.0  0.0  0.0  0.000000  0.000000  0.000000   \n",
       "DZA   0.001114  0.0  ...  0.0  0.0  0.0  0.0  0.000000  0.000000  0.000000   \n",
       "AZE   0.000000  0.0  ...  0.0  0.0  0.0  0.0  0.045221  0.151079  0.035971   \n",
       "ALB   0.112022  0.0  ...  0.0  0.0  0.0  0.0  0.000000  0.215847  0.013661   \n",
       "ARM   0.000000  0.0  ...  0.0  0.0  0.0  0.0  0.000000  0.557927  0.152439   \n",
       "\n",
       "      Dfd        ET   EF  \n",
       "ISO3                      \n",
       "ATG   0.0  0.000000  0.0  \n",
       "DZA   0.0  0.000000  0.0  \n",
       "AZE   0.0  0.002055  0.0  \n",
       "ALB   0.0  0.000000  0.0  \n",
       "ARM   0.0  0.003049  0.0  \n",
       "\n",
       "[5 rows x 30 columns]"
      ]
     },
     "execution_count": 23,
     "metadata": {},
     "output_type": "execute_result"
    }
   ],
   "source": [
    "koppen_df.head()"
   ]
  },
  {
   "cell_type": "markdown",
   "metadata": {},
   "source": [
    "## UN Comtrade Data\n",
    "\n",
    "This step only needs to be run once per aggregation (e.g., monthly, annual, start year,\n",
    "commodity code). \n",
    "\n",
    "It queries the UN Comtrade API to download data based on the first year\n",
    "of interest, end year (inclusive), commodity codes, frequency (e.g., monthly, annual), \n",
    "and unit value (e.g., value in dollars or net weight). Data are saved as csvs by HS code\n",
    "and time step. "
   ]
  },
  {
   "cell_type": "code",
   "execution_count": 24,
   "metadata": {},
   "outputs": [],
   "source": [
    "comtrade_auth_key = os.getenv(\"COMTRADE_AUTH_KEY\")\n",
    "start_year = 2010\n",
    "end_year = 2020\n",
    "temporal_res = 'A'"
   ]
  },
  {
   "cell_type": "code",
   "execution_count": null,
   "metadata": {},
   "outputs": [],
   "source": []
  },
  {
   "cell_type": "code",
   "execution_count": null,
   "metadata": {
    "tags": [
     "outputPrepend"
    ]
   },
   "outputs": [],
   "source": [
    "query_comtrade(\n",
    "    # model_inputs_dir=input_dir,\n",
    "    model_inputs_dir=f\"{input_dir}/comtrade{suffix}\",\n",
    "    auth_code=comtrade_auth_key,\n",
    "    start_code=start_commodity,\n",
    "    end_code=end_commodity,\n",
    "    start_year=start_year,\n",
    "    end_year=end_year,\n",
    "    temporal_res=temporal_res,\n",
    "    crosswalk_path=f\"H:/Shared drives/APHIS  Projects/Pandemic/Data/un_to_iso{suffix}.csv\")"
   ]
  },
  {
   "cell_type": "markdown",
   "metadata": {},
   "source": [
    "### Adjust Trade Data for Inflation\n",
    "\n",
    "Get the Consumer Price Index from the US Bureau of Labor Statistics\n",
    "\n",
    "Series CUUR0000SA0L1E - All items less food and energy in U.S. city average, all urban consumers, not seasonally adjusted\n",
    "\n",
    "Other CPI series are available. See more information here: https://www.bls.gov/cpi/\n",
    "\n",
    "### TODO: Write workflow for annual data"
   ]
  },
  {
   "cell_type": "code",
   "execution_count": null,
   "metadata": {},
   "outputs": [],
   "source": [
    "# Download CPI data\n",
    "# API allows 10 years per request, divide year requests into lists of 10 or less\n",
    "years = list(range(start_year, end_year + 1))\n",
    "year_subsets = [years[x:x+10] for x in range(0, len(years), 10)]\n",
    "cpi_series = \"CUUR0000SA0L1E\"\n",
    "\n",
    "cpi_list = []\n",
    "for subset in year_subsets:\n",
    "    print(f\"Downloading CPI for {str(subset[0])}-{str(subset[-1])}...\")\n",
    "    headers = {\"Content-type\": \"application/json\"}\n",
    "    data = json.dumps(\n",
    "        {\"seriesid\": [cpi_series], \"startyear\": str(subset[0]), \"endyear\": str(subset[-1])}\n",
    "    )\n",
    "    p = requests.post(\n",
    "        \"https://api.bls.gov/publicAPI/v1/timeseries/data/\", data=data, headers=headers\n",
    "    )\n",
    "    json_data = json.loads(p.text)\n",
    "    json_data = json_data[\"Results\"][\"series\"][0]\n",
    "\n",
    "    for ts in json_data[\"data\"]:\n",
    "        year = ts[\"year\"]\n",
    "        period = ts[\"period\"]\n",
    "        value = ts[\"value\"]\n",
    "        cpi_list.append([year, period, value])\n",
    "\n",
    "cpi_df = pd.DataFrame(cpi_list, columns=['year', 'period', 'cpi'])\n",
    "cpi_df[\"period\"] = cpi_df[\"period\"].str.lstrip('M')\n",
    "cpi_df[\"ts\"] = cpi_df[\"year\"] + cpi_df[\"period\"]\n",
    "cpi_df = cpi_df.set_index(\"ts\")\n",
    "print(f\"CPI for {len(cpi_df)} timesteps downloaded.\")"
   ]
  },
  {
   "cell_type": "code",
   "execution_count": null,
   "metadata": {},
   "outputs": [],
   "source": [
    "# Choose baseline year to convert current (nominal) $ to\n",
    "base_ts = \"201901\"\n",
    "cpi_base = cpi_df.loc[base_ts,\"cpi\"]"
   ]
  },
  {
   "cell_type": "code",
   "execution_count": null,
   "metadata": {},
   "outputs": [],
   "source": [
    "out_dir"
   ]
  },
  {
   "cell_type": "code",
   "execution_count": null,
   "metadata": {},
   "outputs": [],
   "source": [
    "if temporal_res == 'M':\n",
    "    file_list = glob.glob(f\"{input_dir}/comtrade{suffix}/monthly/*/*.csv\")\n",
    "    print(f\"Converting current $ to {base_ts} $ for {len(file_list)} files...\")\n",
    "    for file in file_list:\n",
    "        file_name = file.split(\"\\\\\")[-1]\n",
    "        ts = file_name[5:11]\n",
    "        cpi_ts = cpi_df.loc[ts,\"cpi\"]\n",
    "        adjusted_dir = f\"{input_dir}/comtrade{suffix}/monthly_adjusted/{file_name[:4]}\"\n",
    "        if not os.path.exists(adjusted_dir):\n",
    "            os.makedirs(adjusted_dir)\n",
    "        trade = pd.read_csv(file,index_col=0)\n",
    "        trade_adjusted = (trade  * (float(cpi_base) / 100)) / (float(cpi_ts) / 100)\n",
    "        trade_adjusted.to_csv(adjusted_dir + \"/\" + file_name)\n",
    "    print(f\"Adjusted trade values saved at {input_dir}/comtrade{suffix}/monthly_adjusted/\")"
   ]
  },
  {
   "cell_type": "markdown",
   "metadata": {},
   "source": [
    "### Aggregated Multiple Commodities\n",
    "\n",
    "This step only needs to be run once per download and if running the model based\n",
    "on all commodities of interest (as opposed to by each commodity) is planned. "
   ]
  },
  {
   "cell_type": "code",
   "execution_count": null,
   "metadata": {},
   "outputs": [],
   "source": [
    "if str(start_commodity)[:2] == str(end_commodity)[:2]:\n",
    "    code_pre = str(start_commodity)[:2]\n",
    "else:\n",
    "    code_pre = '-agg'\n",
    "print(code_pre)"
   ]
  },
  {
   "cell_type": "code",
   "execution_count": null,
   "metadata": {},
   "outputs": [],
   "source": [
    "# If trade data are monthly\n",
    "if temporal_res == 'M':\n",
    "    file_list = glob.glob(f'{input_dir}/comtrade{suffix}/monthly_adjusted/{start_commodity}/{str(start_commodity)}*.csv')\n",
    "    date_list = []\n",
    "    for fn in file_list:\n",
    "        date = os.path.splitext(fn)[0].split('_')[-1]\n",
    "        date_list.append(date)\n",
    "\n",
    "    date_list_unique = list(set(date_list))\n",
    "    date_list_unique.sort()\n",
    "    \n",
    "    out_path = f'{input_dir}/comtrade{suffix}/monthly_agg/{str(start_commodity)}-{str(end_commodity)}/'\n",
    "    if not os.path.exists(out_path):\n",
    "        os.makedirs(out_path)\n",
    "\n",
    "    for d in date_list_unique:\n",
    "        d_file_list = glob.glob(input_dir + f'/comtrade{suffix}/monthly_adjusted/*/*{d}*.csv')\n",
    "        print(f'{d}: {len(d_file_list)}')\n",
    "        dfs = [pd.read_csv(f, sep = \",\", header= 0, index_col=0, encoding='latin1') for f in d_file_list]\n",
    "        all_com = reduce(pd.DataFrame.add, dfs)\n",
    "        all_com.to_csv(out_path + f\"HS{code_pre}_trades_{d}.csv\")\n",
    "        \n",
    "# # If trade data are annual\n",
    "# if temporal_res == 'A':\n",
    "#     out_path = input_dir + f'/comtrade_{suffix}/annual_agg/{str(start_commodity)}-{str(end_commodity)}/'\n",
    "#     if not os.path.exists(out_path):\n",
    "#         os.makedirs(out_path)\n",
    "\n",
    "#     year_range = list(range(start_year, end_year + 1, 1))\n",
    "#     for d in year_range:\n",
    "#         d_file_list = glob.glob(input_dir + f'/comtrade{suffix}/annual/*/*{d}.csv')\n",
    "#         print(f'{d}: {len(d_file_list)}')\n",
    "#         dfs = [pd.read_csv(f, sep = \",\", header= 0, index_col=0, encoding='latin1') for f in d_file_list]\n",
    "#         all_com = reduce(pd.DataFrame.add, dfs)\n",
    "#         all_com.to_csv(out_path + f\"HS{code_pre}_trades_{d}.csv\")"
   ]
  },
  {
   "cell_type": "markdown",
   "metadata": {},
   "source": [
    "### Create Trade Forecast\n",
    "\n",
    "This step only needs to be run once per aggregation. It is a simple sampling of\n",
    "historical trade data to be used as predictions of future trade values.\n",
    "\n",
    "TO DO: Add ability to include a percent change (e.g., 1% increase) by year or time\n",
    "horizon. "
   ]
  },
  {
   "cell_type": "code",
   "execution_count": null,
   "metadata": {},
   "outputs": [],
   "source": [
    "hist_trade_dir = f\"{input_dir}/comtrade{suffix}/monthly_agg/6801-6804\"\n",
    "forecast_dir = f\"{input_dir}/comtrade{suffix}/trade_forecast/monthly_agg/6801-6804\"\n",
    "start_forecast_year = 202001\n",
    "number_historical_years = 5\n",
    "number_forecast_years = 10\n",
    "random_seed = 47"
   ]
  },
  {
   "cell_type": "code",
   "execution_count": null,
   "metadata": {},
   "outputs": [],
   "source": [
    "f\"{input_dir}/comtrade{suffix}/trade_forecast/monthly_agg/6801-6804\""
   ]
  },
  {
   "cell_type": "code",
   "execution_count": null,
   "metadata": {},
   "outputs": [],
   "source": [
    "simple_trade_forecast(\n",
    "    data_dir=f\"{input_dir}/comtrade{suffix}\",\n",
    "    output_dir=forecast_dir,\n",
    "    start_forecast_date=start_forecast_year,\n",
    "    num_yrs_historical=number_historical_years,\n",
    "    num_yrs_forecast=number_forecast_years,\n",
    "    hist_data_dir=hist_trade_dir,\n",
    "    random_seed =random_seed\n",
    ")"
   ]
  },
  {
   "cell_type": "markdown",
   "metadata": {},
   "source": [
    "## Phytosanitary Capacity Data\n",
    "Incorporates an estimate of phytosanitary capacity for each country. Currently the model \n",
    "is using the proactive value from:\n",
    "\n",
    "Early, R., Bradley, B., Dukes, J. et al. Global threats from invasive alien species in the twenty-first century and national response capacities. Nat Commun 7, 12485 (2016). https://doi-org.prox.lib.ncsu.edu/10.1038/ncomms12485"
   ]
  },
  {
   "cell_type": "code",
   "execution_count": null,
   "metadata": {},
   "outputs": [],
   "source": [
    "phyto_path = \"H:/Shared drives/APHIS  Projects/Pandemic/Data/phytosanitary_capacity/phytosanitary_capacity_iso3.csv\"\n",
    "phyto_df = pd.read_csv(phyto_path, index_col=0)"
   ]
  },
  {
   "cell_type": "code",
   "execution_count": null,
   "metadata": {},
   "outputs": [],
   "source": [
    "phyto_df= phyto_df[[\"proactive\", \"ISO3\", \"UN\"]]\n",
    "phyto_df = phyto_df.rename(columns={\"proactive\": \"Phytosanitary Capacity\"})"
   ]
  },
  {
   "cell_type": "code",
   "execution_count": null,
   "metadata": {},
   "outputs": [],
   "source": [
    "phyto_df.shape"
   ]
  },
  {
   "cell_type": "code",
   "execution_count": null,
   "metadata": {},
   "outputs": [],
   "source": [
    "## NEED TO UPDATE THIS IN add_iso3_phyto.py \n",
    "phyto_df = phyto_df.append(\n",
    "    {\n",
    "        'ISO3': \"USA\", \n",
    "        'Phytosanitary Capacity': 3.0, \n",
    "        'UN': 840\n",
    "    }, ignore_index=True)\n",
    "phyto_df"
   ]
  },
  {
   "cell_type": "markdown",
   "metadata": {},
   "source": [
    "## Host\n",
    "The step only needs to be run once. \n",
    "\n",
    "Using a binary host map, calculate the percent area in each country with\n",
    "probable presence of host."
   ]
  },
  {
   "cell_type": "code",
   "execution_count": null,
   "metadata": {},
   "outputs": [],
   "source": [
    "# Read bindary host raster\n",
    "host = rasterio.open('H:/Shared drives/Data/Raster/Global/toh_global_tr.tif')\n",
    "host_arr = host.read(1)\n",
    "\n",
    "# Set large negative values to 0\n",
    "host_arr[host_arr < 0.0001] = 0"
   ]
  },
  {
   "cell_type": "code",
   "execution_count": null,
   "metadata": {},
   "outputs": [],
   "source": [
    "host_arr = np.append(host_arr, np.zeros([hii_arr.shape[0] - host_arr.shape[0], host_arr.shape[1]]), axis=0)\n",
    "host_masked = host_arr * hii_arr"
   ]
  },
  {
   "cell_type": "code",
   "execution_count": null,
   "metadata": {},
   "outputs": [],
   "source": [
    "# Calculate zonal statistics\n",
    "affine = host.transform\n",
    "stats = zonal_stats(countries_gdf, host_masked, categorical=True, affine = affine)"
   ]
  },
  {
   "cell_type": "code",
   "execution_count": null,
   "metadata": {},
   "outputs": [],
   "source": [
    "# Create host dataframe with country identifiers, results from zonal stats, and calculate host percent area\n",
    "host_df = countries_gdf.loc[:, ['ISO3', 'NAME']]\n",
    "host_df['host_stats'] = stats\n",
    "host_df = pd.concat([host_df, host_df['host_stats'].apply(pd.Series)], axis=1).fillna(0)\n",
    "host_df['Host Percent Area'] = (host_df[1.0] / (host_df[0.0] + host_df[1.0])).fillna(0)\n",
    "host_df.iloc[136,1] = 'Macao'\n",
    "host_df.iloc[169,1] = 'Réunion'\n",
    "host_df.iloc[17,1] = 'Myanmar'\n",
    "host_df.iloc[245, 1] = 'Saint Barthelemy'\n",
    "host_df.head()"
   ]
  },
  {
   "cell_type": "code",
   "execution_count": null,
   "metadata": {},
   "outputs": [],
   "source": [
    "host_df.to_csv(f\"{input_dir}/host_hiiMask{str(threshold_val)}{suffix}.csv\", sep = ',')"
   ]
  },
  {
   "cell_type": "code",
   "execution_count": null,
   "metadata": {},
   "outputs": [],
   "source": [
    "# If loading from file:\n",
    "#host_df = pd.read_csv(f\"{input_dir}/host_hiiMask{str(threshold_val)}{suffix}.csv\", sep=',')\n",
    "#host_df.drop(['Unnamed: 0', 'host_stats', '0.0', '1.0'], axis=1, inplace=True)\n",
    "#host_df.head()"
   ]
  },
  {
   "cell_type": "markdown",
   "metadata": {},
   "source": [
    "## Create final countries dataframe\n",
    "Merge country attributes with host percent area, climate classificaiton percent area, \n",
    "and phytosanitary capacity estimates. Filter and order dataframe to match countries \n",
    "with trade data available. "
   ]
  },
  {
   "cell_type": "code",
   "execution_count": null,
   "metadata": {},
   "outputs": [],
   "source": [
    "koppen_df"
   ]
  },
  {
   "cell_type": "code",
   "execution_count": null,
   "metadata": {},
   "outputs": [],
   "source": [
    "# Merge koppen, host, and phytosanitary attributes with countries geodataframe\n",
    "countries_gdf = countries_gdf.merge(koppen_df, on='ISO3')\n",
    "countries_gdf = countries_gdf.merge(host_df[['ISO3', 'Host Percent Area']], how='left', on='ISO3')\n",
    "countries_gdf = countries_gdf.merge(phyto_df, how=\"left\", on=\"ISO3\", suffixes=[None, \"_y\"])\n",
    "countries_gdf.head()"
   ]
  },
  {
   "cell_type": "code",
   "execution_count": null,
   "metadata": {},
   "outputs": [],
   "source": [
    "# Get unique values of phytosanitary capacity for rescaling \n",
    "unique_keys = list(countries_gdf['Phytosanitary Capacity'].unique())\n",
    "unique_keys.sort()"
   ]
  },
  {
   "cell_type": "code",
   "execution_count": null,
   "metadata": {},
   "outputs": [],
   "source": [
    "# Rescale input phytosanitary capacity values using specified\n",
    "# minimum and maxmimum values\n",
    "\n",
    "# Minimum phytosanitary capacity value when rescaled\n",
    "scaled_min = 0.3\n",
    "\n",
    "# Maximum phytosanitary capacity value when rescaled\n",
    "scaled_max = 0.8\n",
    "\n",
    "phyto_dict = {}\n",
    "\n",
    "for i in unique_keys:\n",
    "    if np.isnan(i):\n",
    "        phyto_dict[i] = 0\n",
    "    else:\n",
    "        if np.isnan(unique_keys).any():\n",
    "            increments = len(unique_keys) - 1\n",
    "        else:\n",
    "            increments = len(unique_keys)\n",
    "        \n",
    "        scale_diff = scaled_max - scaled_min\n",
    "        phyto_dict[i] = round((scale_diff / increments) * unique_keys.index(i), 2) + scaled_min\n",
    "\n",
    "phyto_dict"
   ]
  },
  {
   "cell_type": "code",
   "execution_count": null,
   "metadata": {},
   "outputs": [],
   "source": [
    "countries_gdf[\"Phytosanitary Capacity\"] = countries_gdf[\"Phytosanitary Capacity\"].replace(phyto_dict) "
   ]
  },
  {
   "cell_type": "code",
   "execution_count": null,
   "metadata": {},
   "outputs": [],
   "source": [
    "countries_gdf.set_index('ISO3', inplace=True)\n",
    "countries_gdf.head()"
   ]
  },
  {
   "cell_type": "code",
   "execution_count": null,
   "metadata": {},
   "outputs": [],
   "source": [
    "# Read example trade matrix to identify which countries are in the geodataframe but not\n",
    "# in the trade data\n",
    "example_trade = pd.read_csv(f\"{input_dir}/comtrade{suffix}/monthly_agg/6801-6804/HS68_trades_201001.csv\", header=0, index_col=0, encoding='latin-1')\n",
    "country_set = set(countries_gdf.index.values)\n",
    "trade_set = set(example_trade.index.values)"
   ]
  },
  {
   "cell_type": "code",
   "execution_count": null,
   "metadata": {},
   "outputs": [],
   "source": [
    "print('# ISO3 codes in countries geopackage:\\t', len(country_set))\n",
    "print('# ISO3 code matches:\\t\\t\\t', len(trade_set.intersection(country_set)))\n",
    "\n",
    "print('Which countries are in the TRADE data but NOT the COUNTRIES geopackage')\n",
    "miss_country = trade_set - country_set\n",
    "print('\\n', miss_country)\n",
    "\n",
    "print('Which countries are in the COUNTRIES geopackage but NOT the TRADE data:')\n",
    "miss_trade = country_set - trade_set \n",
    "print('\\n', miss_trade)"
   ]
  },
  {
   "cell_type": "markdown",
   "metadata": {},
   "source": [
    "IMN: Isle of Man\n",
    "PRI: Puerto Rico\n",
    "ALA: Aland Islands\n",
    "LIE: Liechtenstein\n",
    "MTQ: Martinique\n",
    "GUF: French Guiana\n",
    "MAF: Saint-Martin (French part)\n",
    "TWN: Taiwan\n",
    "JEY: Jersey\n",
    "MCO: Monaco\n",
    "GGY: Guernsey\n",
    "GLP: Guadeloupe\n",
    "REU: Réunion\n",
    "VIR: US Virgin Islands\n",
    "BVT: Bouvet Island\n",
    "SJM: Svalbard and Jan Mayen Islands"
   ]
  },
  {
   "cell_type": "code",
   "execution_count": null,
   "metadata": {},
   "outputs": [],
   "source": [
    "# Remove countries from the geodataframe that do not have trade data\n",
    "countries_filtered = countries_gdf.drop(miss_trade, axis=0)"
   ]
  },
  {
   "cell_type": "code",
   "execution_count": null,
   "metadata": {},
   "outputs": [],
   "source": [
    "# Reorder the countries geodataframe rows to match the \n",
    "# trade index order\n",
    "index_list = list(example_trade.index.values)\n",
    "countries_filtered_reindex = countries_filtered.loc[index_list, :]"
   ]
  },
  {
   "cell_type": "code",
   "execution_count": null,
   "metadata": {},
   "outputs": [],
   "source": [
    "countries_filtered_reindex.reset_index(inplace=True)\n",
    "countries_filtered_reindex.head()"
   ]
  },
  {
   "cell_type": "code",
   "execution_count": null,
   "metadata": {},
   "outputs": [],
   "source": [
    "# Save filtered and reindexed countries data with climate, host %s, and phyto values\n",
    "countries_path = f\"{input_dir}/countries_slf_hiiMask{str(threshold_val)}{suffix}.gpkg\"\n",
    "countries_filtered_reindex.to_file(countries_path, driver='GPKG')"
   ]
  },
  {
   "cell_type": "code",
   "execution_count": null,
   "metadata": {},
   "outputs": [],
   "source": [
    "# Save full country data frame path to .env file\n",
    "print(dotenv.set_key(env_file, \"COUNTRIES_PATH\", countries_path))"
   ]
  },
  {
   "cell_type": "markdown",
   "metadata": {},
   "source": [
    "## Create Distance Matrix\n",
    "Calculate the distance between each origin-destination country pair. Save \n",
    "as matrix array. "
   ]
  },
  {
   "cell_type": "code",
   "execution_count": null,
   "metadata": {},
   "outputs": [],
   "source": [
    "distances = distance_between(countries_filtered_reindex)"
   ]
  },
  {
   "cell_type": "code",
   "execution_count": null,
   "metadata": {},
   "outputs": [],
   "source": [
    "np.save(f\"{input_dir}/distance_matrix{suffix}.npy\", distances)"
   ]
  },
  {
   "cell_type": "markdown",
   "metadata": {},
   "source": [
    "## Create Climate Simiarities Matrix\n",
    "Calculate the similarity between each origin-destination country pair. Save as matrix array."
   ]
  },
  {
   "cell_type": "code",
   "execution_count": null,
   "metadata": {},
   "outputs": [],
   "source": [
    "# Create an n x n array of climate similarity calculations\n",
    "climate_similarities = create_climate_similarities_matrix(\n",
    "    array_template=example_trade, countries=countries_filtered_reindex\n",
    ")"
   ]
  },
  {
   "cell_type": "code",
   "execution_count": null,
   "metadata": {},
   "outputs": [],
   "source": [
    "np.save(f\"{input_dir}/climate_similarities_hiiMask{str(threshold_val)}{suffix}.npy\", climate_similarities)"
   ]
  },
  {
   "cell_type": "code",
   "execution_count": null,
   "metadata": {},
   "outputs": [],
   "source": []
  }
 ],
 "metadata": {
  "kernelspec": {
   "display_name": "py37_geo",
   "language": "python",
   "name": "py37_geo"
  },
  "language_info": {
   "codemirror_mode": {
    "name": "ipython",
    "version": 3
   },
   "file_extension": ".py",
   "mimetype": "text/x-python",
   "name": "python",
   "nbconvert_exporter": "python",
   "pygments_lexer": "ipython3",
   "version": "3.7.9"
  }
 },
 "nbformat": 4,
 "nbformat_minor": 4
}
