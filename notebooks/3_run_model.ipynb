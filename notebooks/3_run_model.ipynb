{
 "cells": [
  {
   "cell_type": "markdown",
   "source": [
    "# PoPS Global Model:\r\n",
    "## Predicting the spread of plant pests or pathogens using trade, environment, and pest ecology open data\r\n",
    "\r\n",
    "This notebook provides the workflow for running the PoPS Global Model. To run this notebook, the following are assumed:\r\n",
    "- Cloned the Pandemic GitHub repository (git clone https://github.com/ncsu-landscape-dynamics/PoPS-Global.git)\r\n",
    "- Notebook launched from the notebook folder of the cloned repo\r\n",
    "- Already have the required data downloaded and formatted (see 1_data_acquisition_format notebook)"
   ],
   "metadata": {}
  },
  {
   "cell_type": "markdown",
   "source": [
    "## Imports"
   ],
   "metadata": {}
  },
  {
   "cell_type": "code",
   "execution_count": null,
   "source": [
    "import os\r\n",
    "import sys\r\n",
    "import json\r\n",
    "import math\r\n",
    "import numpy as np\r\n",
    "import pandas as pd\r\n",
    "import geopandas\r\n",
    "from dotenv import load_dotenv"
   ],
   "outputs": [],
   "metadata": {}
  },
  {
   "cell_type": "code",
   "execution_count": null,
   "source": [
    "os.chdir('../')\r\n",
    "print(os.getcwd())"
   ],
   "outputs": [],
   "metadata": {}
  },
  {
   "cell_type": "code",
   "execution_count": null,
   "source": [
    "from pandemic.helpers import create_trades_list\r\n",
    "from pandemic.model_equations import (\r\n",
    "    pandemic_multiple_time_steps,\r\n",
    ")\r\n",
    "from pandemic.output_files import (\r\n",
    "    create_model_dirs,\r\n",
    "    save_model_output,\r\n",
    "    aggregate_monthly_output_to_annual,\r\n",
    "    write_model_metadata,\r\n",
    ")"
   ],
   "outputs": [],
   "metadata": {}
  },
  {
   "cell_type": "markdown",
   "source": [
    "## Set Paths and Environment Variables"
   ],
   "metadata": {}
  },
  {
   "cell_type": "code",
   "execution_count": null,
   "source": [
    "# Path to folder containing .env file if not saved in current working directory\r\n",
    "# e.g., 'H:/Shared drives/APHIS  Projects/Pandemic/Data'\r\n",
    "# env_file_path = str(input())"
   ],
   "outputs": [],
   "metadata": {}
  },
  {
   "cell_type": "code",
   "execution_count": null,
   "source": [
    "load_dotenv(os.path.join('.env'))"
   ],
   "outputs": [],
   "metadata": {}
  },
  {
   "cell_type": "code",
   "execution_count": null,
   "source": [
    "# Read environmental variables\r\n",
    "data_dir = os.getenv('DATA_PATH')\r\n",
    "input_dir = os.getenv('INPUT_PATH')\r\n",
    "out_dir = os.getenv('OUTPUT_PATH')\r\n",
    "countries_path = os.getenv('COUNTRIES_PATH')\r\n",
    "\r\n",
    "print(countries_path)"
   ],
   "outputs": [],
   "metadata": {}
  },
  {
   "cell_type": "markdown",
   "source": [
    "## Set Model Parameters\n",
    "Model arguments can be set with a configuration file, created in the\n",
    "create_model_config notebook, or by entering in the values below"
   ],
   "metadata": {}
  },
  {
   "cell_type": "markdown",
   "source": [
    "### With Configuration File"
   ],
   "metadata": {}
  },
  {
   "cell_type": "code",
   "execution_count": null,
   "source": [
    "# Path to model configuration file\r\n",
    "# e.g. input_dir + '/config_files/slf_gamma4-1_6801-6804_v2/config.json'\r\n",
    "# path_to_config_json = str(input())"
   ],
   "outputs": [],
   "metadata": {}
  },
  {
   "cell_type": "code",
   "execution_count": null,
   "source": [
    "# Read model arguments from configuration file\r\n",
    "# with open(path_to_config_json) as json_file:\r\n",
    "#     config = json.load(json_file)\r\n",
    "\r\n",
    "# Columns to drop from model output dataframe \r\n",
    "# cols_to_drop = config[\"columns_to_drop\"]\r\n",
    "\r\n",
    "# commodity_path = config[\"commodity_path\"]\r\n",
    "# commodity_forecast_path = config[\"commodity_forecast_path\"]\r\n",
    "# native_countries_list = config[\"native_countries_list\"]\r\n",
    "# season_dict = config[\"season_dict\"]\r\n",
    "# alpha = config[\"alpha\"]\r\n",
    "# beta = config[\"beta\"]\r\n",
    "# mu = config[\"mu\"]\r\n",
    "# lamda_c_list = config[\"lamda_c_list\"]\r\n",
    "# phi = config[\"phi\"]\r\n",
    "# w_phi = config[\"w_phi\"]\r\n",
    "# start_year = config[\"start_year\"]\r\n",
    "# stop_year = config[\"stop_year\"]\r\n",
    "# random_seed = config[\"random_seed\"]\r\n",
    "# cols_to_drop = config[\"columns_to_drop\"]\r\n",
    "# time_infect_units = config[\"transmission_lag_unit\"]\r\n",
    "# transmission_lag_type = config[\"transmission_lag_type\"]\r\n",
    "# time_infect = config[\"time_to_infectivity\"]\r\n",
    "# gamma_shape = config[\"transmission_lag_shape\"]\r\n",
    "# gamma_scale = config[\"transmission_lag_scale\"]\r\n",
    "# save_entry = config['save_entry']\r\n",
    "# save_estab = config['save_estab']\r\n",
    "# save_intro = config[\"save_intro\"]\r\n",
    "# save_country_intros = config[\"save_country_intros\"]"
   ],
   "outputs": [],
   "metadata": {}
  },
  {
   "cell_type": "markdown",
   "source": [
    "### In Current Session"
   ],
   "metadata": {}
  },
  {
   "cell_type": "code",
   "execution_count": null,
   "source": [
    "# commodity_path = f\"{input_dir}/monthly_agg/6801-6804\"\r\n",
    "commodity_path = f\"{input_dir}/comtrade_wTWN/monthly_agg/6801-6804\"\r\n",
    "\r\n",
    "# Forecast path can be set to None to exclude forecast from model run\r\n",
    "commodity_forecast_path = f\"{input_dir}/comtrade_wTWN/trade_forecast/monthly_agg/6801-6804\"\r\n",
    "\r\n",
    "# List of countries where pest is present at time T0\r\n",
    "native_countries_list = [\r\n",
    "        \"China\",\r\n",
    "        #\"Viet Nam\",\r\n",
    "        #\"India\"\r\n",
    "    ]\r\n",
    "\r\n",
    "# List of months when pest can be transported\r\n",
    "season_dict = {\r\n",
    "        \"NH_season\": [\r\n",
    "            \"09\",\r\n",
    "            \"10\",\r\n",
    "            \"11\",\r\n",
    "            \"12\",\r\n",
    "            \"01\",\r\n",
    "            \"02\",\r\n",
    "            \"03\",\r\n",
    "            \"04\"\r\n",
    "        ],\r\n",
    "        \"SH_season\": [\r\n",
    "            \"04\",\r\n",
    "            \"05\",\r\n",
    "            \"06\",\r\n",
    "            \"07\",\r\n",
    "            \"08\",\r\n",
    "            \"09\",\r\n",
    "            \"10\"\r\n",
    "        ]\r\n",
    "    }\r\n",
    "\r\n",
    "# scenario_list = []\r\n",
    "\r\n",
    "# for i in range(2010, 2030):\r\n",
    "#     start_scenario = [2010, 'CHN', 'USA', 'decrease', 1]\r\n",
    "#     new_scenario = start_scenario\r\n",
    "#     new_scenario[0] = i\r\n",
    "#     scenario_list .append(new_scenario)\r\n",
    "    \r\n",
    "# for i in range(2014, 2030):\r\n",
    "#     start_scenario = [2014, 'JPN', 'USA', 'decrease', 0.8]\r\n",
    "#     new_scenario = start_scenario\r\n",
    "#     new_scenario[0] = i\r\n",
    "#     scenario_list .append(new_scenario)\r\n",
    "    \r\n",
    "# for i in range(2014, 2030):\r\n",
    "#     start_scenario = [2014, 'KOR', 'USA', 'decrease', 0.8]\r\n",
    "#     new_scenario = start_scenario\r\n",
    "#     new_scenario[0] = i\r\n",
    "#     scenario_list .append(new_scenario)\r\n",
    "    \r\n",
    "# for i in range(2020, 2030):\r\n",
    "#     start_scenario = [2020, 'ITA', 'USA', 'decrease', 0.8]\r\n",
    "#     new_scenario = start_scenario\r\n",
    "#     new_scenario[0] = i\r\n",
    "#     scenario_list .append(new_scenario)\r\n",
    "    \r\n",
    "# for i in range(2020, 2030):\r\n",
    "#     start_scenario = [2020, 'TUR', 'USA', 'decrease', 0.8]\r\n",
    "#     new_scenario = start_scenario\r\n",
    "#     new_scenario[0] = i\r\n",
    "#     scenario_list .append(new_scenario)"
   ],
   "outputs": [],
   "metadata": {}
  },
  {
   "cell_type": "code",
   "execution_count": null,
   "source": [
    "alpha = 0.2\n",
    "beta = 0.5\n",
    "mu = 0\n",
    "lamda_c_list = [2.5]\n",
    "phi = 1\n",
    "w_phi = 1\n",
    "start_year = 2006\n",
    "stop_year = None\n",
    "random_seed = None\n",
    "\n",
    "# Transmission lag type to include (e.g., None, static, stochastic)\n",
    "transmission_lag_type = \"stochastic\" \n",
    "\n",
    "# If transmission lag type is static, set time_infect as number of \n",
    "# years to delay country from becoming an origin. If lag type is\n",
    "# none or stochastic, set to None\n",
    "time_infect = None \n",
    "time_infect_units = \"year\"\n",
    "\n",
    "# If transmission lag type is stochastic, set values to generate\n",
    "# a gamma distribution. If lag type is none or static, ste to None. \n",
    "gamma_shape = 4\n",
    "gamma_scale = 1"
   ],
   "outputs": [],
   "metadata": {}
  },
  {
   "cell_type": "code",
   "execution_count": null,
   "source": [
    "# Save n x n matrices for each time step where n is the number of countries, \n",
    "# and values represent the origin-destination probability of entry or \n",
    "# probability of establishment \n",
    "save_entry = False\n",
    "save_estab = False\n",
    "save_intro = False\n",
    "save_country_intros = False"
   ],
   "outputs": [],
   "metadata": {}
  },
  {
   "cell_type": "markdown",
   "source": [
    "## Load Model Input Data"
   ],
   "metadata": {}
  },
  {
   "cell_type": "code",
   "execution_count": null,
   "source": [
    "# Read formatted countries geopackage, distance matrix, and climate similarities matrix\n",
    "countries = geopandas.read_file(countries_path, driver=\"GPKG\")\n",
    "distances = np.load(input_dir + '/distance_matrix_wTWN.npy')\n",
    "climate_similarities = np.load(input_dir + '/climate_similarities_hiiMask16_wTWN.npy')"
   ],
   "outputs": [],
   "metadata": {}
  },
  {
   "cell_type": "code",
   "execution_count": null,
   "source": [
    "# Read & format trade data\n",
    "trades_list, file_list_filtered, code_list, commodities_available = create_trades_list(\n",
    "    commodity_path=commodity_path,\n",
    "    commodity_forecast_path=commodity_forecast_path,\n",
    "    start_year=start_year,\n",
    "    stop_year=stop_year,\n",
    "    distances=distances,\n",
    ")"
   ],
   "outputs": [],
   "metadata": {}
  },
  {
   "cell_type": "code",
   "execution_count": null,
   "source": [
    "# Create list of unique dates from trade data\n",
    "date_list = []\n",
    "for f in file_list_filtered:\n",
    "    fn = os.path.split(f)[1]\n",
    "    ts = str.split(os.path.splitext(fn)[0], \"_\")[-1]\n",
    "    date_list.append(ts)\n",
    "date_list.sort()\n",
    "end_sim_year = date_list[-1][:4]"
   ],
   "outputs": [],
   "metadata": {}
  },
  {
   "cell_type": "code",
   "execution_count": null,
   "source": [
    "# Example trade array for formatting outputs\n",
    "traded = pd.read_csv(\n",
    "    file_list_filtered[0], sep=\",\", header=0, index_col=0, encoding=\"latin1\"\n",
    ")"
   ],
   "outputs": [],
   "metadata": {}
  },
  {
   "cell_type": "code",
   "execution_count": null,
   "source": [
    "# Checking trade array shapes\n",
    "print(\"Length of trades list: \", len(trades_list))\n",
    "for i in range(len(trades_list)):\n",
    "    print(\"\\tcommodity array shape: \", trades_list[i].shape)"
   ],
   "outputs": [],
   "metadata": {}
  },
  {
   "cell_type": "markdown",
   "source": [
    "## Run Model for Selected Time Steps and Commodities"
   ],
   "metadata": {}
  },
  {
   "cell_type": "code",
   "execution_count": null,
   "source": [
    "# Name model results: simultation name, additional description (i.e., parameter value\n",
    "# or scenario tested), and run number to identify stochastic run. \n",
    "sim_name = f'slf_test'\n",
    "add_descript = 'inflation_adjusted'\n",
    "\n",
    "# First run should be run_num = 0\n",
    "run_num = 0"
   ],
   "outputs": [],
   "metadata": {}
  },
  {
   "cell_type": "code",
   "execution_count": null,
   "source": [
    "print(\"Number of commodities: \", len([c for c in lamda_c_list if c > 0]))\n",
    "print(\"Number of time steps: \", trades_list[0].shape[0])\n",
    "for i in range(len(trades_list)):\n",
    "    if len(trades_list) > 1:\n",
    "        code = code_list[i]\n",
    "        print(\"\\nRunning model for commodity: \", code)\n",
    "    else:\n",
    "        code = code_list[0]\n",
    "        print(\n",
    "            \"\\nRunning model for commodity: \",\n",
    "            os.path.basename(commodities_available[0]),\n",
    "        )\n",
    "    trades = trades_list[i]\n",
    "    distances = distances\n",
    "    locations = countries\n",
    "    prob = np.zeros(len(countries.index))\n",
    "    pres_ts0 = [False] * len(prob)\n",
    "    infect_ts0 = np.empty(locations.shape[0], dtype=\"object\")\n",
    "    for country in native_countries_list:\n",
    "        country_index = countries.index[countries[\"NAME\"] == country][0]\n",
    "        pres_ts0[country_index] = True\n",
    "        # if time steps are monthly and time to infectivity is in years\n",
    "        if len(date_list[0]) > 4:\n",
    "            infect_ts0[country_index] = str(start_year) + \"01\"\n",
    "        # else if time steps are annual and time to infectivity is in years\n",
    "        else:\n",
    "            infect_ts0[country_index] = str(start_year)\n",
    "    locations[\"Presence\"] = pres_ts0\n",
    "    locations[\"Infective\"] = infect_ts0\n",
    "\n",
    "    iu1 = np.triu_indices(climate_similarities.shape[0], 1)\n",
    "    \n",
    "    # revised equation values\n",
    "    sigma_h = (1 - countries[\"Host Percent Area\"]).std()\n",
    "    sigma_kappa = np.std(1 - climate_similarities[iu1])\n",
    "    \n",
    "    \n",
    "    np.random.seed(random_seed)\n",
    "    lamda_c = lamda_c_list[i]\n",
    "\n",
    "    if lamda_c > 0:\n",
    "        e = pandemic_multiple_time_steps(\n",
    "            trades=trades,\n",
    "            distances=distances,\n",
    "            locations=locations,\n",
    "            climate_similarities=climate_similarities,\n",
    "            alpha=alpha,\n",
    "            beta=beta,\n",
    "            mu=mu,\n",
    "            lamda_c=lamda_c,\n",
    "            phi=phi,\n",
    "            sigma_h=sigma_h,\n",
    "            sigma_kappa=sigma_kappa,\n",
    "            w_phi=w_phi,\n",
    "            start_year=start_year,\n",
    "            date_list=date_list,\n",
    "            season_dict=season_dict,\n",
    "            transmission_lag_type=transmission_lag_type,\n",
    "            time_infect_units=time_infect_units,\n",
    "            time_infect=time_infect,\n",
    "            gamma_shape=gamma_shape,\n",
    "            gamma_scale=gamma_scale,\n",
    "            # scenario_list=scenario_list\n",
    "        )\n",
    "\n",
    "\n",
    "        run_prefix = f\"{sim_name}_{add_descript}_{code}\"\n",
    "\n",
    "        arr_dict = {\n",
    "            \"prob_entry\": \"probability_of_entry\",\n",
    "            \"prob_intro\": \"probability_of_introduction\",\n",
    "            \"prob_est\": \"probability_of_establishment\",\n",
    "            \"country_introduction\": \"country_introduction\",\n",
    "        }\n",
    "\n",
    "        outpath = out_dir + f\"/{sim_name}/{run_prefix}/run_{run_num}/\"\n",
    "        create_model_dirs(\n",
    "            outpath=outpath,\n",
    "            output_dict=arr_dict,\n",
    "            write_entry_probs=save_entry, \n",
    "            write_estab_probs=save_estab,\n",
    "            write_intro_probs=save_intro,\n",
    "            write_country_intros=save_country_intros,\n",
    "        )\n",
    "        print(\"saving model outputs: \", outpath)\n",
    "        full_out_df = save_model_output(\n",
    "            model_output_object=e,\n",
    "            example_trade_matrix=traded,\n",
    "            outpath=outpath,\n",
    "            date_list=date_list,\n",
    "            write_entry_probs=save_entry,\n",
    "            write_estab_probs=save_estab,\n",
    "            write_intro_probs=save_intro,\n",
    "            write_country_intros=save_country_intros,\n",
    "            columns_to_drop=None\n",
    "        )\n",
    "\n",
    "        # If time steps are monthly, aggregate predictions to\n",
    "        # annual for dashboard display\n",
    "        if len(date_list[i]) > 4:\n",
    "            print(\"aggregating monthly predictions to annual time steps...\")\n",
    "            aggregate_monthly_output_to_annual(\n",
    "                formatted_geojson=full_out_df, outpath=outpath\n",
    "            )\n",
    "\n",
    "        # Save model metadata to text file\n",
    "        print(\"writing model metadata...\")\n",
    "        write_model_metadata(\n",
    "            main_model_output=e[0],\n",
    "            alpha=alpha,\n",
    "            beta=beta,\n",
    "            mu=mu,\n",
    "            lamda_c_list=lamda_c_list,\n",
    "            phi=phi,\n",
    "            sigma_h=sigma_h,\n",
    "            sigma_kappa=sigma_kappa,\n",
    "            w_phi=w_phi,\n",
    "            start_year=start_year,\n",
    "            end_sim_year=end_sim_year,\n",
    "            transmission_lag_type=transmission_lag_type,\n",
    "            time_infect_units=time_infect_units,\n",
    "            gamma_shape=gamma_shape,\n",
    "            gamma_scale=gamma_scale,\n",
    "            random_seed=random_seed,\n",
    "            time_infect=time_infect,\n",
    "            native_countries_list=native_countries_list,\n",
    "            countries_path=countries_path,\n",
    "            commodities_available=commodities_available[i], \n",
    "            commodity_forecast_path=commodity_forecast_path,\n",
    "            phyto_weights=list(locations['Phytosanitary Capacity'].unique()),\n",
    "            outpath=outpath, \n",
    "            run_num=run_num,\n",
    "        )\n",
    "\n",
    "    else:\n",
    "        print(\"\\tskipping as pest is not transported with this commodity\")"
   ],
   "outputs": [],
   "metadata": {
    "tags": []
   }
  },
  {
   "cell_type": "code",
   "execution_count": null,
   "source": [],
   "outputs": [],
   "metadata": {}
  }
 ],
 "metadata": {
  "kernelspec": {
   "display_name": "py38_geo",
   "language": "python",
   "name": "py38_geo"
  },
  "language_info": {
   "codemirror_mode": {
    "name": "ipython",
    "version": 3
   },
   "file_extension": ".py",
   "mimetype": "text/x-python",
   "name": "python",
   "nbconvert_exporter": "python",
   "pygments_lexer": "ipython3",
   "version": "3.8.5"
  }
 },
 "nbformat": 4,
 "nbformat_minor": 4
}