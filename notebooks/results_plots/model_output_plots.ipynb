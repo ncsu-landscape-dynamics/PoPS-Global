{
 "cells": [
  {
   "cell_type": "code",
   "execution_count": null,
   "metadata": {},
   "outputs": [],
   "source": [
    "import os\n",
    "import glob\n",
    "import math\n",
    "from pathlib import Path\n",
    "import datetime\n",
    "import pandas as pd\n",
    "import numpy as np\n",
    "import geopandas\n",
    "import matplotlib.pyplot as plt\n",
    "import seaborn as sns"
   ]
  },
  {
   "cell_type": "code",
   "execution_count": null,
   "metadata": {},
   "outputs": [],
   "source": [
    "pd.set_option('display.max_columns', None)"
   ]
  },
  {
   "cell_type": "code",
   "execution_count": null,
   "metadata": {},
   "outputs": [],
   "source": [
    "dir_path = \"H:/Shared drives/SLF Paper Outputs\"\n",
    "os.chdir(dir_path)\n",
    "print(os.getcwd())"
   ]
  },
  {
   "cell_type": "code",
   "execution_count": null,
   "metadata": {},
   "outputs": [],
   "source": [
    "# 10th Percentile\n",
    "def q10(x):\n",
    "    return x.quantile(0.1)"
   ]
  },
  {
   "cell_type": "code",
   "execution_count": null,
   "metadata": {},
   "outputs": [],
   "source": [
    "countries_path = \"H:/Shared drives/Pandemic Data/slf_model/inputs/noTWN/countries_slf_hiiMask16.gpkg\"\n",
    "countries_geo = geopandas.read_file(countries_path)\n",
    "countries = countries_geo.iloc[:,[4]]\n",
    "countries.set_index(\"NAME\")"
   ]
  },
  {
   "cell_type": "code",
   "execution_count": null,
   "metadata": {},
   "outputs": [],
   "source": [
    "main_sim = \"slf_scenarios_noTWN_wChinaVietnam\"\n",
    "sim_names = [os.path.basename(name) for name in glob.glob(dir_path + f'/outputs/{main_sim}/*') if (os.path.basename(name) != 'header.csv') and (os.path.isdir(name)) and (os.path.basename(name) != 'viz_data') and (os.path.basename(name) != 'summary_data')]\n",
    "sim_names"
   ]
  },
  {
   "source": [
    "## Skip next cell and go to load CSVs if results are saved"
   ],
   "cell_type": "markdown",
   "metadata": {}
  },
  {
   "cell_type": "code",
   "execution_count": null,
   "metadata": {},
   "outputs": [],
   "source": [
    "for i in range(len(sim_names)):\n",
    "    model_run_name = sim_names[i]\n",
    "    print(f\"\\t{model_run_name}\")\n",
    "    results_dir = f\"{dir_path}/outputs/{main_sim}/{model_run_name}/alpha0.2_lamda3.9_6801-6804/\"\n",
    "\n",
    "    org_dest_all = pd.DataFrame()\n",
    "    first_intros_all = pd.DataFrame()\n",
    "    first_exports_all = pd.DataFrame()\n",
    "    country_count = (pd.DataFrame(index=countries.iloc[:,0], columns=[\"count\"])).fillna(0)\n",
    "    coi_first_intros_by_origin = pd.DataFrame()\n",
    "    \n",
    "    paths = glob.glob(results_dir + '**/origin_destination.csv')\n",
    "    for path in paths:\n",
    "        run = path.split(\"\\\\\")[-2]\n",
    "        # load origin-destination model output\n",
    "        org_dest = (pd.read_csv(path)).iloc[:,1:4]\n",
    "        org_dest[\"TS\"] = org_dest[\"TS\"].astype(str)\n",
    "        org_dest[\"TS\"] = (org_dest.TS.str[:4]).astype(int)\n",
    "        org_dest_all = org_dest_all.append(org_dest)\n",
    "\n",
    "        # get list of countries in transmission network and add to count\n",
    "        run_countries = list(set(list(org_dest.Origin) + list(org_dest.Destination)))\n",
    "        for country in run_countries:\n",
    "            country_count.loc[country] = country_count.loc[country] + 1\n",
    "\n",
    "        # identify first introductions to each country\n",
    "        first_intro = org_dest.drop_duplicates(subset = [\"Destination\"])\n",
    "        first_intros_all = first_intros_all.append(first_intro, ignore_index=True)\n",
    "\n",
    "        # identify first export from each country\n",
    "        first_export = org_dest.drop_duplicates(subset = [\"Origin\"])\n",
    "        first_exports_all = first_exports_all.append(first_export, ignore_index=True)\n",
    "\n",
    "        # COI first intros by origin\n",
    "        coi_first_intros = (org_dest[org_dest[\"Destination\"] == coi]).drop_duplicates(subset = [\"Origin\"])\n",
    "        coi_first_intros_by_origin = coi_first_intros_by_origin.append(coi_first_intros, ignore_index=True)\n",
    "\n",
    "    # Save all summaries    \n",
    "    model_stats_dir = f\"{dir_path}/outputs/summary_stats/{main_sim}/{model_run_name}\"\n",
    "    if not os.path.exists(model_stats_dir):\n",
    "        os.makedirs(model_stats_dir)\n",
    "    org_dest_all.to_csv(f\"{model_stats_dir}/org_dest_all.csv\")\n",
    "    country_count.to_csv(f\"{model_stats_dir}/country_count.csv\")\n",
    "    first_intros_all.to_csv(f\"{model_stats_dir}/first_intros_all.csv\")\n",
    "    first_exports_all.to_csv(f\"{model_stats_dir}/first_exports_all.csv\")\n",
    "    coi_first_intros_by_origin.to_csv(f\"{model_stats_dir}/coi_first_intros_by_origin.csv\")\n"
   ]
  },
  {
   "source": [
    "## Load summary CSVs"
   ],
   "cell_type": "markdown",
   "metadata": {}
  },
  {
   "cell_type": "code",
   "execution_count": null,
   "metadata": {},
   "outputs": [],
   "source": [
    "native_countries_list = [\"China\", \"Viet Nam\"]\n",
    "start_year = 2006\n",
    "end_year = 2029\n",
    "sim_years = list(range(start_year, end_year + 1))\n",
    "num_runs = 1000\n",
    "\n",
    "# set country of interest (coi)\n",
    "coi = \"United States\""
   ]
  },
  {
   "cell_type": "code",
   "execution_count": null,
   "metadata": {},
   "outputs": [],
   "source": [
    "model_run_name = \"BAU\"\n",
    "model_stats_dir = f\"{dir_path}/outputs/summary_stats/{main_sim}/{model_run_name}\""
   ]
  },
  {
   "cell_type": "code",
   "execution_count": null,
   "metadata": {},
   "outputs": [],
   "source": [
    "org_dest_all = pd.read_csv(f\"{model_stats_dir}/org_dest_all.csv\")\n",
    "country_count = pd.read_csv(f\"{model_stats_dir}/country_count.csv\")\n",
    "first_intros_all = pd.read_csv(f\"{model_stats_dir}/first_intros_all.csv\")\n",
    "first_exports_all = pd.read_csv(f\"{model_stats_dir}/first_exports_all.csv\")\n",
    "coi_first_intros_by_origin = pd.read_csv(f\"{model_stats_dir}/coi_first_intros_by_origin.csv\")"
   ]
  },
  {
   "source": [
    "## Change country spellings"
   ],
   "cell_type": "markdown",
   "metadata": {}
  },
  {
   "cell_type": "code",
   "execution_count": null,
   "metadata": {},
   "outputs": [],
   "source": [
    "name_changes = {\"Korea, Republic of\":\"Rep. of Korea\", \"Viet Nam\":\"Vietnam\"}"
   ]
  },
  {
   "cell_type": "code",
   "execution_count": null,
   "metadata": {},
   "outputs": [],
   "source": [
    "org_dest_all = org_dest_all.replace(name_changes)\n",
    "country_count = country_count.replace(name_changes)\n",
    "first_intros_all = first_intros_all.replace(name_changes)\n",
    "first_exports_all = first_exports_all.replace(name_changes)\n",
    "coi_first_intros_by_origin = coi_first_intros_by_origin.replace(name_changes)\n",
    "countries = countries.replace(name_changes)"
   ]
  },
  {
   "source": [
    "## Plot first introduction year by country"
   ],
   "cell_type": "markdown",
   "metadata": {}
  },
  {
   "cell_type": "code",
   "execution_count": null,
   "metadata": {},
   "outputs": [],
   "source": [
    "destinations_all = list(set(first_intros_all[\"Destination\"]))\n",
    "min_intro_prop = 0.5\n",
    "destinations = []\n",
    "for i in range(len(destinations_all)):\n",
    "    if len(first_intros_all.loc[first_intros_all[\"Destination\"] == destinations_all[i]]) > num_runs * min_intro_prop:\n",
    "        destinations.append(destinations_all[i])\n",
    "num_destinations = len(destinations)"
   ]
  },
  {
   "cell_type": "code",
   "execution_count": null,
   "metadata": {},
   "outputs": [],
   "source": [
    "# Plot histograms of first intros by destination\n",
    "fig, axs = plt.subplots(2, math.ceil(num_destinations/2), sharey=True, sharex=True, figsize=(12,6))\n",
    "fig.subplots_adjust(hspace=0.35, wspace=0.15, top=0.82)\n",
    "fig.text(0.5, 0.04, 'year', ha='center', fontsize=16)\n",
    "fig.text(0.08, 0.5, 'model runs', va='center', rotation='vertical', fontsize=18)\n",
    "axs = axs.ravel()\n",
    "for i in range(num_destinations):\n",
    "    axs[i].hist(list(first_intros_all.loc[first_intros_all[\"Destination\"] == destinations[i], \"TS\"]))\n",
    "    axs[i].set_title(destinations[i])\n",
    "plt.suptitle(f'''{model_run_name} \\n Year of First Introduction by Destination''', fontsize=18)\n",
    "plt.savefig(f'{model_stats_dir}/first_intro_by_destination.png')\n"
   ]
  },
  {
   "cell_type": "code",
   "execution_count": null,
   "metadata": {},
   "outputs": [],
   "source": [
    "# Save separate plots for histograms of first intros by destination\n",
    "for i in range(num_destinations):\n",
    "    fig, ax = plt.subplots(1, figsize=(4, 3))\n",
    "    fig.subplots_adjust(left=0.27, top=0.76, bottom=0.21)\n",
    "    ax.hist(list(first_intros_all.loc[first_intros_all[\"Destination\"] == destinations[i], \"TS\"]), color=\"#31688e\")\n",
    "    ax.set_title(f'''{destinations[i]}\\nFirst Introduction Year''', fontsize=18, pad=14)\n",
    "    ax.set_xlabel(\"year\", fontsize=18)\n",
    "    ax.set_ylabel(\"% model runs\", fontsize=18)\n",
    "    ax.set_xlim(left=2005,right=2030)\n",
    "    ax.set_ylim(top=1000)\n",
    "    y_vals = ax.get_yticks()\n",
    "    ax.set_xticklabels([\"\",2010,\"\",2020,\"\",2030], fontsize=16)\n",
    "    ax.set_yticklabels(['{:3.0f}%'.format((x / 1000) * 100) for x in y_vals], fontsize=16)\n",
    "    plt.savefig(f'{model_stats_dir}/{destinations[i]}_first_intros.png')"
   ]
  },
  {
   "source": [
    "## Plot all introductions by country"
   ],
   "cell_type": "markdown",
   "metadata": {}
  },
  {
   "cell_type": "code",
   "execution_count": null,
   "metadata": {},
   "outputs": [],
   "source": [
    "destinations_all = list(set(org_dest_all[\"Destination\"]))\n",
    "min_intro_prop = 0.5\n",
    "destinations = []\n",
    "for i in range(len(destinations_all)):\n",
    "    if len(org_dest_all.loc[org_dest_all[\"Destination\"] == destinations_all[i]]) > num_runs * min_intro_prop:\n",
    "        destinations.append(destinations_all[i])\n",
    "num_destinations = len(destinations)"
   ]
  },
  {
   "cell_type": "code",
   "execution_count": null,
   "metadata": {},
   "outputs": [],
   "source": [
    "# Plot histograms of all intros by destination\n",
    "fig, axs = plt.subplots(2, math.ceil(num_destinations/2), sharey=True, sharex=True, figsize=(12,6))\n",
    "fig.subplots_adjust(hspace=0.35, wspace=0.15, top=0.82)\n",
    "fig.text(0.5, 0.04, 'year', ha='center', fontsize=13)\n",
    "fig.text(0.08, 0.5, 'model runs', va='center', rotation='vertical', fontsize=18)\n",
    "axs = axs.ravel()\n",
    "for i in range(num_destinations):\n",
    "    axs[i].hist(list(org_dest_all.loc[org_dest_all[\"Destination\"] == destinations[i], \"TS\"]))\n",
    "    axs[i].set_title(destinations[i])\n",
    "plt.suptitle(f'''{model_run_name} \\n Introductions by Destination''', fontsize=18)\n",
    "plt.savefig(f'{model_stats_dir}/all_intros_by_destination.png')\n"
   ]
  },
  {
   "cell_type": "code",
   "execution_count": null,
   "metadata": {},
   "outputs": [],
   "source": [
    "# Save separate plots for histograms of all intros by destination\n",
    "for i in range(num_destinations):\n",
    "    fig, ax = plt.subplots(1, figsize=(4,3))\n",
    "    fig.subplots_adjust(left=0.22, top=0.78, bottom=0.2)\n",
    "    ax.hist(list(org_dest_all.loc[org_dest_all[\"Destination\"] == destinations[i], \"TS\"]), color=\"#31688e\")\n",
    "    ax.set_title(f'''{destinations[i]}\\nIntroduction Year''', fontsize=18, pad=14)\n",
    "    ax.set_xlabel(\"year\", fontsize=18)\n",
    "    ax.set_ylabel(\"% model runs\", fontsize=18)\n",
    "    ax.set_xlim(left=2005,right=2030)\n",
    "    ax.set_ylim(top=1000)\n",
    "    y_vals = ax.get_yticks()\n",
    "    ax.set_xticklabels([\"\",2010,\"\",2020,\"\",2030], fontsize=16)\n",
    "    ax.set_yticklabels(['{:3.0f}%'.format((x / 1000) * 100) for x in y_vals], fontsize=16)\n",
    "    plt.savefig(f'{model_stats_dir}/{destinations[i]}_all_intros.png')"
   ]
  },
  {
   "source": [
    "## Bridgehead populations"
   ],
   "cell_type": "markdown",
   "metadata": {}
  },
  {
   "cell_type": "code",
   "execution_count": null,
   "metadata": {},
   "outputs": [],
   "source": [
    "# Count origins for each timestep\n",
    "origin_countries_by_ts = (pd.DataFrame(index=countries.iloc[:,0], columns=sim_years)).fillna(0)\n",
    "origins = (org_dest_all.groupby([\"Origin\", \"TS\"]).count()).reset_index().fillna(0)\n",
    "for i in range(len(origins)):\n",
    "    origin = origins.iloc[i,:]\n",
    "    origin_countries_by_ts.loc[origin.Origin, origin.TS] = origin.Destination\n"
   ]
  },
  {
   "cell_type": "code",
   "execution_count": null,
   "metadata": {},
   "outputs": [],
   "source": [
    "# Create heatmap of bridgehead introductions\n",
    "origin_countries_by_ts_filtered = origin_countries_by_ts[origin_countries_by_ts.loc[:,2029] > 0]\n",
    "fig, ax = plt.subplots(figsize = (12, 8))\n",
    "plt.subplots_adjust(left=0.22, right=1, top = .92)\n",
    "res = sns.heatmap(origin_countries_by_ts_filtered.drop([\"China\", \"Vietnam\"]), cmap = sns.color_palette(\"light:#31688e\", as_cmap=True), linewidths = 0.30, annot = False, cbar_kws={'label':f'Total Outgoing Transmissions Over {num_runs} Model Runs'})\n",
    "res.set_xticklabels(res.get_xmajorticklabels(), fontsize = 14)\n",
    "res.set_yticklabels(res.get_ymajorticklabels(), fontsize = 14)\n",
    "ax.figure.axes[-1].yaxis.label.set_size(14)\n",
    "plt.title(\"Spotted Lanternfly Exports from Bridgehead Populations\", fontsize=20, pad=15)\n",
    "plt.ylabel(\"\")\n",
    "plt.xlabel(\"Year\", fontsize = 14)\n",
    "plt.savefig(f\"{model_stats_dir}/bridgehead_sources.png\", dpi=600)\n",
    "plt.show()"
   ]
  },
  {
   "source": [
    "## COI introduction summaries"
   ],
   "cell_type": "markdown",
   "metadata": {}
  },
  {
   "cell_type": "code",
   "execution_count": null,
   "metadata": {},
   "outputs": [],
   "source": [
    "coi_all_intros = org_dest_all[org_dest_all[\"Destination\"] == coi]\n",
    "\n",
    "# Save COI intros summaries\n",
    "coi_all_intros_by_origin_summary = coi_all_intros.groupby([\"Origin\"]).agg({'TS': ['count', q10, 'min', 'mean', 'median', 'max', 'std']})\n",
    "coi_all_intros_by_origin_summary.to_csv((f'{model_stats_dir}/all_intros_by_source_to_{coi}.csv'))\n",
    "coi_first_intros_by_origin_summary = coi_first_intros_by_origin.groupby([\"Origin\"]).agg({'TS': ['count', 'min', q10, 'mean', 'median', 'max', 'std']})\n",
    "coi_first_intros_by_origin_summary.to_csv((f'{model_stats_dir}/first_intro_by_source_to_{coi}.csv'))"
   ]
  },
  {
   "cell_type": "code",
   "execution_count": null,
   "metadata": {},
   "outputs": [],
   "source": [
    "# Save separate plots for histograms of all COI first intros by origin\n",
    "coi_origins = list(set(coi_first_intros_by_origin.Origin))\n",
    "for i in range(len(coi_origins)):\n",
    "    fig, ax = plt.subplots(1, figsize=(4,3))\n",
    "    fig.subplots_adjust(left=0.25, top=0.75, bottom=0.21, right=0.85)\n",
    "    ax.hist(list(coi_first_intros_by_origin.loc[coi_first_intros_by_origin[\"Origin\"] == coi_origins[i], \"TS\"]), color=\"#31688e\")\n",
    "    q10_value = q10(coi_first_intros_by_origin.loc[coi_first_intros_by_origin[\"Origin\"] == coi_origins[i], \"TS\"])\n",
    "    ax.axvline(q10_value, color=\"red\")\n",
    "    plt.text(q10_value - 2.2,17.5,round(q10_value),rotation=90, fontsize=15)\n",
    "    ax.set_title(f'''{coi_origins[i]}\\nFirst Export to {coi}''', fontsize=18, pad=18)\n",
    "    ax.set_xlabel(\"year\", fontsize=18)\n",
    "    ax.set_ylabel(\"% model runs\", fontsize=18)\n",
    "    ax.set_xlim(left=2005,right=2030)\n",
    "    ax.set_ylim(top=25)\n",
    "    y_vals = ax.get_yticks()\n",
    "    ax.set_xticklabels([\"\",2010,\"\",2020,\"\",2030], fontsize=16)\n",
    "    ax.set_yticklabels(['{:3.1f}%'.format((x / 1000) * 100) for x in y_vals], fontsize=16)\n",
    "    plt.savefig(f'{model_stats_dir}/{coi_origins[i]}_first_intros_to_{coi}.png', dpi=300)"
   ]
  },
  {
   "source": [
    "## Full network summary"
   ],
   "cell_type": "markdown",
   "metadata": {}
  },
  {
   "cell_type": "code",
   "execution_count": null,
   "metadata": {},
   "outputs": [],
   "source": [
    "# Save full network summaries for Vosviewer\n",
    "destinations = org_dest_all.iloc[:,1:3].groupby(by=[\"Destination\"]).count()\n",
    "origins = org_dest_all.iloc[:,1:3].groupby(by=[\"Origin\"]).count()"
   ]
  },
  {
   "cell_type": "code",
   "execution_count": null,
   "metadata": {},
   "outputs": [],
   "source": [
    "# Map file with all node IDs (name), weight (total intros as destination, or total intros as origin), and score (intro proportion, export proportion, or intro/export proportion)\n",
    "network_summary = countries.copy()\n",
    "network_summary.set_index(\"NAME\", inplace=True)\n",
    "network_summary[\"intro_prop\"] = \"\"\n",
    "network_summary[\"export_prop\"] = \"\"\n",
    "network_summary[\"prop\"] = \"\"\n",
    "\n",
    "for row in list(network_summary.index):  \n",
    "    network_summary[\"intro_prop\"].loc[row] = len(first_intros_all.loc[first_intros_all[\"Destination\"] == row]) / num_runs\n",
    "    network_summary[\"export_prop\"].loc[row] = len(first_exports_all.loc[first_exports_all[\"Destination\"] == row]) / num_runs\n",
    "    network_summary[\"prop\"].loc[row] = int(country_count.loc[country_count[\"NAME\"] == row, \"count\"]) / num_runs\n",
    "\n",
    "network_summary = pd.merge(network_summary, destinations, how='left', left_on=\"NAME\", right_on=\"Destination\", left_index=True, right_index=True)\n",
    "network_summary = pd.merge(network_summary, origins, how='left', left_on=\"NAME\", right_on=\"Origin\", left_index=True, right_index=True)\n",
    "network_summary.rename(columns={\"Origin\":\"intro_dest\", \"Destination\":\"intro_orig\"}, inplace=True)\n",
    "network_summary.fillna(0, inplace=True)\n",
    "network_summary.to_csv(f\"{model_stats_dir}/network_summary.csv\")"
   ]
  },
  {
   "cell_type": "code",
   "execution_count": null,
   "metadata": {},
   "outputs": [],
   "source": [
    "# Network file with all links between nodes, and link strength (number of intros between nodes), will be summed by Vosviewer\n",
    "intro_pairs_count = org_dest_all.iloc[:,1:4].groupby(by = [\"Origin\", \"Destination\"]).count()\n",
    "intro_pairs_count = intro_pairs_count.reset_index()\n",
    "intro_pairs_count.rename(columns={\"TS\": \"intro_count\"}, inplace=True)\n",
    "intro_pairs_count.to_csv(f\"{model_stats_dir}/intro_pairs_count.csv\")"
   ]
  },
  {
   "source": [
    "## Plot COI introductions by timestep"
   ],
   "cell_type": "markdown",
   "metadata": {}
  },
  {
   "cell_type": "code",
   "execution_count": null,
   "metadata": {},
   "outputs": [],
   "source": [
    "sim_list = ['BAU', 'stopOrigins', 'stopBridgeheads']\n",
    "cols = list(sns.color_palette(\"tab10\", len(sim_list)))\n",
    "markers = [\"o\", \"^\", \"s\"]\n",
    "col_dict = dict(zip(sim_list, cols))\n",
    "marker_dict = dict(zip(sim_list, markers))\n",
    "\n",
    "out_dir = f\"{dir_path}/outputs/summary_stats/{main_sim}/BAU\""
   ]
  },
  {
   "cell_type": "code",
   "execution_count": null,
   "metadata": {},
   "outputs": [],
   "source": [
    "fig, ax = plt.subplots(figsize = (10.5,7.5))\n",
    "plt.subplots_adjust(left=0.1, right=0.96, bottom=0.1, top=0.88)\n",
    "for model_run_name in sim_list:\n",
    "    model_stats_dir = f\"{dir_path}/outputs/summary_stats/{main_sim}/{model_run_name}\"\n",
    "    org_dest_all = pd.read_csv(f\"{model_stats_dir}/org_dest_all.csv\")\n",
    "    coi_all_intros = org_dest_all[org_dest_all[\"Destination\"] == coi]\n",
    "    coi_all_intros['TS'] = coi_all_intros['TS'].astype(int)\n",
    "    coi_all_intros_by_ts = coi_all_intros.iloc[:,2:4].groupby(by = [\"TS\"]).count()\n",
    "    coi_all_intros_by_ts.reset_index(drop=False, inplace=True)\n",
    "    coi_all_intros_by_ts.rename(columns={\"Destination\":model_run_name}, inplace=True)\n",
    "    plt.plot(\"TS\", model_run_name, data=coi_all_intros_by_ts, marker=marker_dict[model_run_name], markerfacecolor=col_dict[model_run_name], markersize=8, color=col_dict[model_run_name], linewidth=2)\n",
    "plt.legend(labels=[\"Business as usual\", \"Native range \\nmanagement\", \"Simulation-informed \\nmanagement\"], fontsize=16, frameon=False, loc = \"lower left\")\n",
    "plt.ylabel(\"Introductions\", fontsize=18)\n",
    "plt.xlabel(\"Year\", fontsize=18)\n",
    "plt.yticks(fontsize=16)\n",
    "plt.xticks(fontsize=16)\n",
    "plt.title(f\"Simulated Introductions to {coi}\\n Over {num_runs:,} Model Runs\", fontsize=20, pad=12)\n",
    "plt.show\n",
    "plt.savefig(f'{out_dir}/scenarios_{coi}_intros_by_ts.png', dpi=600)"
   ]
  },
  {
   "cell_type": "code",
   "execution_count": null,
   "metadata": {},
   "outputs": [],
   "source": []
  }
 ],
 "metadata": {
  "kernelspec": {
   "name": "python379jvsc74a57bd0f73a8c43010578b1174878027b0507398da227617ac4ab0633dc171a2d9ad7fd",
   "display_name": "Python 3.7.9 64-bit ('pandemic': conda)"
  },
  "language_info": {
   "codemirror_mode": {
    "name": "ipython",
    "version": 3
   },
   "file_extension": ".py",
   "mimetype": "text/x-python",
   "name": "python",
   "nbconvert_exporter": "python",
   "pygments_lexer": "ipython3",
   "version": "3.7.9"
  }
 },
 "nbformat": 4,
 "nbformat_minor": 4
}