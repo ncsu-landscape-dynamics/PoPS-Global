{
 "cells": [
  {
   "cell_type": "code",
   "execution_count": 1,
   "id": "exposed-france",
   "metadata": {},
   "outputs": [],
   "source": [
    "import os\n",
    "import glob\n",
    "import math\n",
    "import matplotlib\n",
    "import matplotlib.pyplot as plt\n",
    "import matplotlib.image as mpimg\n",
    "from matplotlib.backends.backend_pdf import PdfPages"
   ]
  },
  {
   "cell_type": "code",
   "execution_count": 2,
   "id": "qualified-intention",
   "metadata": {},
   "outputs": [],
   "source": [
    "outputs_dir = f\"H:/Shared drives/Pandemic Data/slf_model/outputs/slf_inflationAdjusted_gridSearch_top/\""
   ]
  },
  {
   "cell_type": "code",
   "execution_count": 3,
   "id": "selective-employee",
   "metadata": {},
   "outputs": [],
   "source": [
    "viz_names = []\n",
    "for f in glob.glob(outputs_dir + '*/*.png'):\n",
    "    bn = os.path.splitext(os.path.basename(f))[0]\n",
    "    if bn not in viz_names:\n",
    "        viz_names.append(bn)"
   ]
  },
  {
   "cell_type": "code",
   "execution_count": 4,
   "id": "average-pioneer",
   "metadata": {},
   "outputs": [
    {
     "output_type": "stream",
     "name": "stdout",
     "text": [
      "United States_intro_sources\n",
      "num_reintros\n",
      "first_intros_mean\n",
      "first_intros_mode\n",
      "first_intros_min\n",
      "first_intros_max\n",
      "first_intros_range\n",
      "intro_proportion\n",
      "first_intro_min_more50pct\n",
      "first_intro_mean_more50pct\n",
      "intro_proportion_more50pct\n"
     ]
    },
    {
     "output_type": "display_data",
     "data": {
      "text/plain": "<Figure size 432x288 with 1 Axes>",
      "image/svg+xml": "<?xml version=\"1.0\" encoding=\"utf-8\" standalone=\"no\"?>\r\n<!DOCTYPE svg PUBLIC \"-//W3C//DTD SVG 1.1//EN\"\r\n  \"http://www.w3.org/Graphics/SVG/1.1/DTD/svg11.dtd\">\r\n<!-- Created with matplotlib (https://matplotlib.org/) -->\r\n<svg height=\"231.84pt\" version=\"1.1\" viewBox=\"0 0 349.2 231.84\" width=\"349.2pt\" xmlns=\"http://www.w3.org/2000/svg\" xmlns:xlink=\"http://www.w3.org/1999/xlink\">\r\n <metadata>\r\n  <rdf:RDF xmlns:cc=\"http://creativecommons.org/ns#\" xmlns:dc=\"http://purl.org/dc/elements/1.1/\" xmlns:rdf=\"http://www.w3.org/1999/02/22-rdf-syntax-ns#\">\r\n   <cc:Work>\r\n    <dc:type rdf:resource=\"http://purl.org/dc/dcmitype/StillImage\"/>\r\n    <dc:date>2021-03-12T13:04:33.811530</dc:date>\r\n    <dc:format>image/svg+xml</dc:format>\r\n    <dc:creator>\r\n     <cc:Agent>\r\n      <dc:title>Matplotlib v3.3.4, https://matplotlib.org/</dc:title>\r\n     </cc:Agent>\r\n    </dc:creator>\r\n   </cc:Work>\r\n  </rdf:RDF>\r\n </metadata>\r\n <defs>\r\n  <style type=\"text/css\">*{stroke-linecap:butt;stroke-linejoin:round;}</style>\r\n </defs>\r\n <g id=\"figure_1\">\r\n  <g id=\"patch_1\">\r\n   <path d=\"M 0 231.84 \r\nL 349.2 231.84 \r\nL 349.2 0 \r\nL 0 0 \r\nz\r\n\" style=\"fill:none;\"/>\r\n  </g>\r\n  <g id=\"axes_1\"/>\r\n </g>\r\n</svg>\r\n",
      "image/png": "[encoded data removed]"
     },
     "metadata": {
      "needs_background": "light"
     }
    }
   ],
   "source": [
    "for viz_name in viz_names:\n",
    "    print(viz_name)\n",
    "    imgs_to_view = sorted(glob.glob(outputs_dir + f\"/*/{viz_name}.png\"))\n",
    "    \n",
    "    with PdfPages(outputs_dir + f\"{viz_name}_compare_n1000.pdf\") as pdf:\n",
    "         for i, img_path in enumerate(imgs_to_view):\n",
    "            img = mpimg.imread(img_path)\n",
    "            plt.axis('off')\n",
    "            plt.figure(figsize=(16,16))\n",
    "            plt.imshow(img)\n",
    "            pdf.savefig()\n",
    "            plt.close()    "
   ]
  },
  {
   "cell_type": "code",
   "execution_count": null,
   "id": "chubby-hacker",
   "metadata": {},
   "outputs": [],
   "source": []
  }
 ],
 "metadata": {
  "kernelspec": {
   "name": "python3",
   "display_name": "Python 3.8.5 64-bit ('py38_geo': conda)",
   "metadata": {
    "interpreter": {
     "hash": "0f23e50d07715c7644a438a1353a86eb9613b6906ded450fafc5fea28a4ab967"
    }
   }
  },
  "language_info": {
   "codemirror_mode": {
    "name": "ipython",
    "version": 3
   },
   "file_extension": ".py",
   "mimetype": "text/x-python",
   "name": "python",
   "nbconvert_exporter": "python",
   "pygments_lexer": "ipython3",
   "version": "3.8.5-final"
  }
 },
 "nbformat": 4,
 "nbformat_minor": 5
}