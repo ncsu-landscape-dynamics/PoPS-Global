{
 "cells": [
  {
   "cell_type": "markdown",
   "metadata": {},
   "source": [
    "# Visualize Forecast Result\n",
    "\n",
    "Generate aggregated maps and plots to visualize the forecast results. "
   ]
  },
  {
   "cell_type": "code",
   "execution_count": null,
   "metadata": {},
   "outputs": [],
   "source": [
    "import os\n",
    "import glob\n",
    "import dotenv\n",
    "import json\n",
    "\n",
    "import pandas as pd\n",
    "import numpy as np\n",
    "import geopandas\n",
    "import matplotlib.pyplot as plt\n",
    "from mpl_toolkits.axes_grid1 import make_axes_locatable\n",
    "import math"
   ]
  },
  {
   "cell_type": "code",
   "execution_count": null,
   "metadata": {},
   "outputs": [],
   "source": [
    "# Navigate one level up to the main repository\n",
    "os.chdir('..')"
   ]
  },
  {
   "cell_type": "code",
   "execution_count": null,
   "metadata": {},
   "outputs": [],
   "source": [
    "# Read environmental variables\n",
    "env_file = os.path.join('.env') \n",
    "dotenv.load_dotenv(env_file)\n",
    "\n",
    "input_dir = os.getenv('INPUT_PATH')\n",
    "out_dir = os.getenv('OUTPUT_PATH')\n",
    "countries_path = os.getenv('COUNTRIES_PATH')\n"
   ]
  },
  {
   "cell_type": "code",
   "execution_count": null,
   "metadata": {},
   "outputs": [],
   "source": [
    "# Create the path to the forecasted model outputs\n",
    "with open(\"config.json\") as json_file:\n",
    "    config = json.load(json_file)\n",
    "\n",
    "sim_name = config['sim_name']\n",
    "run_name = f\"{sim_name}_forecast\"\n",
    "\n",
    "results_dir = f\"{out_dir}/{run_name}\""
   ]
  },
  {
   "cell_type": "code",
   "execution_count": null,
   "metadata": {},
   "outputs": [],
   "source": [
    "# Native countries list\n",
    "\n",
    "native_countries_list = config[\"native_countries_list\"]\n",
    "\n",
    "# Country of interest\n",
    "\n",
    "coi = config[\"coi\"]\n"
   ]
  },
  {
   "cell_type": "code",
   "execution_count": null,
   "metadata": {},
   "outputs": [],
   "source": [
    "# Read country file\n",
    "\n",
    "countries_geo = geopandas.read_file(countries_path)\n",
    "countries = countries_geo.iloc[:,[4]]\n",
    "countries.set_index(\"NAME\")\n",
    "countries_firstintro = countries.iloc[:,[0]]\n",
    "countries_reintros = countries.iloc[:,[0]]\n",
    "org_dest_all = pd.DataFrame()"
   ]
  },
  {
   "cell_type": "markdown",
   "metadata": {},
   "source": [
    "Will include here some selected plots from the results_plots"
   ]
  },
  {
   "cell_type": "code",
   "execution_count": null,
   "metadata": {},
   "outputs": [],
   "source": [
    "paths = glob.glob(f'{results_dir}/*/*/origin_destination.csv')\n",
    "i = 0\n",
    "for path in paths:\n",
    "    path_in_str = str(path)\n",
    "    sample = i\n",
    "    org_dest = (pd.read_csv(path)).iloc[:,1:4]\n",
    "    org_dest[\"TS\"] = org_dest[\"TS\"].astype(str)\n",
    "    org_dest[\"TS\"] = org_dest.TS.str[:4].astype(int)\n",
    "    org_dest_all = org_dest_all.append(org_dest)\n",
    "    intros = org_dest.iloc[:,1:4]\n",
    "    intros = intros.rename(columns={\"Destination\":\"NAME\", \"TS\":sample})\n",
    "    firstintro = intros.drop_duplicates(subset = [\"NAME\"])\n",
    "    countries_firstintro = pd.merge(countries_firstintro, firstintro, on=\"NAME\", how=\"left\")\n",
    "    reintros = intros.groupby(\"NAME\").count()\n",
    "    countries_reintros = pd.merge(countries_reintros, reintros, on=\"NAME\", how=\"left\")\n",
    "    i += 1\n",
    "\n",
    "countries_firstintro = countries_firstintro.set_index(\"NAME\")\n",
    "countries_reintros = countries_reintros.set_index(\"NAME\")"
   ]
  },
  {
   "cell_type": "code",
   "execution_count": null,
   "metadata": {},
   "outputs": [],
   "source": [
    "coi_intros = org_dest_all[org_dest_all[\"Destination\"] == coi]\n",
    "coi_intros = coi_intros.groupby(\"Origin\").count()[[\"Destination\"]]\n",
    "coi_intros = coi_intros.rename(columns={\"Destination\":\"COI source\"})\n",
    "\n",
    "countries_geo = countries_geo.merge(coi_intros, how=\"left\", left_on=\"NAME\", right_on=\"Origin\")"
   ]
  },
  {
   "cell_type": "code",
   "execution_count": null,
   "metadata": {},
   "outputs": [],
   "source": [
    "fig, ax = plt.subplots(1, 1, figsize=(12, 12))\n",
    "divider = make_axes_locatable(ax)\n",
    "cax = divider.append_axes(\"right\", size=\"2%\", pad=0.1)\n",
    "ax.set_title(\"Introduction Sources for \" + coi + \"\\n\" + run_name, fontsize=18)\n",
    "countries_geo.plot(column='COI source', ax=ax, legend=True, legend_kwds={'label': \"intro source count\"}, missing_kwds={'color': 'lightgrey'}, cax=cax)\n",
    "plt.savefig(results_dir + coi + \"_intro_sources.png\")\n",
    "plt.show()"
   ]
  },
  {
   "cell_type": "code",
   "execution_count": null,
   "metadata": {},
   "outputs": [],
   "source": [
    "arr_yr_mean_all = []\n",
    "arr_yr_mode_all = []\n",
    "arr_yr_min_all = []\n",
    "arr_yr_max_all = []\n",
    "arr_yr_range_all = []\n",
    "intro_proportion_all = []\n",
    "for row in range(len(countries_firstintro.index)):\n",
    "    runs_no_intro = countries_firstintro.iloc[row].isnull().sum()\n",
    "    intro_proportion = 1 - (runs_no_intro / len(countries_firstintro.columns))\n",
    "    intro_proportion_all.append(intro_proportion)\n",
    "    if intro_proportion == 0:\n",
    "        arr_yr_min_all.append(None)\n",
    "        arr_yr_max_all.append(None)\n",
    "        arr_yr_mean_all.append(None)\n",
    "        arr_yr_mode_all.append(None)\n",
    "        arr_yr_range_all.append(None)\n",
    "        \n",
    "    else:\n",
    "        arr_yr_min = countries_firstintro.iloc[row].min()\n",
    "        arr_yr_min_all.append(arr_yr_min)\n",
    "        arr_yr_max = countries_firstintro.iloc[row].max()\n",
    "        arr_yr_max_all.append(arr_yr_max)\n",
    "        arr_yr_mean = math.floor(np.nanmean(countries_firstintro.iloc[row]))\n",
    "        arr_yr_mean_all.append(arr_yr_mean)\n",
    "        arr_yr_mode = countries_firstintro.iloc[row].mode()\n",
    "        if len(arr_yr_mode) > 1:\n",
    "            arr_yr_mode = int(arr_yr_mode.mean())\n",
    "        else:\n",
    "            arr_yr_mode = arr_yr_mode[0]\n",
    "        arr_yr_mode_all.append(arr_yr_mode)\n",
    "        arr_yr_range_all.append(arr_yr_max - arr_yr_min)\n",
    "\n",
    "countries_firstintro[\"arr_yr_mean\"] = arr_yr_mean_all\n",
    "countries_firstintro[\"arr_yr_mode\"] = arr_yr_mode_all\n",
    "countries_firstintro[\"arr_yr_min\"] = arr_yr_min_all\n",
    "countries_firstintro[\"arr_yr_max\"] = arr_yr_max_all\n",
    "countries_firstintro[\"arr_yr_range\"] = arr_yr_range_all\n",
    "countries_firstintro[\"intro_proportion\"] = intro_proportion_all\n",
    "countries_firstintro.loc[native_countries_list, 'arr_yr_mean'] = None\n",
    "countries_firstintro.loc[native_countries_list, 'arr_yr_mode'] = None\n",
    "countries_firstintro.loc[native_countries_list, 'arr_yr_min'] = None\n",
    "countries_firstintro.loc[native_countries_list, 'arr_yr_max'] = None\n",
    "countries_firstintro.loc[native_countries_list, 'arr_yr_range'] = None\n",
    "countries_firstintro.loc[native_countries_list, 'intro_proportion'] = None"
   ]
  },
  {
   "cell_type": "code",
   "execution_count": null,
   "metadata": {},
   "outputs": [],
   "source": [
    "countries_reintros = countries_reintros.fillna(0)\n",
    "countries_reintros[\"num_reintros_mean\"] = round(countries_reintros.mean(axis=1)).astype(int)\n",
    "countries_reintros.at[native_countries_list, 'num_reintros_mean'] = None"
   ]
  },
  {
   "cell_type": "code",
   "execution_count": null,
   "metadata": {},
   "outputs": [],
   "source": [
    "countries_geo = countries_geo.merge(countries_firstintro[\"arr_yr_mean\"], on='NAME')\n",
    "countries_geo[\"arr_yr_mean\"] = countries_geo[\"arr_yr_mean\"].astype(\"Int64\")\n",
    "\n",
    "countries_geo = countries_geo.merge(countries_firstintro[\"arr_yr_mode\"], on='NAME')\n",
    "countries_geo[\"arr_yr_mode\"] = countries_geo[\"arr_yr_mode\"].astype(\"Int64\")\n",
    "\n",
    "countries_geo = countries_geo.merge(countries_firstintro[\"arr_yr_min\"], on='NAME')\n",
    "countries_geo[\"arr_yr_min\"] = countries_geo[\"arr_yr_min\"].astype(\"Int64\")\n",
    "\n",
    "countries_geo = countries_geo.merge(countries_firstintro[\"arr_yr_max\"], on='NAME')\n",
    "countries_geo[\"arr_yr_max\"] = countries_geo[\"arr_yr_max\"].astype(\"Int64\")\n",
    "\n",
    "countries_geo = countries_geo.merge(countries_firstintro[\"arr_yr_range\"], on='NAME')\n",
    "\n",
    "countries_geo = countries_geo.merge(countries_firstintro[\"intro_proportion\"], on='NAME')\n",
    "\n",
    "countries_geo = countries_geo.merge(countries_reintros[\"num_reintros_mean\"], on='NAME')"
   ]
  },
  {
   "cell_type": "code",
   "execution_count": null,
   "metadata": {},
   "outputs": [],
   "source": [
    "fig, ax = plt.subplots(1, 1, figsize=(12, 12))\n",
    "divider = make_axes_locatable(ax)\n",
    "cax = divider.append_axes(\"right\", size=\"2%\", pad=0.1)\n",
    "ax.set_title(\"Number of Reintroductions (mean)\\n\" + run_name, fontsize=18)\n",
    "countries_geo.plot(column='num_reintros_mean', ax=ax, legend=True, legend_kwds={'label': \"reintroductions\"}, missing_kwds={'color': 'lightgrey'}, cax=cax)\n",
    "plt.savefig(results_dir + \"num_reintros.png\")\n",
    "plt.show()"
   ]
  },
  {
   "cell_type": "code",
   "execution_count": null,
   "metadata": {},
   "outputs": [],
   "source": [
    "fig, ax = plt.subplots(1, 1, figsize=(12, 12))\n",
    "plt.title(\"Year of First Introduction (mean)\\n\" + run_name, fontsize=18)\n",
    "countries_geo.plot(column='arr_yr_mean', categorical=True, cmap=\"viridis\", legend=True, ax=ax, missing_kwds={'color': 'lightgrey'}, legend_kwds={'loc': 'lower left'})\n",
    "#countries_geo.plot(column='arr_yr_mode', scheme=\"User_Defined\", classification_kwds=dict(bins=[2010,2012,2014,2016,2018,2020]), legend=True, ax=ax, missing_kwds={'color': 'lightgrey'})\n",
    "plt.savefig(results_dir + \"first_intros_mean.png\")\n",
    "plt.show()"
   ]
  },
  {
   "cell_type": "code",
   "execution_count": null,
   "metadata": {},
   "outputs": [],
   "source": [
    "fig, ax = plt.subplots(1, 1, figsize=(12, 12))\n",
    "plt.title(\"Year of First Introduction (min)\\n\" + run_name, fontsize=18)\n",
    "countries_geo.plot(column='arr_yr_min', categorical=True, cmap=\"viridis\", legend=True, ax=ax, missing_kwds={'color': 'lightgrey'}, legend_kwds={'loc': 'lower left'})\n",
    "#countries_geo.plot(column='arr_yr_mode', scheme=\"User_Defined\", classification_kwds=dict(bins=[2010,2012,2014,2016,2018,2020]), legend=True, ax=ax, missing_kwds={'color': 'lightgrey'})\n",
    "plt.savefig(results_dir + \"first_intros_min.png\")\n",
    "plt.show()"
   ]
  },
  {
   "cell_type": "code",
   "execution_count": null,
   "metadata": {},
   "outputs": [],
   "source": [
    "fig, ax = plt.subplots(1, 1, figsize=(12, 12))\n",
    "plt.title(\"Year of First Introduction (max)\\n\" + run_name, fontsize=18)\n",
    "countries_geo.plot(column='arr_yr_max', categorical=True, cmap=\"viridis\", legend=True, ax=ax, missing_kwds={'color': 'lightgrey'}, legend_kwds={'loc': 'lower left'})\n",
    "#countries_geo.plot(column='arr_yr_mode', scheme=\"User_Defined\", classification_kwds=dict(bins=[2010,2012,2014,2016,2018,2020]), legend=True, ax=ax, missing_kwds={'color': 'lightgrey'})\n",
    "plt.savefig(results_dir + \"first_intros_max.png\")\n",
    "plt.show()"
   ]
  },
  {
   "cell_type": "code",
   "execution_count": null,
   "metadata": {},
   "outputs": [],
   "source": [
    "fig, ax = plt.subplots(1, 1, figsize=(12, 12))\n",
    "plt.title(\"Year of First Introduction (range)\\n\" + run_name, fontsize=18)\n",
    "countries_geo.plot(column='arr_yr_range', categorical=True, cmap=\"viridis\", legend=True, ax=ax, missing_kwds={'color': 'lightgrey'}, legend_kwds={'loc': 'lower left'})\n",
    "#countries_geo.plot(column='arr_yr_mode', scheme=\"User_Defined\", classification_kwds=dict(bins=[2010,2012,2014,2016,2018,2020]), legend=True, ax=ax, missing_kwds={'color': 'lightgrey'})\n",
    "plt.savefig(results_dir + \"first_intros_range.png\")\n",
    "plt.show()"
   ]
  },
  {
   "cell_type": "code",
   "execution_count": null,
   "metadata": {},
   "outputs": [],
   "source": [
    "fig, ax = plt.subplots(1, 1, figsize=(12, 12))\n",
    "divider = make_axes_locatable(ax)\n",
    "cax = divider.append_axes(\"right\", size=\"2%\", pad=0.1)\n",
    "ax.set_title(\"Proportion of Runs with Introductions\\n\" + run_name, fontsize=18)\n",
    "countries_geo.plot(column='intro_proportion', ax=ax, legend=True, legend_kwds={'label': \"proportion\"}, missing_kwds={'color': 'lightgrey'}, cax=cax)\n",
    "plt.savefig(results_dir + \"intro_proportion.png\")\n",
    "plt.show()"
   ]
  },
  {
   "cell_type": "code",
   "execution_count": null,
   "metadata": {},
   "outputs": [],
   "source": [
    "fig, ax = plt.subplots(1, 1, figsize=(20,20))\n",
    "divider = make_axes_locatable(ax)\n",
    "cax = divider.append_axes(\"right\", size=\"2%\", pad=0.1)\n",
    "ax.set_title(\"Minimum Year of First Introduction (runs with intros >50%)\\n\" + run_name, fontsize=18)\n",
    "countries_geo['arr_yr_min'] = np.where(countries_geo['intro_proportion'] < 0.5, np.nan, countries_geo['arr_yr_min'])\n",
    "countries_geo.plot(column='arr_yr_min', categorical=True, cmap=\"viridis\", legend=True, ax=ax, missing_kwds={'color': 'lightgrey'}, legend_kwds={'loc': 'lower left'})\n",
    "plt.savefig(results_dir + \"first_intro_min_more50pct.png\", bbox_inches='tight', pad_inches = 0.01)\n",
    "plt.show()\n"
   ]
  },
  {
   "cell_type": "code",
   "execution_count": null,
   "metadata": {},
   "outputs": [],
   "source": [
    "fig, ax = plt.subplots(1, 1, figsize=(20, 20))\n",
    "divider = make_axes_locatable(ax)\n",
    "cax = divider.append_axes(\"right\", size=\"2%\", pad=0.1)\n",
    "ax.set_title(\"Year of First Introduction (mean of runs with intros >50%)\\n\" + run_name, fontsize=18)\n",
    "countries_geo['arr_yr_mean'] = np.where(countries_geo['intro_proportion'] < 0.5, np.nan, countries_geo['arr_yr_mean'])\n",
    "countries_geo.plot(column='arr_yr_mean', categorical=True, cmap=\"viridis\", legend=True, ax=ax, missing_kwds={'color': 'lightgrey'}, legend_kwds={'loc': 'lower left'})\n",
    "plt.savefig(results_dir + \"first_intro_mean_more50pct.png\", bbox_inches='tight', pad_inches = 0.01)\n",
    "plt.show()\n"
   ]
  },
  {
   "cell_type": "code",
   "execution_count": null,
   "metadata": {},
   "outputs": [],
   "source": [
    "fig, ax = plt.subplots(1, 1, figsize=(20, 20))\n",
    "divider = make_axes_locatable(ax)\n",
    "cax = divider.append_axes(\"right\", size=\"2%\", pad=0.1)\n",
    "ax.set_title(\"Runs with Introductions (>50%)\\n\" + run_name, fontsize=18)\n",
    "countries_geo['intro_proportion'] = np.where(countries_geo['intro_proportion'] < 0.5, np.nan, countries_geo['intro_proportion'])\n",
    "countries_geo.plot(column='intro_proportion', ax=ax, legend=True, legend_kwds={'label': \"proportion\"}, missing_kwds={'color': 'lightgrey'}, cax=cax)\n",
    "plt.savefig(results_dir + \"intro_proportion_more50pct.png\", bbox_inches='tight', pad_inches = 0.01)\n",
    "plt.show()\n"
   ]
  }
 ],
 "metadata": {
  "interpreter": {
   "hash": "948a6e006881c847639198d4e28507cd0955feff6e008072919ba7456f12f8bf"
  },
  "kernelspec": {
   "display_name": "Python 3.8.11 ('Pandemic')",
   "language": "python",
   "name": "python3"
  },
  "language_info": {
   "codemirror_mode": {
    "name": "ipython",
    "version": 3
   },
   "file_extension": ".py",
   "mimetype": "text/x-python",
   "name": "python",
   "nbconvert_exporter": "python",
   "pygments_lexer": "ipython3",
   "version": "3.8.11"
  },
  "orig_nbformat": 4
 },
 "nbformat": 4,
 "nbformat_minor": 2
}
