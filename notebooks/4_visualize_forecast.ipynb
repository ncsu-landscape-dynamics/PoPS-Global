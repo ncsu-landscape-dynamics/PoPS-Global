{
 "cells": [
  {
   "cell_type": "markdown",
   "metadata": {},
   "source": [
    "# Visualize PoPS Global Forecast Result\n",
    "\n",
    "Use this notebook to generate maps and plots to visualize the aggregated forecast results. \n",
    "\n",
    "This notebook can be run after 0, 1, 2, 3a (optional), 3b, and 3c.\n",
    "\n",
    "All plots are shown in the notebook, and saved as .PNG to the results folder. \n",
    "There are many plot options given here. You can run all of them and select only \n",
    "those of interest to use, or selectively run specific plots. "
   ]
  },
  {
   "cell_type": "markdown",
   "metadata": {},
   "source": [
    "## Set up workspace from env and configuration files \n",
    "\n",
    "First, import needed packages."
   ]
  },
  {
   "cell_type": "code",
   "execution_count": null,
   "metadata": {},
   "outputs": [],
   "source": [
    "import os\n",
    "import glob\n",
    "import dotenv\n",
    "import json\n",
    "\n",
    "import pandas as pd\n",
    "import numpy as np\n",
    "import geopandas\n",
    "import matplotlib.pyplot as plt\n",
    "import seaborn as sns\n",
    "from mpl_toolkits.axes_grid1 import make_axes_locatable\n",
    "import math\n",
    "\n",
    "import warnings\n",
    "warnings.filterwarnings(action='once')"
   ]
  },
  {
   "cell_type": "markdown",
   "metadata": {},
   "source": [
    "Navigate to main repository."
   ]
  },
  {
   "cell_type": "code",
   "execution_count": null,
   "metadata": {},
   "outputs": [],
   "source": [
    "# Navigate one level up to the main repository\n",
    "os.chdir(\"..\")"
   ]
  },
  {
   "cell_type": "markdown",
   "metadata": {},
   "source": [
    "Read in path variables from .env."
   ]
  },
  {
   "cell_type": "code",
   "execution_count": null,
   "metadata": {},
   "outputs": [],
   "source": [
    "# Read environmental variables\n",
    "env_file = os.path.join(\".env\")\n",
    "dotenv.load_dotenv(env_file)\n",
    "\n",
    "input_dir = os.getenv(\"INPUT_PATH\")\n",
    "out_dir = os.getenv(\"OUTPUT_PATH\")\n",
    "countries_path = os.getenv(\"COUNTRIES_PATH\")\n",
    "sim_name = os.getenv(\"SIM_NAME\")"
   ]
  },
  {
   "cell_type": "code",
   "execution_count": null,
   "metadata": {},
   "outputs": [],
   "source": [
    "# Path to forecast results\n",
    "run_name = f\"{sim_name}_forecast\"\n",
    "results_dir = f\"{out_dir}/{run_name}\""
   ]
  },
  {
   "cell_type": "markdown",
   "metadata": {},
   "source": [
    "Read in parameters from config.json"
   ]
  },
  {
   "cell_type": "code",
   "execution_count": null,
   "metadata": {},
   "outputs": [],
   "source": [
    "# Create the path to the forecasted model outputs\n",
    "config_json_path = f\"{out_dir}/config_{sim_name}.json\"\n",
    "\n",
    "with open(config_json_path) as json_file:\n",
    "    config = json.load(json_file)"
   ]
  },
  {
   "cell_type": "markdown",
   "metadata": {},
   "source": [
    "Create directories for additional summary statistics and visuals"
   ]
  },
  {
   "cell_type": "code",
   "execution_count": null,
   "metadata": {},
   "outputs": [],
   "source": [
    "if not os.path.exists(f\"{out_dir}/summary_stats/{run_name}/\"):\n",
    "    os.makedirs(f\"{out_dir}/summary_stats/{run_name}/\")\n",
    "\n",
    "if not os.path.exists(f\"{results_dir}/figs/\"):\n",
    "    os.makedirs(f\"{results_dir}/figs/\")"
   ]
  },
  {
   "cell_type": "code",
   "execution_count": null,
   "metadata": {},
   "outputs": [],
   "source": [
    "# Native countries list\n",
    "native_countries_ISO3 = config[\"native_countries_list\"]\n",
    "\n",
    "# Country of interest\n",
    "coi_ISO3 = config[\"coi\"]\n",
    "\n",
    "# Summary statistic years\n",
    "sim_years = config[\"sim_years\"]\n",
    "\n",
    "# How many samples were run?\n",
    "num_runs = len(glob.glob(f\"{results_dir}/*/*/origin_destination.csv\"))"
   ]
  },
  {
   "cell_type": "markdown",
   "metadata": {},
   "source": [
    "Open the country file"
   ]
  },
  {
   "cell_type": "code",
   "execution_count": null,
   "metadata": {},
   "outputs": [],
   "source": [
    "# Read country file\n",
    "\n",
    "countries_geo = geopandas.read_file(countries_path)\n",
    "countries = countries_geo.iloc[:, [4]]\n",
    "countries.set_index(\"NAME\")\n",
    "countries_firstintro = countries.iloc[:, [0]]\n",
    "countries_reintros = countries.iloc[:, [0]]\n",
    "\n",
    "# Extract full name of COI\n",
    "coi = countries_geo.loc[countries_geo[\"ISO3\"] == coi_ISO3, \"NAME\"].values[0]\n",
    "native_countries_list = countries_geo.loc[countries_geo[\"ISO3\"].isin(native_countries_ISO3), \"NAME\"].values\n"
   ]
  },
  {
   "cell_type": "markdown",
   "metadata": {},
   "source": [
    "## Import and aggregate model outputs"
   ]
  },
  {
   "cell_type": "markdown",
   "metadata": {},
   "source": [
    "Open all model outputs from individual runs, and read aggregate first introductions and re-introductions.\n",
    "\n",
    "Note: Once you've gone through this step once, you can skip ahead and read in the aggregated data from .csv to save time."
   ]
  },
  {
   "cell_type": "code",
   "execution_count": null,
   "metadata": {},
   "outputs": [],
   "source": [
    "# Only run the first time you use this notebook - this cell may be time consuming\n",
    "paths = glob.glob(f\"{results_dir}/*/*/origin_destination.csv\")\n",
    "\n",
    "org_dest_all = pd.DataFrame()\n",
    "first_intros_all = pd.DataFrame()\n",
    "first_exports_all = pd.DataFrame()\n",
    "country_count = (pd.DataFrame(index=countries.iloc[:, 0], columns=[\"count\"])).fillna(0)\n",
    "coi_first_intros_by_origin = pd.DataFrame()\n",
    "\n",
    "for sample, path in enumerate(paths):\n",
    "    path_in_str = str(path)\n",
    "    org_dest = (pd.read_csv(path)).iloc[:, 1:4]\n",
    "    org_dest[\"TS\"] = org_dest[\"TS\"].astype(str)\n",
    "    org_dest[\"TS\"] = org_dest.TS.str[:4].astype(int)\n",
    "    org_dest_all = org_dest_all.append(org_dest)\n",
    "\n",
    "    intros = org_dest.iloc[:, 1:4]\n",
    "    intros = intros.rename(columns={\"Destination\": \"NAME\", \"TS\": sample})\n",
    "    firstintro = intros.drop_duplicates(subset=[\"NAME\"])\n",
    "    countries_firstintro = pd.merge(\n",
    "        countries_firstintro, firstintro, on=\"NAME\", how=\"left\"\n",
    "    )\n",
    "    reintros = intros.groupby(\"NAME\").count()\n",
    "    countries_reintros = pd.merge(countries_reintros, reintros, on=\"NAME\", how=\"left\")\n",
    "\n",
    "    # get list of countries in transmission network and add to count\n",
    "    run_countries = list(set(list(org_dest.Origin) + list(org_dest.Destination)))\n",
    "    for country in run_countries:\n",
    "        country_count.loc[country] = country_count.loc[country] + 1\n",
    "\n",
    "    # identify first introductions to each country\n",
    "    first_intro = org_dest.drop_duplicates(subset=[\"Destination\"])\n",
    "    first_intros_all = first_intros_all.append(first_intro, ignore_index=True)\n",
    "\n",
    "    # identify first export from each country\n",
    "    first_export = org_dest.drop_duplicates(subset=[\"Origin\"])\n",
    "    first_exports_all = first_exports_all.append(first_export, ignore_index=True)\n",
    "\n",
    "    # COI first intros by origin\n",
    "    coi_first_intros = (org_dest[org_dest[\"Destination\"] == coi]).drop_duplicates(\n",
    "        subset=[\"Origin\"]\n",
    "    )\n",
    "    coi_first_intros_by_origin = coi_first_intros_by_origin.append(\n",
    "        coi_first_intros, ignore_index=True\n",
    "    )\n",
    "\n",
    "# Save all summaries\n",
    "\n",
    "org_dest_all.to_csv(f\"{out_dir}/summary_stats/{run_name}/org_dest_all.csv\", index=False)\n",
    "country_count.reset_index().to_csv(\n",
    "    f\"{out_dir}/summary_stats/{run_name}/country_count.csv\", index=False\n",
    ")\n",
    "first_intros_all.to_csv(\n",
    "    f\"{out_dir}/summary_stats/{run_name}/first_intros_all.csv\", index=False\n",
    ")\n",
    "first_exports_all.to_csv(\n",
    "    f\"{out_dir}/summary_stats/{run_name}/first_exports_all.csv\", index=False\n",
    ")\n",
    "coi_first_intros_by_origin.to_csv(\n",
    "    f\"{out_dir}/summary_stats/{run_name}/coi_first_intros_by_origin.csv\", index=False\n",
    ")\n",
    "countries_firstintro.reset_index().to_csv(\n",
    "    f\"{out_dir}/summary_stats/{run_name}/countries_firstintro.csv\", index=False\n",
    ")\n",
    "countries_reintros.reset_index().to_csv(\n",
    "    f\"{out_dir}/summary_stats/{run_name}/countries_reintros.csv\", index=False\n",
    ")"
   ]
  },
  {
   "cell_type": "code",
   "execution_count": null,
   "metadata": {},
   "outputs": [],
   "source": [
    "# If you have already created the summary dataframes, you can restart here: \n",
    "\n",
    "org_dest_all = pd.read_csv(\n",
    "    f\"{out_dir}/summary_stats/{run_name}/org_dest_all.csv\"\n",
    ")\n",
    "country_count = pd.read_csv(\n",
    "    f\"{out_dir}/summary_stats/{run_name}/country_count.csv\"\n",
    ")\n",
    "first_intros_all = pd.read_csv(\n",
    "    f\"{out_dir}/summary_stats/{run_name}/first_intros_all.csv\"\n",
    ")\n",
    "first_exports_all = pd.read_csv(\n",
    "    f\"{out_dir}/summary_stats/{run_name}/first_exports_all.csv\"\n",
    ")\n",
    "coi_first_intros_by_origin = pd.read_csv(\n",
    "    f\"{out_dir}/summary_stats/{run_name}/coi_first_intros_by_origin.csv\"\n",
    ")\n",
    "countries_firstintro = pd.read_csv(\n",
    "    f\"{out_dir}/summary_stats/{run_name}/countries_firstintro.csv\", \n",
    "    index_col = 0\n",
    ")\n",
    "countries_reintros = pd.read_csv(\n",
    "    f\"{out_dir}/summary_stats/{run_name}/countries_reintros.csv\", \n",
    "    index_col = 0\n",
    ")"
   ]
  },
  {
   "cell_type": "markdown",
   "metadata": {},
   "source": [
    "Set indices for first intros and re-intros to country name. "
   ]
  },
  {
   "cell_type": "code",
   "execution_count": null,
   "metadata": {},
   "outputs": [],
   "source": [
    "countries_firstintro = countries_firstintro.set_index(\"NAME\")\n",
    "countries_reintros = countries_reintros.set_index(\"NAME\")"
   ]
  },
  {
   "cell_type": "markdown",
   "metadata": {},
   "source": [
    "Create a separate dataframe from the perspective of the \"country of interest\" (coi)."
   ]
  },
  {
   "cell_type": "code",
   "execution_count": null,
   "metadata": {},
   "outputs": [],
   "source": [
    "coi_intros = first_intros_all[first_intros_all[\"Destination\"] == coi]\n",
    "coi_intros = coi_intros.groupby(\"Origin\").count()[[\"Destination\"]]\n",
    "coi_intros = coi_intros.rename(columns={\"Destination\": \"COI source\"})\n",
    "\n",
    "countries_geo = countries_geo.merge(\n",
    "    coi_intros, how=\"left\", left_on=\"NAME\", right_on=\"Origin\"\n",
    ")"
   ]
  },
  {
   "cell_type": "markdown",
   "metadata": {},
   "source": [
    "Capture statistical moments of the introduction year distribution: mean, mode, min, max, and range."
   ]
  },
  {
   "cell_type": "code",
   "execution_count": null,
   "metadata": {},
   "outputs": [],
   "source": [
    "arr_yr_mean_all = []\n",
    "arr_yr_mode_all = []\n",
    "arr_yr_min_all = []\n",
    "arr_yr_max_all = []\n",
    "arr_yr_range_all = []\n",
    "intro_proportion_all = []\n",
    "for row in range(len(countries_firstintro.index)):\n",
    "    runs_no_intro = countries_firstintro.iloc[row].isnull().sum()\n",
    "    intro_proportion = 1 - (runs_no_intro / len(countries_firstintro.columns))\n",
    "    intro_proportion_all.append(intro_proportion)\n",
    "    if intro_proportion == 0:\n",
    "        arr_yr_min_all.append(None)\n",
    "        arr_yr_max_all.append(None)\n",
    "        arr_yr_mean_all.append(None)\n",
    "        arr_yr_mode_all.append(None)\n",
    "        arr_yr_range_all.append(None)\n",
    "\n",
    "    else:\n",
    "        arr_yr_min = countries_firstintro.iloc[row].min()\n",
    "        arr_yr_min_all.append(arr_yr_min)\n",
    "        arr_yr_max = countries_firstintro.iloc[row].max()\n",
    "        arr_yr_max_all.append(arr_yr_max)\n",
    "        arr_yr_mean = math.floor(np.nanmean(countries_firstintro.iloc[row]))\n",
    "        arr_yr_mean_all.append(arr_yr_mean)\n",
    "        arr_yr_mode = countries_firstintro.iloc[row].mode()\n",
    "        if len(arr_yr_mode) > 1:\n",
    "            arr_yr_mode = int(arr_yr_mode.mean())\n",
    "        else:\n",
    "            arr_yr_mode = arr_yr_mode[0]\n",
    "        arr_yr_mode_all.append(arr_yr_mode)\n",
    "        arr_yr_range_all.append(arr_yr_max - arr_yr_min)\n",
    "\n",
    "countries_firstintro[\"arr_yr_mean\"] = arr_yr_mean_all\n",
    "countries_firstintro[\"arr_yr_mode\"] = arr_yr_mode_all\n",
    "countries_firstintro[\"arr_yr_min\"] = arr_yr_min_all\n",
    "countries_firstintro[\"arr_yr_max\"] = arr_yr_max_all\n",
    "countries_firstintro[\"arr_yr_range\"] = arr_yr_range_all\n",
    "countries_firstintro[\"intro_proportion\"] = intro_proportion_all\n",
    "countries_firstintro.loc[native_countries_list, \"arr_yr_mean\"] = None\n",
    "countries_firstintro.loc[native_countries_list, \"arr_yr_mode\"] = None\n",
    "countries_firstintro.loc[native_countries_list, \"arr_yr_min\"] = None\n",
    "countries_firstintro.loc[native_countries_list, \"arr_yr_max\"] = None\n",
    "countries_firstintro.loc[native_countries_list, \"arr_yr_range\"] = None\n",
    "countries_firstintro.loc[native_countries_list, \"intro_proportion\"] = None\n",
    "\n",
    "countries_reintros = countries_reintros.fillna(0)\n",
    "countries_reintros[\"num_reintros_mean\"] = round(countries_reintros.mean(axis=1)).astype(\n",
    "    int\n",
    ")\n",
    "countries_reintros.at[native_countries_list, \"num_reintros_mean\"] = None"
   ]
  },
  {
   "cell_type": "code",
   "execution_count": null,
   "metadata": {},
   "outputs": [],
   "source": [
    "countries_geo = countries_geo.merge(countries_firstintro[\"arr_yr_mean\"], on=\"NAME\")\n",
    "countries_geo[\"arr_yr_mean\"] = countries_geo[\"arr_yr_mean\"].astype(\"Int64\")\n",
    "\n",
    "countries_geo = countries_geo.merge(countries_firstintro[\"arr_yr_mode\"], on=\"NAME\")\n",
    "countries_geo[\"arr_yr_mode\"] = countries_geo[\"arr_yr_mode\"].astype(\"Int64\")\n",
    "\n",
    "countries_geo = countries_geo.merge(countries_firstintro[\"arr_yr_min\"], on=\"NAME\")\n",
    "countries_geo[\"arr_yr_min\"] = countries_geo[\"arr_yr_min\"].astype(\"Int64\")\n",
    "\n",
    "countries_geo = countries_geo.merge(countries_firstintro[\"arr_yr_max\"], on=\"NAME\")\n",
    "countries_geo[\"arr_yr_max\"] = countries_geo[\"arr_yr_max\"].astype(\"Int64\")\n",
    "\n",
    "countries_geo = countries_geo.merge(countries_firstintro[\"arr_yr_range\"], on=\"NAME\")\n",
    "\n",
    "countries_geo = countries_geo.merge(countries_firstintro[\"intro_proportion\"], on=\"NAME\")\n",
    "\n",
    "countries_geo = countries_geo.merge(countries_reintros[\"num_reintros_mean\"], on=\"NAME\")\n",
    "\n",
    "# Save summary geo to file\n",
    "\n",
    "countries_geo.to_file(\n",
    "    f\"{out_dir}/summary_stats/{run_name}/country_intros.gpkg\", index=False, driver=\"GPKG\"\n",
    ")"
   ]
  },
  {
   "cell_type": "markdown",
   "metadata": {},
   "source": [
    "## Option: Read in aggregated outputs\n",
    "If you've already gone through the steps above, you can start from here and read in the aggregated outputs."
   ]
  },
  {
   "cell_type": "code",
   "execution_count": null,
   "metadata": {},
   "outputs": [],
   "source": [
    "countries_geo = geopandas.read_file(\n",
    "    f\"{out_dir}/summary_stats/{run_name}/country_intros.gpkg\"\n",
    ")\n",
    "\n",
    "org_dest_all = pd.read_csv(f\"{out_dir}/summary_stats/{run_name}/org_dest_all.csv\")\n",
    "country_count = pd.read_csv(f\"{out_dir}/summary_stats/{run_name}/country_count.csv\")\n",
    "first_intros_all = pd.read_csv(\n",
    "    f\"{out_dir}/summary_stats/{run_name}/first_intros_all.csv\"\n",
    ")\n",
    "first_exports_all = pd.read_csv(\n",
    "    f\"{out_dir}/summary_stats/{run_name}/first_exports_all.csv\"\n",
    ")\n",
    "coi_first_intros_by_origin = pd.read_csv(\n",
    "    f\"{out_dir}/summary_stats/{run_name}/coi_first_intros_by_origin.csv\"\n",
    ")"
   ]
  },
  {
   "cell_type": "markdown",
   "metadata": {},
   "source": [
    "## Create plots: maps and other figures\n",
    "\n",
    "### Maps: \n",
    "\n",
    "What was the proportion of runs with introductions, for each country? "
   ]
  },
  {
   "cell_type": "code",
   "execution_count": null,
   "metadata": {},
   "outputs": [],
   "source": [
    "fig, ax = plt.subplots(1, 1, figsize=(12, 12))\n",
    "divider = make_axes_locatable(ax)\n",
    "cax = divider.append_axes(\"right\", size=\"2%\", pad=0.1)\n",
    "ax.set_title(\"Proportion of Runs with Introductions\\n\" + run_name, fontsize=18)\n",
    "countries_geo.plot(\n",
    "    column=\"intro_proportion\",\n",
    "    ax=ax,\n",
    "    legend=True,\n",
    "    legend_kwds={\"label\": \"proportion\"},\n",
    "    missing_kwds={\"color\": \"lightgrey\"},\n",
    "    cax=cax,\n",
    ")\n",
    "plt.savefig(results_dir + \"/figs/intro_proportion.png\")\n",
    "plt.show()"
   ]
  },
  {
   "cell_type": "markdown",
   "metadata": {},
   "source": [
    "What countries were introduction sources to the Country of Interest? How many total introductions were there from each, across runs?"
   ]
  },
  {
   "cell_type": "code",
   "execution_count": null,
   "metadata": {},
   "outputs": [],
   "source": [
    "fig, ax = plt.subplots(1, 1, figsize=(12, 12))\n",
    "divider = make_axes_locatable(ax)\n",
    "cax = divider.append_axes(\"right\", size=\"2%\", pad=0.1)\n",
    "ax.set_title(\"Introduction Sources for \" + coi + \"\\n\" + run_name, fontsize=18)\n",
    "countries_geo.plot(\n",
    "    column=\"COI source\",\n",
    "    ax=ax,\n",
    "    legend=True,\n",
    "    legend_kwds={\"label\": \"intro source count\"},\n",
    "    missing_kwds={\"color\": \"lightgrey\"},\n",
    "    cax=cax,\n",
    ")\n",
    "plt.savefig(results_dir + \"/figs/\" + coi + \"_intro_sources.png\")\n",
    "plt.show()"
   ]
  },
  {
   "cell_type": "markdown",
   "metadata": {},
   "source": [
    "What was the mean number of re-introductions to each country, cross runs?"
   ]
  },
  {
   "cell_type": "code",
   "execution_count": null,
   "metadata": {},
   "outputs": [],
   "source": [
    "fig, ax = plt.subplots(1, 1, figsize=(12, 12))\n",
    "divider = make_axes_locatable(ax)\n",
    "cax = divider.append_axes(\"right\", size=\"2%\", pad=0.1)\n",
    "ax.set_title(\"Number of Reintroductions (mean)\\n\" + run_name, fontsize=18)\n",
    "countries_geo.plot(\n",
    "    column=\"num_reintros_mean\",\n",
    "    ax=ax,\n",
    "    legend=True,\n",
    "    legend_kwds={\"label\": \"reintroductions\"},\n",
    "    missing_kwds={\"color\": \"lightgrey\"},\n",
    "    cax=cax,\n",
    ")\n",
    "plt.savefig(results_dir + \"/figs/num_reintros.png\")\n",
    "plt.show()"
   ]
  },
  {
   "cell_type": "markdown",
   "metadata": {},
   "source": [
    "The next several plots present the mean, min, max, and range of years of first introduction to each country:"
   ]
  },
  {
   "cell_type": "code",
   "execution_count": null,
   "metadata": {},
   "outputs": [],
   "source": [
    "countries_geo[\"arr_yr_mean\"] = countries_geo[\"arr_yr_mean\"].astype('Int64')\n",
    "\n",
    "fig, ax = plt.subplots(1, 1, figsize=(12, 12))\n",
    "plt.title(\"Year of First Introduction (mean)\\n\" + run_name, fontsize=18)\n",
    "countries_geo.plot(\n",
    "    column=\"arr_yr_mean\",\n",
    "    categorical=True,\n",
    "    cmap=\"viridis\",\n",
    "    legend=True,\n",
    "    ax=ax,\n",
    "    missing_kwds={\"color\": \"lightgrey\"},\n",
    "    legend_kwds={\"loc\": \"lower left\"},\n",
    ")\n",
    "plt.savefig(results_dir + \"/figs/first_intros_mean.png\")\n",
    "plt.show()"
   ]
  },
  {
   "cell_type": "code",
   "execution_count": null,
   "metadata": {},
   "outputs": [],
   "source": [
    "countries_geo[\"arr_yr_min\"] = countries_geo[\"arr_yr_min\"].astype('Int64')\n",
    "\n",
    "fig, ax = plt.subplots(1, 1, figsize=(12, 12))\n",
    "plt.title(\"Year of First Introduction (min)\\n\" + run_name, fontsize=18)\n",
    "countries_geo.plot(\n",
    "    column=\"arr_yr_min\",\n",
    "    categorical=True,\n",
    "    cmap=\"viridis\",\n",
    "    legend=True,\n",
    "    ax=ax,\n",
    "    missing_kwds={\"color\": \"lightgrey\"},\n",
    "    legend_kwds={\"loc\": \"lower left\"},\n",
    ")\n",
    "plt.savefig(results_dir + \"/figs/first_intros_min.png\")\n",
    "plt.show()"
   ]
  },
  {
   "cell_type": "code",
   "execution_count": null,
   "metadata": {},
   "outputs": [],
   "source": [
    "countries_geo[\"arr_yr_max\"] = countries_geo[\"arr_yr_max\"].astype('Int64')\n",
    "\n",
    "fig, ax = plt.subplots(1, 1, figsize=(12, 12))\n",
    "plt.title(\"Year of First Introduction (max)\\n\" + run_name, fontsize=18)\n",
    "countries_geo.plot(\n",
    "    column=\"arr_yr_max\",\n",
    "    categorical=True,\n",
    "    cmap=\"viridis\",\n",
    "    legend=True,\n",
    "    ax=ax,\n",
    "    missing_kwds={\"color\": \"lightgrey\"},\n",
    "    legend_kwds={\"loc\": \"lower left\"},\n",
    ")\n",
    "\n",
    "plt.savefig(results_dir + \"/figs/first_intros_max.png\")\n",
    "plt.show()"
   ]
  },
  {
   "cell_type": "code",
   "execution_count": null,
   "metadata": {},
   "outputs": [],
   "source": [
    "countries_geo[\"arr_yr_range\"] = countries_geo[\"arr_yr_range\"].astype('Int64')\n",
    "\n",
    "fig, ax = plt.subplots(1, 1, figsize=(12, 12))\n",
    "plt.title(\"Year of First Introduction (range)\\n\" + run_name, fontsize=18)\n",
    "countries_geo.plot(\n",
    "    column=\"arr_yr_range\",\n",
    "    categorical=True,\n",
    "    cmap=\"viridis\",\n",
    "    legend=True,\n",
    "    ax=ax,\n",
    "    missing_kwds={\"color\": \"lightgrey\"},\n",
    "    legend_kwds={\"loc\": \"lower left\"},\n",
    ")\n",
    "\n",
    "plt.savefig(results_dir + \"/figs/first_intros_range.png\")\n",
    "plt.show()"
   ]
  },
  {
   "cell_type": "markdown",
   "metadata": {},
   "source": [
    "The next two plots limit the visualizations to only include countries that received introductions in over 50% of the model runs:"
   ]
  },
  {
   "cell_type": "code",
   "execution_count": null,
   "metadata": {},
   "outputs": [],
   "source": [
    "fig, ax = plt.subplots(1, 1, figsize=(20, 20))\n",
    "divider = make_axes_locatable(ax)\n",
    "cax = divider.append_axes(\"right\", size=\"2%\", pad=0.1)\n",
    "ax.set_title(\"Portion of Runs with Introductions (>50%)\\n\" + run_name, fontsize=18)\n",
    "countries_geo[\"intro_proportion\"] = np.where(\n",
    "    countries_geo[\"intro_proportion\"] < 0.5, np.nan, countries_geo[\"intro_proportion\"]\n",
    ")\n",
    "countries_geo.plot(\n",
    "    column=\"intro_proportion\",\n",
    "    ax=ax,\n",
    "    legend=True,\n",
    "    legend_kwds={\"label\": \"proportion\"},\n",
    "    missing_kwds={\"color\": \"lightgrey\"},\n",
    "    cax=cax,\n",
    ")\n",
    "\n",
    "plt.savefig(\n",
    "    results_dir + \"/figs/intro_proportion_more50pct.png\",\n",
    "    bbox_inches=\"tight\",\n",
    "    pad_inches=0.01,\n",
    ")\n",
    "plt.show()"
   ]
  },
  {
   "cell_type": "code",
   "execution_count": null,
   "metadata": {},
   "outputs": [],
   "source": [
    "fig, ax = plt.subplots(1, 1, figsize=(20, 20))\n",
    "divider = make_axes_locatable(ax)\n",
    "cax = divider.append_axes(\"right\", size=\"2%\", pad=0.1)\n",
    "ax.set_title(\n",
    "    \"Mean Year of First Introduction (mean of runs with intros >50%)\\n\" + run_name,\n",
    "    fontsize=18,\n",
    ")\n",
    "countries_geo[\"arr_yr_mean\"] = np.where(\n",
    "    countries_geo[\"intro_proportion\"] < 0.5, np.nan, countries_geo[\"arr_yr_mean\"]\n",
    ")\n",
    "countries_geo.plot(\n",
    "    column=\"arr_yr_mean\",\n",
    "    categorical=True,\n",
    "    cmap=\"viridis\",\n",
    "    legend=True,\n",
    "    ax=ax,\n",
    "    missing_kwds={\"color\": \"lightgrey\"},\n",
    "    legend_kwds={\"loc\": \"lower left\"},\n",
    ")\n",
    "\n",
    "plt.savefig(\n",
    "    results_dir + \"/figs/first_intro_mean_more50pct.png\",\n",
    "    bbox_inches=\"tight\",\n",
    "    pad_inches=0.01,\n",
    ")\n",
    "plt.show()"
   ]
  },
  {
   "cell_type": "markdown",
   "metadata": {},
   "source": [
    "### Additional plots: histograms and heatmap of introductions by country source"
   ]
  },
  {
   "cell_type": "markdown",
   "metadata": {},
   "source": [
    "Assess bridgehead populations with a temporal heatmap:"
   ]
  },
  {
   "cell_type": "code",
   "execution_count": null,
   "metadata": {},
   "outputs": [],
   "source": [
    "destinations_all = list(set(first_intros_all[\"Destination\"]))\n",
    "min_intro_prop = 0.5\n",
    "destinations = []\n",
    "for i in range(len(destinations_all)):\n",
    "    if (\n",
    "        len(\n",
    "            first_intros_all.loc[first_intros_all[\"Destination\"] == destinations_all[i]]\n",
    "        )\n",
    "        > num_runs * min_intro_prop\n",
    "    ):\n",
    "        destinations.append(destinations_all[i])\n",
    "num_destinations = len(destinations)"
   ]
  },
  {
   "cell_type": "code",
   "execution_count": null,
   "metadata": {},
   "outputs": [],
   "source": [
    "# Count origins for each timestep\n",
    "origin_countries_by_ts = (\n",
    "    pd.DataFrame(index=countries.iloc[:, 0], columns=sim_years)\n",
    ").fillna(0)\n",
    "origins = (org_dest_all.groupby([\"Origin\", \"TS\"]).count()).reset_index().fillna(0)\n",
    "bridgehead_years = range(origins.TS.min(), origins.TS.max()+1)\n",
    "\n",
    "for i in range(len(origins)):\n",
    "    origin = origins.iloc[i, :]\n",
    "    origin_countries_by_ts.loc[origin.Origin, origin.TS] = origin.Destination"
   ]
  },
  {
   "cell_type": "code",
   "execution_count": null,
   "metadata": {},
   "outputs": [],
   "source": [
    "# Create heatmap of bridgehead introductions\n",
    "origin_countries_by_ts_filtered = origin_countries_by_ts[\n",
    "    origin_countries_by_ts.sum(axis=1) > 0][bridgehead_years].fillna(0)\n",
    "fig, ax = plt.subplots(figsize=(12, 8))\n",
    "plt.subplots_adjust(left=0.22, right=1, top=0.92)\n",
    "res = sns.heatmap(\n",
    "    origin_countries_by_ts_filtered.drop(native_countries_list, errors=\"ignore\"),\n",
    "    cmap=sns.color_palette(\"light:#31688e\", as_cmap=True),\n",
    "    linewidths=0.30,\n",
    "    annot=False,\n",
    "    cbar_kws={\"label\": f\"Total Outgoing Transmissions Over {num_runs} Model Runs\"},\n",
    ")\n",
    "plt.xticks(rotation = 90)\n",
    "plt.yticks(rotation = 0)\n",
    "res.set_xticklabels(res.get_xmajorticklabels(), fontsize=14)\n",
    "res.set_yticklabels(res.get_ymajorticklabels(), fontsize=14)\n",
    "ax.figure.axes[-1].yaxis.label.set_size(14)\n",
    "plt.title(\"Exports from Bridgehead Populations\", fontsize=20, pad=15)\n",
    "plt.ylabel(\"\")\n",
    "plt.xlabel(\"Year\", fontsize=14)\n",
    "\n",
    "plt.savefig(f\"{results_dir}/figs/bridgehead_sources.png\", dpi=600)\n",
    "plt.show()"
   ]
  },
  {
   "cell_type": "markdown",
   "metadata": {},
   "source": [
    "Histograms of introductions by year, for individual countries:"
   ]
  },
  {
   "cell_type": "code",
   "execution_count": null,
   "metadata": {},
   "outputs": [],
   "source": [
    "# Plot histograms of first intros by destination\n",
    "fig, axs = plt.subplots(\n",
    "    2, math.ceil(num_destinations / 2), sharey=True, sharex=True, figsize=(12, 6)\n",
    ")\n",
    "fig.subplots_adjust(hspace=0.35, wspace=0.15, top=0.82)\n",
    "fig.text(0.5, 0.04, \"year\", ha=\"center\", fontsize=16)\n",
    "fig.text(0.08, 0.5, \"model runs\", va=\"center\", rotation=\"vertical\", fontsize=18)\n",
    "axs = axs.ravel()\n",
    "\n",
    "if num_destinations % 2 != 0:\n",
    "    axs[-1].axis('off')\n",
    "\n",
    "for i in range(num_destinations):\n",
    "    axs[i].hist(\n",
    "        list(\n",
    "            first_intros_all.loc[\n",
    "                first_intros_all[\"Destination\"] == destinations[i], \"TS\"\n",
    "            ]\n",
    "        )\n",
    "    )\n",
    "    axs[i].set_title(destinations[i])\n",
    "plt.suptitle(\n",
    "    f\"\"\"{run_name} \\n Year of First Introduction by Destination\"\"\", fontsize=18\n",
    ")\n",
    "\n",
    "plt.savefig(f\"{results_dir}/figs/first_intro_by_destination.png\")\n",
    "plt.show()"
   ]
  },
  {
   "cell_type": "markdown",
   "metadata": {},
   "source": [
    "Write plots for each country to file only:"
   ]
  },
  {
   "cell_type": "code",
   "execution_count": null,
   "metadata": {},
   "outputs": [],
   "source": [
    "# Save separate plots for histograms of first intros by destination\n",
    "for i in range(num_destinations):\n",
    "    fig, ax = plt.subplots(1, figsize=(4, 3))\n",
    "    fig.subplots_adjust(left=0.27, top=0.76, bottom=0.21)\n",
    "    ax.hist(\n",
    "        list(\n",
    "            first_intros_all.loc[\n",
    "                first_intros_all[\"Destination\"] == destinations[i], \"TS\"\n",
    "            ]\n",
    "        ),\n",
    "        color=\"#31688e\",\n",
    "    )\n",
    "    ax.set_title(f\"\"\"{destinations[i]}\\nFirst Introduction Year\"\"\", fontsize=18, pad=14)\n",
    "    ax.set_xlabel(\"year\", fontsize=18)\n",
    "    ax.set_ylabel(\"% model runs\", fontsize=18)\n",
    "    ax.set_xlim(left=2005, right=2030)\n",
    "    ax.set_ylim(top=1000)\n",
    "    y_vals = ax.get_yticks()\n",
    "    ax.set_xticklabels([\"\", 2010, \"\", 2020, \"\", 2030], fontsize=16)\n",
    "    ax.set_yticklabels(\n",
    "        [\"{:3.0f}%\".format((x / 1000) * 100) for x in y_vals], fontsize=16\n",
    "    )\n",
    "    \n",
    "    plt.savefig(f\"{results_dir}/figs/{destinations[i]}_first_intros.png\")\n",
    "    plt.close()"
   ]
  },
  {
   "cell_type": "markdown",
   "metadata": {},
   "source": [
    "All introductions by country:"
   ]
  },
  {
   "cell_type": "code",
   "execution_count": null,
   "metadata": {},
   "outputs": [],
   "source": [
    "destinations_all = list(set(org_dest_all[\"Destination\"]))\n",
    "min_intro_prop = 0.5\n",
    "destinations = []\n",
    "for i in range(len(destinations_all)):\n",
    "    if (\n",
    "        len(org_dest_all.loc[org_dest_all[\"Destination\"] == destinations_all[i]])\n",
    "        > num_runs * min_intro_prop\n",
    "    ):\n",
    "        destinations.append(destinations_all[i])\n",
    "num_destinations = len(destinations)"
   ]
  },
  {
   "cell_type": "code",
   "execution_count": null,
   "metadata": {},
   "outputs": [],
   "source": [
    "# Plot histograms of all intros by destination\n",
    "fig, axs = plt.subplots(\n",
    "    2, math.ceil(num_destinations / 2), sharey=True, sharex=True, figsize=(12, 6)\n",
    ")\n",
    "fig.subplots_adjust(hspace=0.35, wspace=0.15, top=0.82)\n",
    "fig.text(0.5, 0.04, \"year\", ha=\"center\", fontsize=13)\n",
    "fig.text(0.08, 0.5, \"model runs\", va=\"center\", rotation=\"vertical\", fontsize=18)\n",
    "axs = axs.ravel()\n",
    "\n",
    "if num_destinations % 2 != 0:\n",
    "    axs[-1].axis('off')\n",
    "\n",
    "for i in range(num_destinations):\n",
    "    axs[i].hist(\n",
    "        list(org_dest_all.loc[org_dest_all[\"Destination\"] == destinations[i], \"TS\"])\n",
    "    )\n",
    "    axs[i].set_title(destinations[i])\n",
    "plt.suptitle(f\"\"\"{run_name} \\n Introductions by Destination\"\"\", fontsize=18)\n",
    "plt.savefig(f\"{results_dir}/figs/all_intros_by_destination.png\")\n",
    "plt.show()"
   ]
  },
  {
   "cell_type": "markdown",
   "metadata": {},
   "source": [
    "Save individual histograms to file:"
   ]
  },
  {
   "cell_type": "code",
   "execution_count": null,
   "metadata": {},
   "outputs": [],
   "source": [
    "# Save separate plots for histograms of all intros by destination\n",
    "for i in range(num_destinations):\n",
    "    fig, ax = plt.subplots(1, figsize=(4, 3))\n",
    "    fig.subplots_adjust(left=0.22, top=0.78, bottom=0.2)\n",
    "    ax.hist(\n",
    "        list(org_dest_all.loc[org_dest_all[\"Destination\"] == destinations[i], \"TS\"]),\n",
    "        color=\"#31688e\",\n",
    "    )\n",
    "    ax.set_title(f\"\"\"{destinations[i]}\\nIntroduction Year\"\"\", fontsize=18, pad=14)\n",
    "    ax.set_xlabel(\"year\", fontsize=18)\n",
    "    ax.set_ylabel(\"% model runs\", fontsize=18)\n",
    "    ax.set_xlim(left=2005, right=2030)\n",
    "    ax.set_ylim(top=1000)\n",
    "    y_vals = ax.get_yticks()\n",
    "    ax.set_xticklabels([\"\", 2010, \"\", 2020, \"\", 2030], fontsize=16)\n",
    "    ax.set_yticklabels(\n",
    "        [\"{:3.0f}%\".format((x / 1000) * 100) for x in y_vals], fontsize=16\n",
    "    )\n",
    "    plt.savefig(f\"{results_dir}/figs//{destinations[i]}_all_intros.png\")\n",
    "    plt.close()"
   ]
  },
  {
   "cell_type": "markdown",
   "metadata": {},
   "source": [
    "Introduction summaries for the country of interest:"
   ]
  },
  {
   "cell_type": "code",
   "execution_count": null,
   "metadata": {},
   "outputs": [],
   "source": [
    "# 10th Percentile\n",
    "def q10(x):\n",
    "    return x.quantile(0.1)\n",
    "\n",
    "\n",
    "coi_all_intros = org_dest_all[org_dest_all[\"Destination\"] == coi]\n",
    "\n",
    "# Save COI intros summaries\n",
    "coi_all_intros_by_origin_summary = coi_all_intros.groupby([\"Origin\"]).agg(\n",
    "    {\"TS\": [\"count\", q10, \"min\", \"mean\", \"median\", \"max\", \"std\"]}\n",
    ")\n",
    "coi_all_intros_by_origin_summary.to_csv(\n",
    "    f\"{out_dir}/summary_stats/{run_name}/all_intros_by_source_to_{coi}.csv\"\n",
    ")\n",
    "coi_first_intros_by_origin_summary = coi_first_intros_by_origin.groupby([\"Origin\"]).agg(\n",
    "    {\"TS\": [\"count\", \"min\", q10, \"mean\", \"median\", \"max\", \"std\"]}\n",
    ")\n",
    "coi_first_intros_by_origin_summary.to_csv(\n",
    "    f\"{out_dir}/summary_stats/{run_name}/first_intro_by_source_to_{coi}.csv\"\n",
    ")"
   ]
  },
  {
   "cell_type": "markdown",
   "metadata": {},
   "source": [
    "Save individual country histograms to file:"
   ]
  },
  {
   "cell_type": "code",
   "execution_count": null,
   "metadata": {},
   "outputs": [],
   "source": [
    "# Save separate plots for histograms of all COI first intros by origin\n",
    "coi_origins = list(set(coi_first_intros_by_origin.Origin))\n",
    "for i in range(len(coi_origins)):\n",
    "    fig, ax = plt.subplots(1, figsize=(4, 3))\n",
    "    fig.subplots_adjust(left=0.25, top=0.75, bottom=0.21, right=0.85)\n",
    "    ax.hist(\n",
    "        list(\n",
    "            coi_first_intros_by_origin.loc[\n",
    "                coi_first_intros_by_origin[\"Origin\"] == coi_origins[i], \"TS\"\n",
    "            ]\n",
    "        ),\n",
    "        color=\"#31688e\",\n",
    "    )\n",
    "    q10_value = q10(\n",
    "        coi_first_intros_by_origin.loc[\n",
    "            coi_first_intros_by_origin[\"Origin\"] == coi_origins[i], \"TS\"\n",
    "        ]\n",
    "    )\n",
    "    ax.axvline(q10_value, color=\"red\")\n",
    "    plt.text(q10_value - 2.2, 17.5, round(q10_value), rotation=90, fontsize=15)\n",
    "    ax.set_title(f\"\"\"{coi_origins[i]}\\nFirst Export to {coi}\"\"\", fontsize=18, pad=18)\n",
    "    ax.set_xlabel(\"year\", fontsize=18)\n",
    "    ax.set_ylabel(\"% model runs\", fontsize=18)\n",
    "    ax.set_xlim(left=2005, right=2030)\n",
    "    ax.set_ylim(top=25)\n",
    "    y_vals = ax.get_yticks()\n",
    "    ax.set_xticklabels([\"\", 2010, \"\", 2020, \"\", 2030], fontsize=16)\n",
    "    ax.set_yticklabels(\n",
    "        [\"{:3.1f}%\".format((x / 1000) * 100) for x in y_vals], fontsize=16\n",
    "    )\n",
    "    plt.savefig(\n",
    "        f\"{results_dir}/figs/{coi_origins[i]}_first_intros_to_{coi}.png\", dpi=300\n",
    "    )\n",
    "    plt.close()"
   ]
  }
 ],
 "metadata": {
  "interpreter": {
   "hash": "595f0950b0e640b7cc44dcd5d8e4045d59c1baaa1bb917ee0093ba5fe5fcdbda"
  },
  "kernelspec": {
   "display_name": "Python 3.8.13 ('Pandemic')",
   "language": "python",
   "name": "python3"
  },
  "language_info": {
   "codemirror_mode": {
    "name": "ipython",
    "version": 3
   },
   "file_extension": ".py",
   "mimetype": "text/x-python",
   "name": "python",
   "nbconvert_exporter": "python",
   "pygments_lexer": "ipython3",
   "version": "3.8.13"
  }
 },
 "nbformat": 4,
 "nbformat_minor": 2
}
