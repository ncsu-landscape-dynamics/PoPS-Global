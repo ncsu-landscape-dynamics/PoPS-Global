{
 "cells": [
  {
   "cell_type": "markdown",
   "metadata": {},
   "source": [
    "# Generate a Configuration File to Run the Pandemic Model\n",
    "\n",
    "This notebook creates a configuration file to run a particular model scenario. These values can also be defined in the run_model.ipynb "
   ]
  },
  {
   "cell_type": "markdown",
   "metadata": {},
   "source": [
    "## Imports"
   ]
  },
  {
   "cell_type": "code",
   "execution_count": null,
   "metadata": {},
   "outputs": [],
   "source": [
    "import os\n",
    "import json"
   ]
  },
  {
   "cell_type": "markdown",
   "metadata": {},
   "source": [
    "## Load Environment Variables and Set Paths"
   ]
  },
  {
   "cell_type": "code",
   "execution_count": null,
   "metadata": {},
   "outputs": [],
   "source": [
    "# Provide file paths to where .env file is saved and load file\n",
    "project_path = str(input())"
   ]
  },
  {
   "cell_type": "code",
   "execution_count": null,
   "metadata": {},
   "outputs": [],
   "source": [
    "# Read environmental variables\n",
    "env_file = os.path.join(project_path, '.env') \n",
    "dotenv.load_dotenv(env_file)\n",
    "\n",
    "data_dir = os.getenv('DATA_PATH')\n",
    "input_dir = os.getenv('INPUT_PATH')\n",
    "out_dir = os.getenv('OUTPUT_PATH')"
   ]
  },
  {
   "cell_type": "markdown",
   "metadata": {},
   "source": [
    "## Define Argument Values"
   ]
  },
  {
   "cell_type": "code",
   "execution_count": null,
   "metadata": {},
   "outputs": [],
   "source": [
    "args = {}"
   ]
  },
  {
   "cell_type": "markdown",
   "metadata": {},
   "source": [
    "### Commodity Data"
   ]
  },
  {
   "cell_type": "code",
   "execution_count": null,
   "metadata": {},
   "outputs": [],
   "source": [
    "# Which temporal resolution, commodities or aggregation should be used\n",
    "# for historical trade data:\n",
    "commodity_data_path = os.path.join(input_dir, \"/monthly_agg/\")\n",
    "\n",
    "# Which matching temporal resoultion, commodities, and aggregation should\n",
    "# be used for forecated trade data. If no forecast is desired, set argument\n",
    "# to None.\n",
    "commodity_forecast_path = os.path.join(input_dir, \"trade_forecast/monthly_agg/6801-6804\")\n",
    "\n",
    "args[\"commodity_path\"] = commodity_data_path\n",
    "args[\"commodity_forecast_path\"] = commodity_forecast_path"
   ]
  },
  {
   "cell_type": "markdown",
   "metadata": {},
   "source": [
    "### Pest Native to Which Countries?"
   ]
  },
  {
   "cell_type": "code",
   "execution_count": null,
   "metadata": {},
   "outputs": [],
   "source": [
    "# Countries where the pest is native or present at first time step of the model run\n",
    "args[\"native_countries_list\"] = [\"China\", \"India\"]"
   ]
  },
  {
   "cell_type": "markdown",
   "metadata": {},
   "source": [
    "### During which months can the pest be present in the shipment?"
   ]
  },
  {
   "cell_type": "code",
   "execution_count": null,
   "metadata": {},
   "outputs": [],
   "source": [
    "# List of months when pest can be transported\n",
    "args[\"season_dict\"] = {\n",
    "    \"NH_season\": [\"09\", \"10\", \"11\", \"12\", \"01\", \"02\", \"03\", \"04\"],\n",
    "    \"SH_season\": [\"04\", \"05\", \"06\", \"07\", \"08\", \"09\", \"10\"],\n",
    "}"
   ]
  },
  {
   "cell_type": "markdown",
   "metadata": {},
   "source": [
    "### Model Parameter Values"
   ]
  },
  {
   "cell_type": "code",
   "execution_count": null,
   "metadata": {},
   "outputs": [],
   "source": [
    "# model parameter values\n",
    "args[\"alpha\"] = 0.28\n",
    "args[\"beta\"] = 0.5\n",
    "args[\"mu\"] = 0.0\n",
    "args[\"lamda_c_list\"] = [1]  # list length matches number of commodities\n",
    "args[\"phi\"] = 1\n",
    "args[\"sigma_epsilon\"] = 0.5\n",
    "args[\"sigma_phi\"] = 1\n",
    "args[\"start_year\"] = 2000\n",
    "args[\"transmission_lag_unit\"] = \"year\"\n",
    "args[\"transmission_lag_type\"] = \"stochastic\"  # can be static, stochastic or none\n",
    "args[\"time_to_infectivity\"] = None\n",
    "args[\"transmission_lag_shape\"] = 4  # only for lag type stochastic\n",
    "args[\"transmission_lag_scale\"] = 1  # only for lag type stochastic\n",
    "args[\"random_seed\"] = None"
   ]
  },
  {
   "cell_type": "markdown",
   "metadata": {},
   "source": [
    "## Write and save configuration file"
   ]
  },
  {
   "cell_type": "code",
   "execution_count": null,
   "metadata": {},
   "outputs": [],
   "source": [
    "# What should this model scenario be called\n",
    "sim_name = 'slf'\n",
    "\n",
    "# What additional description defines this scenario\n",
    "# e.g., specific parameter/value of interest + commodity range\n",
    "add_descript = 'gamma4-1_6801-6804_v2'"
   ]
  },
  {
   "cell_type": "code",
   "execution_count": null,
   "metadata": {},
   "outputs": [],
   "source": [
    "config_json_path = f\"{out_dir}/config_files/{sim_name}_{add_descript}/config.json\"\n",
    "\n",
    "if not os.path.exists(os.path.split(config_json_path)[0]):\n",
    "    os.makedirs(os.path.split(config_json_path)[0])\n",
    "\n",
    "with open(config_json_path, \"w\") as file:\n",
    "    json.dump(args, file, indent=4)\n",
    "\n",
    "print(\"\\tSaved \", config_json_path)"
   ]
  }
 ],
 "metadata": {
  "kernelspec": {
   "display_name": "Python 3",
   "language": "python",
   "name": "python3"
  },
  "language_info": {
   "codemirror_mode": {
    "name": "ipython",
    "version": 3
   },
   "file_extension": ".py",
   "mimetype": "text/x-python",
   "name": "python",
   "nbconvert_exporter": "python",
   "pygments_lexer": "ipython3",
   "version": "3.7.9"
  }
 },
 "nbformat": 4,
 "nbformat_minor": 4
}
