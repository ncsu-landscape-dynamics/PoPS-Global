{
 "cells": [
  {
   "cell_type": "markdown",
   "metadata": {},
   "source": [
    "# Create Environment Variables File for PoPS Global Model"
   ]
  },
  {
   "cell_type": "code",
   "execution_count": null,
   "metadata": {},
   "outputs": [],
   "source": [
    "import os\n",
    "from getpass import getpass"
   ]
  },
  {
   "cell_type": "markdown",
   "metadata": {},
   "source": [
    "## Name your configuration scenario"
   ]
  },
  {
   "cell_type": "code",
   "execution_count": null,
   "metadata": {},
   "outputs": [],
   "source": [
    "# What should this model scenario be called\n",
    "short_name = \"slf\"\n",
    "\n",
    "# What additional description defines this scenario\n",
    "# e.g., specific parameter/value of interest + commodity range\n",
    "add_descript = \"emsemble\"\n",
    "\n",
    "sim_name = f\"{short_name}_{add_descript}\"\n"
   ]
  },
  {
   "cell_type": "markdown",
   "metadata": {},
   "source": [
    "## Provide API keys for data acquisition"
   ]
  },
  {
   "cell_type": "code",
   "execution_count": null,
   "metadata": {},
   "outputs": [],
   "source": [
    "# Input UN Comtrade premium API key if required\n",
    "comtrade_auth_key = getpass()"
   ]
  },
  {
   "cell_type": "code",
   "execution_count": null,
   "metadata": {},
   "outputs": [],
   "source": [
    "# If notebook was launched from notebook folder of the clone GitHub\n",
    "# repository, then set working directory to level above\n",
    "# (e.g., '..' to navigate to /PoPS-Global)\n",
    "repo_path = '..'\n",
    "os.chdir(repo_path)\n",
    "print(os.getcwd())"
   ]
  },
  {
   "cell_type": "markdown",
   "metadata": {},
   "source": [
    "## Define file paths where data will be loaded and saved"
   ]
  },
  {
   "cell_type": "code",
   "execution_count": null,
   "metadata": {},
   "outputs": [],
   "source": [
    "# Provide file paths to where data will be saved\n",
    "project_dir = str(input())"
   ]
  },
  {
   "cell_type": "code",
   "execution_count": null,
   "metadata": {},
   "outputs": [],
   "source": [
    "# Create directories for raw data, inputs, and outputs\n",
    "# Path to case-study specific raw data inputs (host map, phytosanitary capacity dataset)\n",
    "data_dir = project_dir + \"/Data/\"\n",
    "\n",
    "# Path to formatted model inputs\n",
    "input_dir = project_dir + \"/inputs/\"\n",
    "\n",
    "# Path to save outputs\n",
    "out_dir = project_dir + \"/outputs/\"\n"
   ]
  },
  {
   "cell_type": "code",
   "execution_count": null,
   "metadata": {},
   "outputs": [],
   "source": [
    "# Confirm all directories exist:\n",
    "dir_list = [data_dir, input_dir, out_dir]\n",
    "for d in dir_list:\n",
    "    if not os.path.exists(d):\n",
    "        print(f\"ERROR:\\t{d} does not exist, creating directory...\")\n",
    "        os.makedirs(d)\n",
    "    else:\n",
    "        print(f\"Confirmed:\\t{d}\")"
   ]
  },
  {
   "cell_type": "code",
   "execution_count": null,
   "metadata": {},
   "outputs": [],
   "source": [
    "with open(\".env\", \"w\") as f:\n",
    "    f.write(f\"COMTRADE_AUTH_KEY={comtrade_auth_key}\\n\")\n",
    "    f.write(f\"PROJECT_PATH='{project_dir}'\\n\")\n",
    "    f.write(f\"DATA_PATH='{data_dir}'\\n\")\n",
    "    f.write(f\"INPUT_PATH='{input_dir}'\\n\")\n",
    "    f.write(f\"OUTPUT_PATH='{out_dir}'\\n\")\n",
    "    f.write(f\"SIM_NAME='{sim_name}'\\n\")\n",
    "    f.close()"
   ]
  },
  {
   "cell_type": "code",
   "execution_count": null,
   "metadata": {},
   "outputs": [],
   "source": []
  }
 ],
 "metadata": {
  "interpreter": {
   "hash": "595f0950b0e640b7cc44dcd5d8e4045d59c1baaa1bb917ee0093ba5fe5fcdbda"
  },
  "kernelspec": {
   "display_name": "Python 3.8.13 ('Pandemic')",
   "language": "python",
   "name": "python3"
  },
  "language_info": {
   "codemirror_mode": {
    "name": "ipython",
    "version": 3
   },
   "file_extension": ".py",
   "mimetype": "text/x-python",
   "name": "python",
   "nbconvert_exporter": "python",
   "pygments_lexer": "ipython3",
   "version": "3.8.13"
  }
 },
 "nbformat": 4,
 "nbformat_minor": 4
}
