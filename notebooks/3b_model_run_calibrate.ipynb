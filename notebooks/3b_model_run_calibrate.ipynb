{
 "cells": [
  {
   "cell_type": "markdown",
   "metadata": {},
   "source": [
    "# PoPS Global Model: Calibration \n",
    "Use this notebook to run and evaluate a parameter grid-search. This calibration process will use the parameter ranges defined in notebook 2 to generate a grid of parameter samples. The results of multiple stochastic model runs from each parameter set are then evaluated, and top performing sets are sampled in notebook 3c to generate a forecast. \n",
    "\n",
    "This notebook can be run after 0, 1, and 2. We recommend also running 3a first, to check for and troubleshoot issues."
   ]
  },
  {
   "cell_type": "code",
   "execution_count": null,
   "metadata": {},
   "outputs": [],
   "source": [
    "import os\n",
    "import dotenv\n",
    "import json\n",
    "\n",
    "import pandas as pd\n",
    "import numpy as np\n",
    "import itertools\n",
    "\n",
    "import matplotlib.pyplot as plt\n",
    "import seaborn as sns"
   ]
  },
  {
   "cell_type": "markdown",
   "metadata": {},
   "source": [
    "## Set up workspace from env and configuration files \n",
    "\n",
    "Navigate to main repository."
   ]
  },
  {
   "cell_type": "code",
   "execution_count": null,
   "metadata": {},
   "outputs": [],
   "source": [
    "# Navigate one level up to the main repository\n",
    "os.chdir(\"..\")"
   ]
  },
  {
   "cell_type": "markdown",
   "metadata": {},
   "source": [
    "Import needed PoPS Global functions."
   ]
  },
  {
   "cell_type": "code",
   "execution_count": null,
   "metadata": {},
   "outputs": [],
   "source": [
    "from pandemic.multirun_helpers import write_commands"
   ]
  },
  {
   "cell_type": "markdown",
   "metadata": {},
   "source": [
    "Read in path variables from .env."
   ]
  },
  {
   "cell_type": "code",
   "execution_count": null,
   "metadata": {},
   "outputs": [],
   "source": [
    "# Read environmental variables\n",
    "env_file = os.path.join(\".env\")\n",
    "dotenv.load_dotenv(env_file)\n",
    "\n",
    "input_dir = os.getenv(\"INPUT_PATH\")\n",
    "out_dir = os.getenv(\"OUTPUT_PATH\")"
   ]
  },
  {
   "cell_type": "markdown",
   "metadata": {},
   "source": [
    "Read in parameter variables from config.json."
   ]
  },
  {
   "cell_type": "code",
   "execution_count": null,
   "metadata": {},
   "outputs": [],
   "source": [
    "with open(\"config.json\") as json_file:\n",
    "    config = json.load(json_file)\n",
    "\n",
    "run_name = config[\"sim_name\"]\n",
    "\n",
    "# Read in parameters to calibrate\n",
    "\n",
    "alphas = config[\"alphas\"]\n",
    "betas = config[\"betas\"]\n",
    "lamdas = config[\"lamdas\"]\n",
    "start_years = config[\"start_years\"]\n",
    "\n",
    "start_run = config[\"start_run\"]\n",
    "end_run = config[\"end_run\"]"
   ]
  },
  {
   "cell_type": "markdown",
   "metadata": {},
   "source": [
    "## Run Model in parallel\n",
    "\n",
    "Run the model over a range of parameter values to perform the calibration grid search. The model runs are \n",
    "sent using command line and are run in parallel. The results will print out after each command is run. \n",
    "\n",
    "The below commands create a list of all possible parameter combinations, and write out each as a command. "
   ]
  },
  {
   "cell_type": "code",
   "execution_count": null,
   "metadata": {},
   "outputs": [],
   "source": [
    "# Create all parameter combinations\n",
    "\n",
    "param_list = [alphas, betas, lamdas, start_years]\n",
    "param_sets = list(itertools.product(*param_list))\n",
    "\n",
    "# Write out commands\n",
    "\n",
    "commands_calibrate = \"\"\n",
    "\n",
    "for set in param_sets:\n",
    "    commands_calibrate += write_commands(\n",
    "        set, start_run=start_run, end_run=end_run, run_type=\"calibrate\"\n",
    "    )"
   ]
  },
  {
   "cell_type": "markdown",
   "metadata": {},
   "source": [
    "If you will run on HPC or later, write these to file (un-comment the below code)."
   ]
  },
  {
   "cell_type": "code",
   "execution_count": null,
   "metadata": {},
   "outputs": [],
   "source": [
    "# f1 = open(input_dir + \"/commands_calibrate.txt\", 'w')\n",
    "# f1.write(commands_calibrate)\n",
    "# f1.close()"
   ]
  },
  {
   "cell_type": "markdown",
   "metadata": {},
   "source": [
    "Run the cell below to execute all model runs. These must complete before you can calculate the summary \n",
    "statistics. If you have set a wide range of parameter sets or have indicated many model runs, this may \n",
    "take some time (approximately 2 - 5 minutes per run per core, depending on your computer and number of \n",
    "time-steps in your simulation), so prepare accordingly!\n",
    "\n",
    "If you need to stop and start, please see: (need to write something up for run-check)"
   ]
  },
  {
   "cell_type": "code",
   "execution_count": null,
   "metadata": {},
   "outputs": [],
   "source": [
    "# Run the model from script\n",
    "\n",
    "for command in commands_calibrate.split('\\n'):\n",
    "    print(f\"Running command: {command}\")\n",
    "    ! {command}\n"
   ]
  },
  {
   "cell_type": "markdown",
   "metadata": {},
   "source": [
    "These runs will write out to \"outputs/{run_name}_calibrate/\". \n",
    "\n",
    "Calculate summary statistics on completed runs. This is also run in parallel, so time will vary depending\n",
    "on how many cores you use. If you have many runs or many parameter samples, this may take some time as \n",
    "well (approximately 1 hour per 50,000 runs included, when run on 8 cores)."
   ]
  },
  {
   "cell_type": "code",
   "execution_count": null,
   "metadata": {},
   "outputs": [],
   "source": [
    "# Calculate summary statistics\n",
    "\n",
    "! python pandemic/get_stats.py calibrate"
   ]
  },
  {
   "cell_type": "markdown",
   "metadata": {},
   "source": [
    "## Evaluate grid performance\n",
    "F-beta is the primary metric used to evaluate model run performance. The below visualizations help \n",
    "evaluate parameter sample convergence and performance according to this metric."
   ]
  },
  {
   "cell_type": "code",
   "execution_count": null,
   "metadata": {},
   "outputs": [],
   "source": [
    "stats_dir = f\"{out_dir}/summary_stats/{run_name}_calibrate\"\n",
    "\n",
    "validation_df = pd.read_csv(\n",
    "    input_dir + \"/first_records_validation.csv\", header=0, index_col=0,\n",
    ")\n",
    "\n",
    "col_dict = {\n",
    "    \"start_max\": \"start\",\n",
    "    \"alpha_max\": \"alpha\",\n",
    "    \"beta_max\": \"beta\",\n",
    "    \"lamda_max\": \"lamda\",\n",
    "    \"count_known_countries_time_window_fbeta_mean\": \"fbeta\",\n",
    "}\n",
    "\n",
    "agg_df = pd.read_csv(f\"{stats_dir}/summary_stats_bySample.csv\").rename(columns=col_dict)\n",
    "stats = pd.read_csv(\n",
    "    f\"{stats_dir}/summary_stats_wPrecisionRecallF1FBetaAggProb.csv\"\n",
    ").rename(columns=col_dict)"
   ]
  },
  {
   "cell_type": "markdown",
   "metadata": {},
   "source": [
    "### Data visualization \n",
    "\n",
    "- Assess run convergence: Evaluate the top performing parameter samples to see if the F-beta score has \n",
    "converged. If it hasn't converged, you may need to conduct more runs. You can include additional runs \n",
    "by updating the start_run (to continue after previous end_run), end_run, and run_count. \n",
    "- Assess parameter set performance: Visualize F-beta across values for alpha, lamda, beta, and start \n",
    "year. Highest performing values should generally cluster towards a limited range for each parameter. \n",
    "If the highest performing values are at an extreme of a parameter range (e.g. at the highest end of \n",
    "lamda, at the earliest year), you may need to expand your grid search. "
   ]
  },
  {
   "cell_type": "markdown",
   "metadata": {},
   "source": [
    "#### Assess run convergence\n",
    "Do the individual lines (parameter samples) sufficiently converge with respect to F-beta over the \n",
    "number of runs conducted, or are more runs needed?"
   ]
  },
  {
   "cell_type": "code",
   "execution_count": null,
   "metadata": {},
   "outputs": [],
   "source": [
    "# Top N parameter samples\n",
    "\n",
    "n_samples = 20\n",
    "\n",
    "top_runs = agg_df.sort_values(\"fbeta\", ascending=False).head(n_samples)\n",
    "fbeta_range = [min(top_runs.fbeta) * 0.75, max(top_runs.fbeta) * 1.25]"
   ]
  },
  {
   "cell_type": "markdown",
   "metadata": {},
   "source": [
    "Calculate the performance of each sample with each additional run."
   ]
  },
  {
   "cell_type": "code",
   "execution_count": null,
   "metadata": {},
   "outputs": [],
   "source": [
    "samples = list(\n",
    "    agg_df.sort_values(\"fbeta\", ascending=False).head(n_samples).reset_index()[\"sample\"]\n",
    ")\n",
    "runs = list(range(0, stats[\"run_num\"].max()+1))\n",
    "\n",
    "samples_df = pd.DataFrame({\"runs\": runs})\n",
    "i = 1\n",
    "for sample in samples:\n",
    "    sample_fbeta = []\n",
    "    stdev = []\n",
    "    sterr = []\n",
    "    for run in runs:\n",
    "        filtered_stats = stats.loc[\n",
    "            (stats[\"run_num\"] <= run) & (stats[\"sample\"] == sample)\n",
    "        ]\n",
    "        value = filtered_stats[\"count_known_countries_time_window_fbeta\"].mean()\n",
    "        sdev = filtered_stats[\"count_known_countries_time_window_fbeta\"].std()\n",
    "        # this gives the standard deviation of the sample - mean\n",
    "        sample_fbeta.append(value)\n",
    "        stdev.append(sdev)\n",
    "        sterr.append(np.std(sample_fbeta))\n",
    "        # this gives the standard error of the mean\n",
    "    samples_df[f\"sample {i}\"] = sample_fbeta\n",
    "    samples_df[f\"stdev {i}\"] = stdev\n",
    "    samples_df[f\"sterr {i}\"] = sterr\n",
    "    i += 1\n",
    "\n",
    "samples_df.set_index(\"runs\", inplace=True)\n",
    "samples_df[\"all samples\"] = samples_df.mean(axis=1)"
   ]
  },
  {
   "cell_type": "markdown",
   "metadata": {},
   "source": [
    "Plot to visualize."
   ]
  },
  {
   "cell_type": "code",
   "execution_count": null,
   "metadata": {},
   "outputs": [],
   "source": [
    "plt.style.use(\"ggplot\")\n",
    "\n",
    "ax = samples_df.loc[:, \"sample 1\":f\"sample {n_samples}\":3].plot(\n",
    "    ylim=fbeta_range,\n",
    "    cmap=\"mako\",\n",
    "    ylabel=\"fbeta\",\n",
    "    title=\"Mean fbeta convergence \\n for the top 20 parameter samples\",\n",
    "    legend=False,\n",
    ")\n",
    "for i in range(1, len(samples)):\n",
    "    ax.fill_between(\n",
    "        samples_df.index,\n",
    "        samples_df[f\"sample {i}\"] + samples_df[f\"sterr {i}\"],\n",
    "        samples_df[f\"sample {i}\"] - samples_df[f\"sterr {i}\"],\n",
    "        color=\"#366da0\",\n",
    "        alpha=0.15,\n",
    "    )\n",
    "ax.set_xlabel(\"# of Runs\", fontsize=16)\n",
    "ax.set_ylabel(\"Fbeta mean\", fontsize=16)\n",
    "ax.tick_params(labelsize=13)\n",
    "plt.savefig(f\"{stats_dir}/run_convergence.png\")\n",
    "plt.show()"
   ]
  },
  {
   "cell_type": "markdown",
   "metadata": {},
   "source": [
    "#### Assessing parameter set performance \n",
    "Once you have estalished that the sample F-beta has converged, you can assess the overall performance \n",
    "of different parameter sets to identify the highest performing sets. These visuals an also help you \n",
    "identify issues in your parameter sampling range. For instance, if your highest performing parameter \n",
    "samples all have the maximum lamda value in your sample range, you may need to increase the upper \n",
    "bounds of the values for that parameter."
   ]
  },
  {
   "cell_type": "code",
   "execution_count": null,
   "metadata": {},
   "outputs": [],
   "source": [
    "sns.set_context(font_scale=5)"
   ]
  },
  {
   "cell_type": "markdown",
   "metadata": {},
   "source": [
    "Because there are multiple parameters, we use a series of faceted plots to visualize F-beta \n",
    "across each dimension.\n",
    "\n",
    "Sample performance (F-beta) by alpha value:"
   ]
  },
  {
   "cell_type": "code",
   "execution_count": null,
   "metadata": {},
   "outputs": [],
   "source": [
    "ax = sns.stripplot(\n",
    "    x=\"alpha\",\n",
    "    y=\"fbeta\",\n",
    "    hue=\"start\",\n",
    "    palette=\"mako\",\n",
    "    linewidth=0.2,\n",
    "    data=agg_df,\n",
    "    jitter=0.4,\n",
    "    alpha=0.8,\n",
    ")\n",
    "handles, labels = ax.get_legend_handles_labels()\n",
    "ax.legend(\n",
    "    handles[::-1],\n",
    "    labels[::-1],\n",
    "    bbox_to_anchor=(1.25, 1),\n",
    "    loc=\"upper right\",\n",
    "    borderaxespad=0,\n",
    "    title=\"start year\",\n",
    ")\n",
    "ax.set(ylim=(0, 1))\n",
    "ax.axes.set_title(\"Mean Sample Fbeta, by Alpha Value\\n (Color = Year)\", fontsize=16)\n",
    "ax.set_xlabel(\"Alpha\", fontsize=16)\n",
    "ax.set_ylabel(\"Fbeta mean\", fontsize=16)\n",
    "ax.tick_params(labelsize=13)\n",
    "plt.setp(ax.get_legend().get_texts(), fontsize=\"15\")  # for legend text\n",
    "plt.setp(ax.get_legend().get_title(), fontsize=\"15\")  # for legend title\n",
    "plt.savefig(f\"{stats_dir}/mean_fbeta_alpha.png\", bbox_inches=\"tight\")\n",
    "plt.show()"
   ]
  },
  {
   "cell_type": "markdown",
   "metadata": {},
   "source": [
    "Sample performance by lamda value: "
   ]
  },
  {
   "cell_type": "code",
   "execution_count": null,
   "metadata": {},
   "outputs": [],
   "source": [
    "ax = sns.scatterplot(\n",
    "    x=\"lamda\",\n",
    "    y=\"fbeta\",\n",
    "    hue=\"start\",\n",
    "    data=agg_df,\n",
    "    palette=\"mako\",\n",
    "    edgecolor=\"black\",\n",
    "    linewidth=0.2,\n",
    "    legend=\"full\",\n",
    "    alpha=0.8\n",
    ")\n",
    "ax.set(ylim=(0, 1))\n",
    "handles, labels = ax.get_legend_handles_labels()\n",
    "ax.legend(\n",
    "    handles[::-1],\n",
    "    labels[::-1],\n",
    "    bbox_to_anchor=(1.25, 1),\n",
    "    loc=\"upper right\",\n",
    "    borderaxespad=0,\n",
    "    title=\"start year\",\n",
    ")\n",
    "ax.axes.set_title(\"Mean Sample Fbeta, by Lambda Value\\n (Color = Year)\", fontsize=16)\n",
    "ax.set_xlabel(\"Lambda\", fontsize=16)\n",
    "ax.set_ylabel(\"Fbeta mean\", fontsize=16)\n",
    "ax.tick_params(labelsize=13)\n",
    "plt.setp(ax.get_legend().get_texts(), fontsize=\"15\")  # for legend text\n",
    "plt.setp(ax.get_legend().get_title(), fontsize=\"15\")  # for legend title\n",
    "plt.savefig(f\"{stats_dir}/mean_fbeta_lambda.png\", bbox_inches=\"tight\")\n",
    "plt.show()"
   ]
  },
  {
   "cell_type": "markdown",
   "metadata": {},
   "source": [
    "Sample performance by beta value:"
   ]
  },
  {
   "cell_type": "code",
   "execution_count": null,
   "metadata": {},
   "outputs": [],
   "source": [
    "ax = sns.scatterplot(\n",
    "    x=\"beta\",\n",
    "    y=\"fbeta\",\n",
    "    hue=\"start\",\n",
    "    data=agg_df,\n",
    "    palette=\"mako\",\n",
    "    edgecolor=\"black\",\n",
    "    linewidth=0.2,\n",
    "    legend=\"full\",\n",
    "    alpha=0.8\n",
    ")\n",
    "ax.set(ylim=(0, 1))\n",
    "handles, labels = ax.get_legend_handles_labels()\n",
    "ax.legend(\n",
    "    handles[::-1],\n",
    "    labels[::-1],\n",
    "    bbox_to_anchor=(1.25, 1),\n",
    "    loc=\"upper right\",\n",
    "    borderaxespad=0,\n",
    "    title=\"start year\",\n",
    ")\n",
    "ax.axes.set_title(\"Mean Sample Fbeta, by Lambda Value\\n (Color = Year)\", fontsize=16)\n",
    "ax.set_xlabel(\"Lambda\", fontsize=16)\n",
    "ax.set_ylabel(\"Fbeta mean\", fontsize=16)\n",
    "ax.tick_params(labelsize=13)\n",
    "plt.setp(ax.get_legend().get_texts(), fontsize=\"15\")  # for legend text\n",
    "plt.setp(ax.get_legend().get_title(), fontsize=\"15\")  # for legend title\n",
    "plt.savefig(f\"{stats_dir}/mean_fbeta_lambda.png\", bbox_inches=\"tight\")\n",
    "plt.show()"
   ]
  },
  {
   "cell_type": "markdown",
   "metadata": {},
   "source": [
    "Sample performance by start year:"
   ]
  },
  {
   "cell_type": "code",
   "execution_count": null,
   "metadata": {},
   "outputs": [],
   "source": [
    "ax = sns.stripplot(\n",
    "    x=\"start\",\n",
    "    y=\"fbeta\",\n",
    "    hue=\"alpha\",\n",
    "    palette=\"mako\",\n",
    "    linewidth=0.2,\n",
    "    data=agg_df,\n",
    "    jitter=0.3,\n",
    "    alpha=0.8,\n",
    ")\n",
    "handles, labels = ax.get_legend_handles_labels()\n",
    "ax.legend(\n",
    "    handles[::-1],\n",
    "    labels[::-1],\n",
    "    bbox_to_anchor=(1.25, 1),\n",
    "    loc=\"upper right\",\n",
    "    borderaxespad=0,\n",
    "    title=\"alpha\",\n",
    ")\n",
    "ax.set(ylim=(0, 1))\n",
    "ax.axes.set_title(\"Mean Sample Fbeta, by Start Year\\n (Color = Alpha)\", fontsize=16)\n",
    "ax.set_xlabel(\"Start year\", fontsize=16)\n",
    "ax.set_ylabel(\"Fbeta mean\", fontsize=16)\n",
    "plt.setp(ax.get_legend().get_texts(), fontsize=\"15\")  # for legend text\n",
    "plt.setp(ax.get_legend().get_title(), fontsize=\"15\")  # for legend title\n",
    "plt.savefig(f\"{stats_dir}/mean_fbeta_start.png\", bbox_inches=\"tight\")\n",
    "plt.show()"
   ]
  },
  {
   "cell_type": "markdown",
   "metadata": {},
   "source": [
    "## Next: Model run - Forecast\n",
    "\n",
    "If you are satisfied with the convergence and the parameter performance in the range of your grid, \n",
    "you can use these values to fit a parameter distribution that will be sampled from to conduct \n",
    "the forecast. "
   ]
  }
 ],
 "metadata": {
  "interpreter": {
   "hash": "595f0950b0e640b7cc44dcd5d8e4045d59c1baaa1bb917ee0093ba5fe5fcdbda"
  },
  "kernelspec": {
   "display_name": "Python 3.8.13 ('Pandemic')",
   "language": "python",
   "name": "python3"
  },
  "language_info": {
   "codemirror_mode": {
    "name": "ipython",
    "version": 3
   },
   "file_extension": ".py",
   "mimetype": "text/x-python",
   "name": "python",
   "nbconvert_exporter": "python",
   "pygments_lexer": "ipython3",
   "version": "3.8.13"
  }
 },
 "nbformat": 4,
 "nbformat_minor": 2
}
